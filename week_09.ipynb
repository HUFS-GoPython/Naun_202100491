{
  "nbformat": 4,
  "nbformat_minor": 0,
  "metadata": {
    "colab": {
      "name": "week09",
      "provenance": [],
      "collapsed_sections": []
    },
    "kernelspec": {
      "name": "python3",
      "display_name": "Python 3"
    },
    "language_info": {
      "name": "python"
    }
  },
  "cells": [
    {
      "cell_type": "markdown",
      "source": [
        "##Dictionary\n",
        "- 영어 사전과 같은 형태\n",
        " - 단어: 뜻\n",
        " - 키: 값\n",
        " - 순서가 없음 => 인덱싱 불가능\n",
        " - \"키\"로 값을 찾는다.\n",
        "   - 키는 중복되지 않는 고유한 값\n",
        " - 가변타입 -> 수정, 삭제, 추가 가능\n",
        " - 타입: dict\n",
        " - 형변환: 'dict()'\n",
        " - 중괄호 사용 {}, 콤마로 구분함\n",
        " - 값에 다양한 자료구조가 올 수 있음\n",
        "  - ex) a:1, a:[1, 2, 3, 4] \n"
      ],
      "metadata": {
        "id": "88Xs92WRRok-"
      }
    },
    {
      "cell_type": "code",
      "source": [
        "empty = dict()\n",
        "empty = {}\n",
        "#set 도 {}사용\n",
        "empty = {} #dict\n",
        "empty = set() #set\n",
        "type(empty)"
      ],
      "metadata": {
        "colab": {
          "base_uri": "https://localhost:8080/"
        },
        "id": "TmkztZxYSZgG",
        "outputId": "237c1e83-67d7-4e7c-b412-583f8de20062"
      },
      "execution_count": null,
      "outputs": [
        {
          "output_type": "execute_result",
          "data": {
            "text/plain": [
              "set"
            ]
          },
          "metadata": {},
          "execution_count": 7
        }
      ]
    },
    {
      "cell_type": "code",
      "source": [
        "a = {1, 2, 3} #set\n",
        "a = {1:'apple', 2:'banana', 3: 'kiwi'} #dict"
      ],
      "metadata": {
        "id": "xB56QcxmSpsU"
      },
      "execution_count": null,
      "outputs": []
    },
    {
      "cell_type": "code",
      "source": [
        "a"
      ],
      "metadata": {
        "colab": {
          "base_uri": "https://localhost:8080/"
        },
        "id": "hCPnrkq2S2gt",
        "outputId": "a0a64a86-cecc-4925-a048-c16c4bf71b7e"
      },
      "execution_count": null,
      "outputs": [
        {
          "output_type": "execute_result",
          "data": {
            "text/plain": [
              "{1: 'apple', 2: 'banana', 3: 'kiwi'}"
            ]
          },
          "metadata": {},
          "execution_count": 4
        }
      ]
    },
    {
      "cell_type": "code",
      "source": [
        "b = {'':'', '':'', '':''}\n",
        "b = dict(apple='a', banana='b', kiwi='c') #dict로 키값의 ''생략 가능\n",
        "b"
      ],
      "metadata": {
        "colab": {
          "base_uri": "https://localhost:8080/"
        },
        "id": "Gdz_3feeS3Kc",
        "outputId": "fac760bb-881a-4e96-da0f-63e911c8a6e1"
      },
      "execution_count": null,
      "outputs": [
        {
          "output_type": "execute_result",
          "data": {
            "text/plain": [
              "{'apple': 'a', 'banana': 'b', 'kiwi': 'c'}"
            ]
          },
          "metadata": {},
          "execution_count": 5
        }
      ]
    },
    {
      "cell_type": "code",
      "source": [
        "#출석부 만들기\n",
        "attendence = {'202201':['james', '경제학과'], '202203':['laura', '스페인어과'], '202202':['louis', '컴공과']}"
      ],
      "metadata": {
        "id": "xXNr2xrlTBfD"
      },
      "execution_count": null,
      "outputs": []
    },
    {
      "cell_type": "code",
      "source": [
        "attendence #중복될 수 있는 이름, 학과보다는 학번으로 키 설정"
      ],
      "metadata": {
        "colab": {
          "base_uri": "https://localhost:8080/"
        },
        "id": "Oc8jE3lwTtX1",
        "outputId": "7148e8d6-6f65-4473-b48b-f38f62412256"
      },
      "execution_count": null,
      "outputs": [
        {
          "output_type": "execute_result",
          "data": {
            "text/plain": [
              "{'202201': ['james', '경제학과'],\n",
              " '202202': ['louis', '컴공과'],\n",
              " '202203': ['laura', '스페인어과']}"
            ]
          },
          "metadata": {},
          "execution_count": 9
        }
      ]
    },
    {
      "cell_type": "markdown",
      "source": [
        "###형 변환"
      ],
      "metadata": {
        "id": "NgvrAh0eVUEP"
      }
    },
    {
      "cell_type": "code",
      "source": [
        "ex1 = [[1, 2], [2, 3], [3, 4]] #리스트\n",
        "dict(ex1)"
      ],
      "metadata": {
        "colab": {
          "base_uri": "https://localhost:8080/"
        },
        "id": "OOLFJH3FTu_E",
        "outputId": "9c0e0a05-696f-45b1-d954-5c04eee714b0"
      },
      "execution_count": null,
      "outputs": [
        {
          "output_type": "execute_result",
          "data": {
            "text/plain": [
              "{1: 2, 2: 3, 3: 4}"
            ]
          },
          "metadata": {},
          "execution_count": 10
        }
      ]
    },
    {
      "cell_type": "code",
      "source": [
        "ex2 = [(1, 2), (2, 3), (1, 3)] #튜플, 키 중복x\n",
        "dict(ex2)"
      ],
      "metadata": {
        "colab": {
          "base_uri": "https://localhost:8080/"
        },
        "id": "-W5h2ZfbVbyc",
        "outputId": "453011e4-3b74-4297-9ced-e16ed0ac13f1"
      },
      "execution_count": null,
      "outputs": [
        {
          "output_type": "execute_result",
          "data": {
            "text/plain": [
              "{1: 3, 2: 3}"
            ]
          },
          "metadata": {},
          "execution_count": 11
        }
      ]
    },
    {
      "cell_type": "code",
      "source": [
        "ex3 = ['ab', 'ba', 'cd'] #문자열 두자리 까지는 가능\n",
        "dict(ex3)"
      ],
      "metadata": {
        "colab": {
          "base_uri": "https://localhost:8080/"
        },
        "id": "t_ktmSnkVilw",
        "outputId": "912d8ae7-9fca-4ad3-c65f-5de26216f992"
      },
      "execution_count": null,
      "outputs": [
        {
          "output_type": "execute_result",
          "data": {
            "text/plain": [
              "{'a': 'b', 'b': 'a', 'c': 'd'}"
            ]
          },
          "metadata": {},
          "execution_count": 19
        }
      ]
    },
    {
      "cell_type": "markdown",
      "source": [
        "###항목 조회&변경"
      ],
      "metadata": {
        "id": "JzQ8f_eCVrm5"
      }
    },
    {
      "cell_type": "code",
      "source": [
        "pythons = {\n",
        "    'Champman': 'Graham',\n",
        "    'Cleese': 'John',\n",
        "    'Idle': 'Eric',\n",
        "    'Jones': 'Terry',\n",
        "    'Palin': 'Michael'\n",
        "}"
      ],
      "metadata": {
        "id": "QHjw0UxHVnZc"
      },
      "execution_count": null,
      "outputs": []
    },
    {
      "cell_type": "code",
      "source": [
        "pythons['Idle']"
      ],
      "metadata": {
        "colab": {
          "base_uri": "https://localhost:8080/",
          "height": 35
        },
        "id": "dNqbw3HkWJuq",
        "outputId": "0b29c830-e43f-4b87-ba81-edf0ff283c81"
      },
      "execution_count": null,
      "outputs": [
        {
          "output_type": "execute_result",
          "data": {
            "text/plain": [
              "'Eric'"
            ],
            "application/vnd.google.colaboratory.intrinsic+json": {
              "type": "string"
            }
          },
          "metadata": {},
          "execution_count": 14
        }
      ]
    },
    {
      "cell_type": "code",
      "source": [
        "#추가\n",
        "pythons['Hwa'] = 'Chloe'"
      ],
      "metadata": {
        "id": "cSVX7uW9WMu0"
      },
      "execution_count": null,
      "outputs": []
    },
    {
      "cell_type": "code",
      "source": [
        "pythons"
      ],
      "metadata": {
        "colab": {
          "base_uri": "https://localhost:8080/"
        },
        "id": "a4m4zK6DWW1y",
        "outputId": "b5a097e7-78b3-4243-d32b-301201d9a08c"
      },
      "execution_count": null,
      "outputs": [
        {
          "output_type": "execute_result",
          "data": {
            "text/plain": [
              "{'Champman': 'Graham',\n",
              " 'Cleese': 'John',\n",
              " 'Hwa': 'Chloe',\n",
              " 'Idle': 'Eric',\n",
              " 'Jones': 'Terry',\n",
              " 'Palin': 'Michael'}"
            ]
          },
          "metadata": {},
          "execution_count": 16
        }
      ]
    },
    {
      "cell_type": "code",
      "source": [
        "'Hwa' in pythons"
      ],
      "metadata": {
        "colab": {
          "base_uri": "https://localhost:8080/"
        },
        "id": "eolfXObAWfol",
        "outputId": "9495563c-0d77-4c73-9d9d-5fcae45451a5"
      },
      "execution_count": null,
      "outputs": [
        {
          "output_type": "execute_result",
          "data": {
            "text/plain": [
              "True"
            ]
          },
          "metadata": {},
          "execution_count": 17
        }
      ]
    },
    {
      "cell_type": "code",
      "source": [
        "#변경\n",
        "pythons['Idle'] = 'James'"
      ],
      "metadata": {
        "id": "HAvBRZzQjIR1"
      },
      "execution_count": null,
      "outputs": []
    },
    {
      "cell_type": "code",
      "source": [
        "#get()\n",
        "pythons.get('Lee', 0) #없는 키는 None 변환"
      ],
      "metadata": {
        "colab": {
          "base_uri": "https://localhost:8080/"
        },
        "id": "JNyL3GHZWhdY",
        "outputId": "b4856124-72b1-4a18-f0ec-c5d18fca7758"
      },
      "execution_count": null,
      "outputs": [
        {
          "output_type": "execute_result",
          "data": {
            "text/plain": [
              "0"
            ]
          },
          "metadata": {},
          "execution_count": 19
        }
      ]
    },
    {
      "cell_type": "markdown",
      "source": [
        "### 전체 조회\n",
        "- keys()\n",
        "- values()\n",
        "- items()"
      ],
      "metadata": {
        "id": "S3vFdFeXWwP7"
      }
    },
    {
      "cell_type": "code",
      "source": [
        "pythons.keys() #키"
      ],
      "metadata": {
        "colab": {
          "base_uri": "https://localhost:8080/"
        },
        "id": "ArXi0iLpWo_L",
        "outputId": "100da8cf-06a1-43d3-93cb-4f9224c2ccac"
      },
      "execution_count": null,
      "outputs": [
        {
          "output_type": "execute_result",
          "data": {
            "text/plain": [
              "dict_keys(['Champman', 'Cleese', 'Idle', 'Jones', 'Palin', 'Hwa'])"
            ]
          },
          "metadata": {},
          "execution_count": 20
        }
      ]
    },
    {
      "cell_type": "code",
      "source": [
        "pythons.values() #값"
      ],
      "metadata": {
        "colab": {
          "base_uri": "https://localhost:8080/"
        },
        "id": "7T2BoJ3bW2eB",
        "outputId": "fad89446-e8a8-4bd8-c311-f6259066fe5d"
      },
      "execution_count": null,
      "outputs": [
        {
          "output_type": "execute_result",
          "data": {
            "text/plain": [
              "dict_values(['Graham', 'John', 'James', 'Terry', 'Michael', 'Chloe'])"
            ]
          },
          "metadata": {},
          "execution_count": 21
        }
      ]
    },
    {
      "cell_type": "code",
      "source": [
        "pythons.items() #(키, 값) 튜플로 => 순회할 때 많이 씀"
      ],
      "metadata": {
        "colab": {
          "base_uri": "https://localhost:8080/"
        },
        "id": "87r5YiqSW3_z",
        "outputId": "873f8605-93da-4787-c7dd-991d481f3aac"
      },
      "execution_count": null,
      "outputs": [
        {
          "output_type": "execute_result",
          "data": {
            "text/plain": [
              "dict_items([('Champman', 'Graham'), ('Cleese', 'John'), ('Idle', 'James'), ('Jones', 'Terry'), ('Palin', 'Michael'), ('Hwa', 'Chloe')])"
            ]
          },
          "metadata": {},
          "execution_count": 22
        }
      ]
    },
    {
      "cell_type": "code",
      "source": [
        "list(pythons.keys()) "
      ],
      "metadata": {
        "colab": {
          "base_uri": "https://localhost:8080/"
        },
        "id": "m2fbOyU6W5dF",
        "outputId": "2501763b-56a3-477a-abf8-4314412d1d7e"
      },
      "execution_count": null,
      "outputs": [
        {
          "output_type": "execute_result",
          "data": {
            "text/plain": [
              "['Champman', 'Cleese', 'Idle', 'Jones', 'Palin', 'Hwa']"
            ]
          },
          "metadata": {},
          "execution_count": 23
        }
      ]
    },
    {
      "cell_type": "code",
      "source": [
        "for k, v in pythons.items():\n",
        "  print(f'{k} = {v}')"
      ],
      "metadata": {
        "colab": {
          "base_uri": "https://localhost:8080/"
        },
        "id": "jVZBYBvXXDvi",
        "outputId": "5a8450a1-db25-4e54-9e28-9b84c0520aa7"
      },
      "execution_count": null,
      "outputs": [
        {
          "output_type": "stream",
          "name": "stdout",
          "text": [
            "Champman = Graham\n",
            "Cleese = John\n",
            "Idle = James\n",
            "Jones = Terry\n",
            "Palin = Michael\n",
            "Hwa = Chloe\n"
          ]
        }
      ]
    },
    {
      "cell_type": "code",
      "source": [
        "[(k, v) for k, v in pythons.items()]"
      ],
      "metadata": {
        "colab": {
          "base_uri": "https://localhost:8080/"
        },
        "id": "-TLvNI-2XRG-",
        "outputId": "d7b0fdfa-1092-417a-c646-562f4cf23c0a"
      },
      "execution_count": null,
      "outputs": [
        {
          "output_type": "execute_result",
          "data": {
            "text/plain": [
              "[('Champman', 'Graham'),\n",
              " ('Cleese', 'John'),\n",
              " ('Idle', 'James'),\n",
              " ('Jones', 'Terry'),\n",
              " ('Palin', 'Michael'),\n",
              " ('Hwa', 'Chloe')]"
            ]
          },
          "metadata": {},
          "execution_count": 25
        }
      ]
    },
    {
      "cell_type": "code",
      "source": [
        "{k[0] for k in pythons.items()} #튜플이기 때문에 인덱싱 가능 [0] = key, [1]= value"
      ],
      "metadata": {
        "colab": {
          "base_uri": "https://localhost:8080/"
        },
        "id": "QIItamx4XVMK",
        "outputId": "27eed7a3-9787-4421-e3d9-cb440d8f5c4a"
      },
      "execution_count": null,
      "outputs": [
        {
          "output_type": "execute_result",
          "data": {
            "text/plain": [
              "{'Champman', 'Cleese', 'Hwa', 'Idle', 'Jones', 'Palin'}"
            ]
          },
          "metadata": {},
          "execution_count": 29
        }
      ]
    },
    {
      "cell_type": "code",
      "source": [
        "[k for k in pythons] #키"
      ],
      "metadata": {
        "colab": {
          "base_uri": "https://localhost:8080/"
        },
        "id": "6JGGX_pnXdgb",
        "outputId": "7b417cb1-2f90-4b52-eae4-9427ee47d40f"
      },
      "execution_count": null,
      "outputs": [
        {
          "output_type": "execute_result",
          "data": {
            "text/plain": [
              "['Champman', 'Cleese', 'Idle', 'Jones', 'Palin', 'Hwa']"
            ]
          },
          "metadata": {},
          "execution_count": 30
        }
      ]
    },
    {
      "cell_type": "markdown",
      "source": [
        "### ex\n",
        "- animal: num_leg 딕셔너리"
      ],
      "metadata": {
        "id": "pUGRsao_XojF"
      }
    },
    {
      "cell_type": "code",
      "source": [
        "animal = 'cat snake monkey ant spider'.split()\n",
        "legs = 4, 0, 2, 4, 8\n"
      ],
      "metadata": {
        "id": "UBg2Jk0JXnRv"
      },
      "execution_count": null,
      "outputs": []
    },
    {
      "cell_type": "code",
      "source": [
        "#1\n",
        "num_leg = {}\n",
        "for i in range(len(animal)):\n",
        "  num_leg[animal[i]] = legs[i]"
      ],
      "metadata": {
        "id": "7Yq8k3QxYvdJ"
      },
      "execution_count": null,
      "outputs": []
    },
    {
      "cell_type": "code",
      "source": [
        "num_leg"
      ],
      "metadata": {
        "colab": {
          "base_uri": "https://localhost:8080/"
        },
        "id": "Z0Idm6rnZh0t",
        "outputId": "99632655-8237-45f6-9fa5-c86fda792cc8"
      },
      "execution_count": null,
      "outputs": [
        {
          "output_type": "execute_result",
          "data": {
            "text/plain": [
              "{'ant': 4, 'cat': 4, 'monkey': 2, 'snake': 0, 'spider': 8}"
            ]
          },
          "metadata": {},
          "execution_count": 34
        }
      ]
    },
    {
      "cell_type": "code",
      "source": [
        "#2\n",
        "num_leg2 = {}\n",
        "for x, y in zip(animal, legs):\n",
        "  num_leg2[x] = y"
      ],
      "metadata": {
        "id": "580iYAvObNz7"
      },
      "execution_count": null,
      "outputs": []
    },
    {
      "cell_type": "code",
      "source": [
        "num_leg2"
      ],
      "metadata": {
        "colab": {
          "base_uri": "https://localhost:8080/"
        },
        "id": "g3QcGNGebb3J",
        "outputId": "3c02934f-a8d4-48b2-bbac-97e17e7d0c03"
      },
      "execution_count": null,
      "outputs": [
        {
          "output_type": "execute_result",
          "data": {
            "text/plain": [
              "{'ant': 4, 'cat': 4, 'monkey': 2, 'snake': 0, 'spider': 8}"
            ]
          },
          "metadata": {},
          "execution_count": 36
        }
      ]
    },
    {
      "cell_type": "markdown",
      "source": [
        "#### Q.pythons 에서 성:이름, 성 첫글자, 이름 글자 개수 로 이루어진 튜플\n",
        "(성, 이름) 리스트로 변환하기"
      ],
      "metadata": {
        "id": "LNAPANcSbtSz"
      }
    },
    {
      "cell_type": "code",
      "source": [
        "pythons.keys()"
      ],
      "metadata": {
        "colab": {
          "base_uri": "https://localhost:8080/"
        },
        "id": "U9Mj7fVsbpJN",
        "outputId": "f2ec2f0e-ced8-4564-8897-311dc50e5a19"
      },
      "execution_count": null,
      "outputs": [
        {
          "output_type": "execute_result",
          "data": {
            "text/plain": [
              "dict_keys(['Champman', 'Cleese', 'Idle', 'Jones', 'Palin', 'Hwa'])"
            ]
          },
          "metadata": {},
          "execution_count": 37
        }
      ]
    },
    {
      "cell_type": "code",
      "source": [
        "pythons.items()"
      ],
      "metadata": {
        "colab": {
          "base_uri": "https://localhost:8080/"
        },
        "id": "4UFR5qm9b8ll",
        "outputId": "0e31085d-c144-4ef0-a507-d540424d2055"
      },
      "execution_count": null,
      "outputs": [
        {
          "output_type": "execute_result",
          "data": {
            "text/plain": [
              "dict_items([('Champman', 'Graham'), ('Cleese', 'John'), ('Idle', 'James'), ('Jones', 'Terry'), ('Palin', 'Michael'), ('Hwa', 'Chloe')])"
            ]
          },
          "metadata": {},
          "execution_count": 38
        }
      ]
    },
    {
      "cell_type": "code",
      "source": [
        "[(key[0], len(value)) for key, value in pythons.items()]"
      ],
      "metadata": {
        "colab": {
          "base_uri": "https://localhost:8080/"
        },
        "id": "BrlvwPGgdFma",
        "outputId": "0f605831-5e00-45df-aed2-dc81dda4e6b5"
      },
      "execution_count": null,
      "outputs": [
        {
          "output_type": "execute_result",
          "data": {
            "text/plain": [
              "[('C', 6), ('C', 4), ('I', 5), ('J', 5), ('P', 7), ('H', 5)]"
            ]
          },
          "metadata": {},
          "execution_count": 39
        }
      ]
    },
    {
      "cell_type": "markdown",
      "source": [
        "###값 수정, 삭제, 복제, 비교"
      ],
      "metadata": {
        "id": "_phNWr_1dqr2"
      }
    },
    {
      "cell_type": "code",
      "source": [
        "pythons"
      ],
      "metadata": {
        "colab": {
          "base_uri": "https://localhost:8080/"
        },
        "id": "fBDM6BBicDpL",
        "outputId": "87702f22-1919-427b-a983-5dc71f55516a"
      },
      "execution_count": null,
      "outputs": [
        {
          "output_type": "execute_result",
          "data": {
            "text/plain": [
              "{'Champman': 'Graham',\n",
              " 'Cleese': 'John',\n",
              " 'Hwa': 'Chloe',\n",
              " 'Idle': 'James',\n",
              " 'Jones': 'Terry',\n",
              " 'Palin': 'Michael'}"
            ]
          },
          "metadata": {},
          "execution_count": 40
        }
      ]
    },
    {
      "cell_type": "code",
      "source": [
        "others = {\n",
        "    'Marx':'Grouche',\n",
        "    'Howard':'Moe'\n",
        "}\n",
        "others"
      ],
      "metadata": {
        "colab": {
          "base_uri": "https://localhost:8080/"
        },
        "id": "8dtGbOaedvRT",
        "outputId": "e34f04ed-eb9b-47f0-da23-2e5833f4910b"
      },
      "execution_count": null,
      "outputs": [
        {
          "output_type": "execute_result",
          "data": {
            "text/plain": [
              "{'Howard': 'Moe', 'Marx': 'Grouche'}"
            ]
          },
          "metadata": {},
          "execution_count": 41
        }
      ]
    },
    {
      "cell_type": "code",
      "source": [
        "#딕셔너리에 딕셔너리 추가 \n",
        "pythons.update(others) "
      ],
      "metadata": {
        "id": "kHe67ul4d6wq"
      },
      "execution_count": null,
      "outputs": []
    },
    {
      "cell_type": "code",
      "source": [
        "pythons"
      ],
      "metadata": {
        "colab": {
          "base_uri": "https://localhost:8080/"
        },
        "id": "1LKkoNvmd-_W",
        "outputId": "799bde4b-0870-4528-ef10-f9307b400dd6"
      },
      "execution_count": null,
      "outputs": [
        {
          "output_type": "execute_result",
          "data": {
            "text/plain": [
              "{'Champman': 'Graham',\n",
              " 'Cleese': 'John',\n",
              " 'Howard': 'Moe',\n",
              " 'Hwa': 'Chloe',\n",
              " 'Idle': 'James',\n",
              " 'Jones': 'Terry',\n",
              " 'Marx': 'Grouche',\n",
              " 'Palin': 'Michael'}"
            ]
          },
          "metadata": {},
          "execution_count": 43
        }
      ]
    },
    {
      "cell_type": "code",
      "source": [
        "#py 3에서만 가능\n",
        "{**others, **pythons}\n"
      ],
      "metadata": {
        "colab": {
          "base_uri": "https://localhost:8080/"
        },
        "id": "k3R8fhaZeAIm",
        "outputId": "e5e976bf-2340-4d6d-f039-d63c90d61e8b"
      },
      "execution_count": null,
      "outputs": [
        {
          "output_type": "execute_result",
          "data": {
            "text/plain": [
              "{'Champman': 'Graham',\n",
              " 'Cleese': 'John',\n",
              " 'Howard': 'Moe',\n",
              " 'Idle': 'Eric',\n",
              " 'Jones': 'Terry',\n",
              " 'Marx': 'Grouche',\n",
              " 'Narx': 'Grouche',\n",
              " 'Palin': 'Michael'}"
            ]
          },
          "metadata": {},
          "execution_count": 81
        }
      ]
    },
    {
      "cell_type": "code",
      "source": [
        "#삭제1\n",
        "del pythons['Hwa']\n",
        "pythons"
      ],
      "metadata": {
        "colab": {
          "base_uri": "https://localhost:8080/"
        },
        "id": "a3fU3Ct_eEE8",
        "outputId": "ed1e857b-c744-44ce-81f2-8c0b4fe1aa9f"
      },
      "execution_count": null,
      "outputs": [
        {
          "output_type": "execute_result",
          "data": {
            "text/plain": [
              "{'Champman': 'Graham',\n",
              " 'Cleese': 'John',\n",
              " 'Howard': 'Moe',\n",
              " 'Idle': 'James',\n",
              " 'Jones': 'Terry',\n",
              " 'Marx': 'Grouche',\n",
              " 'Palin': 'Michael'}"
            ]
          },
          "metadata": {},
          "execution_count": 44
        }
      ]
    },
    {
      "cell_type": "code",
      "source": [
        "del pythons['Lee'] #없는 걸 삭제하면 에러"
      ],
      "metadata": {
        "colab": {
          "base_uri": "https://localhost:8080/",
          "height": 172
        },
        "id": "p4mnOvjWeQsE",
        "outputId": "6fdfbf1a-9e8f-4934-d83c-89a458d4e4c8"
      },
      "execution_count": null,
      "outputs": [
        {
          "output_type": "error",
          "ename": "KeyError",
          "evalue": "ignored",
          "traceback": [
            "\u001b[0;31m---------------------------------------------------------------------------\u001b[0m",
            "\u001b[0;31mKeyError\u001b[0m                                  Traceback (most recent call last)",
            "\u001b[0;32m<ipython-input-45-033a28e94f0c>\u001b[0m in \u001b[0;36m<module>\u001b[0;34m()\u001b[0m\n\u001b[0;32m----> 1\u001b[0;31m \u001b[0;32mdel\u001b[0m \u001b[0mpythons\u001b[0m\u001b[0;34m[\u001b[0m\u001b[0;34m'Lee'\u001b[0m\u001b[0;34m]\u001b[0m \u001b[0;31m#없는 걸 삭제하면 오류\u001b[0m\u001b[0;34m\u001b[0m\u001b[0;34m\u001b[0m\u001b[0m\n\u001b[0m",
            "\u001b[0;31mKeyError\u001b[0m: 'Lee'"
          ]
        }
      ]
    },
    {
      "cell_type": "code",
      "source": [
        "#삭제2\n",
        "pythons.pop('Marx')"
      ],
      "metadata": {
        "colab": {
          "base_uri": "https://localhost:8080/",
          "height": 35
        },
        "id": "u9lnlCydeSy7",
        "outputId": "e3091116-332c-4930-dee2-e6c6beeb162f"
      },
      "execution_count": null,
      "outputs": [
        {
          "output_type": "execute_result",
          "data": {
            "text/plain": [
              "'Grouche'"
            ],
            "application/vnd.google.colaboratory.intrinsic+json": {
              "type": "string"
            }
          },
          "metadata": {},
          "execution_count": 46
        }
      ]
    },
    {
      "cell_type": "code",
      "source": [
        "pythons.pop('Lee', 0) #없으면 에러는 나지만, 예외 시 출력 값을 지정할 수 있다."
      ],
      "metadata": {
        "colab": {
          "base_uri": "https://localhost:8080/"
        },
        "id": "hV2gNLckegn0",
        "outputId": "31eaf3ff-81c3-49ef-b537-6c2ce70f85f0"
      },
      "execution_count": null,
      "outputs": [
        {
          "output_type": "execute_result",
          "data": {
            "text/plain": [
              "0"
            ]
          },
          "metadata": {},
          "execution_count": 47
        }
      ]
    },
    {
      "cell_type": "code",
      "source": [
        "#전체 삭제\n",
        "pythons.clear()\n",
        "pythons = {}"
      ],
      "metadata": {
        "id": "RNFiJTy4ekMe"
      },
      "execution_count": null,
      "outputs": []
    },
    {
      "cell_type": "code",
      "source": [
        "pythons"
      ],
      "metadata": {
        "colab": {
          "base_uri": "https://localhost:8080/"
        },
        "id": "8Zip5usKezeX",
        "outputId": "19016372-3518-4760-838c-fc0fecfe4dfe"
      },
      "execution_count": null,
      "outputs": [
        {
          "output_type": "execute_result",
          "data": {
            "text/plain": [
              "{}"
            ]
          },
          "metadata": {},
          "execution_count": 49
        }
      ]
    },
    {
      "cell_type": "markdown",
      "source": [
        "###복제\n",
        "- 할당: b = a \n",
        "- 얕은 복사: c = a.copy()\n",
        "- 깊은 복사: deepcopy()"
      ],
      "metadata": {
        "id": "Y5iBtOgFlJpb"
      }
    },
    {
      "cell_type": "code",
      "source": [
        "a = {1:1, 2:2, 3:3}\n",
        "b = a\n",
        "a[1] = 45\n",
        "a, b #a가 변하면 b도 변함"
      ],
      "metadata": {
        "colab": {
          "base_uri": "https://localhost:8080/"
        },
        "id": "SAHkhOH2e6_v",
        "outputId": "e974219d-6cbd-40e5-fac2-bc293f06ad63"
      },
      "execution_count": null,
      "outputs": [
        {
          "output_type": "execute_result",
          "data": {
            "text/plain": [
              "({1: 45, 2: 2, 3: 3}, {1: 45, 2: 2, 3: 3})"
            ]
          },
          "metadata": {},
          "execution_count": 50
        }
      ]
    },
    {
      "cell_type": "code",
      "source": [
        "#얕은 복사\n",
        "c = a.copy()\n",
        "a[2] = 22\n",
        "a, c #a가 변해도 c는 그대로"
      ],
      "metadata": {
        "colab": {
          "base_uri": "https://localhost:8080/"
        },
        "id": "wisgpPcffDIb",
        "outputId": "cdfc558a-54e4-4592-fe7d-75ce762e894e"
      },
      "execution_count": null,
      "outputs": [
        {
          "output_type": "execute_result",
          "data": {
            "text/plain": [
              "({1: 45, 2: 22, 3: 3}, {1: 45, 2: 2, 3: 3})"
            ]
          },
          "metadata": {},
          "execution_count": 51
        }
      ]
    },
    {
      "cell_type": "code",
      "source": [
        "a = {1: [1, 2, 3], 2:[2, 3, 4]}\n",
        "d = a.copy()\n",
        "a[1][0] = 100\n",
        "a, d"
      ],
      "metadata": {
        "colab": {
          "base_uri": "https://localhost:8080/"
        },
        "id": "oDCnXWpLfKSf",
        "outputId": "f0c66bac-2a20-4382-ef64-cb7db8890403"
      },
      "execution_count": null,
      "outputs": [
        {
          "output_type": "execute_result",
          "data": {
            "text/plain": [
              "({1: [100, 2, 3], 2: [2, 3, 4]}, {1: [100, 2, 3], 2: [2, 3, 4]})"
            ]
          },
          "metadata": {},
          "execution_count": 52
        }
      ]
    },
    {
      "cell_type": "code",
      "source": [
        "#깊은 복사\n",
        "import copy\n",
        "e = copy.deepcopy(a)\n",
        "a[1][1] = 999\n",
        "a, e"
      ],
      "metadata": {
        "colab": {
          "base_uri": "https://localhost:8080/"
        },
        "id": "ifVvwqHvfR7X",
        "outputId": "3d74b4e9-d976-404f-fd40-1bbc548692ef"
      },
      "execution_count": null,
      "outputs": [
        {
          "output_type": "execute_result",
          "data": {
            "text/plain": [
              "({1: [100, 999, 3], 2: [2, 3, 4]}, {1: [100, 2, 3], 2: [2, 3, 4]})"
            ]
          },
          "metadata": {},
          "execution_count": 53
        }
      ]
    },
    {
      "cell_type": "markdown",
      "source": [
        "###비교\n",
        "- 같다, 다르다만 된다\n"
      ],
      "metadata": {
        "id": "jOjsIeBHfhvw"
      }
    },
    {
      "cell_type": "code",
      "source": [
        "a != b"
      ],
      "metadata": {
        "colab": {
          "base_uri": "https://localhost:8080/"
        },
        "id": "mJm0IY3RfcGx",
        "outputId": "663ff724-c626-4e4d-b01c-0a12cf5630b8"
      },
      "execution_count": null,
      "outputs": [
        {
          "output_type": "execute_result",
          "data": {
            "text/plain": [
              "True"
            ]
          },
          "metadata": {},
          "execution_count": 54
        }
      ]
    },
    {
      "cell_type": "markdown",
      "source": [
        "### EX\n",
        "1. 두 리스트로 하나의 딕셔너리 생성\n",
        "2. 명왕성 = pluto 추가하기\n",
        "3. '성'으로 끝나지 않는 키 삭제하기 (del dict[태양] x)\n",
        "4. sorted 이용해서 값 정렬하기 i)key, ii)vlaue"
      ],
      "metadata": {
        "id": "WUpTCFYtgBQI"
      }
    },
    {
      "cell_type": "code",
      "source": [
        "solar_kor = '태양 수성 금성 지구 화성 목성 토성 천왕성 해왕성'.split()\n",
        "solar_eng = 'sun mercury venus earth mars jupiter saturn uranus neptune'.split()\n"
      ],
      "metadata": {
        "id": "nhv-Pa_TfnLZ"
      },
      "execution_count": null,
      "outputs": []
    },
    {
      "cell_type": "code",
      "source": [
        "new_solar = {}\n",
        "for i in range(len(solar_kor)):\n",
        "  new_solar[solar_kor[i]] = solar_eng[i]\n",
        "new_solar['명왕성'] = 'pluto'\n",
        "for k in list(new_solar):\n",
        "  if not k.endswith('성'):\n",
        "    del new_solar[k]\n",
        "\n"
      ],
      "metadata": {
        "id": "cTBnxP1lgUHN"
      },
      "execution_count": null,
      "outputs": []
    },
    {
      "cell_type": "code",
      "source": [
        "new_solar"
      ],
      "metadata": {
        "colab": {
          "base_uri": "https://localhost:8080/"
        },
        "id": "QS01SHNikivx",
        "outputId": "84f7e9b4-55bb-4474-ef91-1c526304120b"
      },
      "execution_count": null,
      "outputs": [
        {
          "output_type": "execute_result",
          "data": {
            "text/plain": [
              "{'금성': 'venus',\n",
              " '명왕성': 'pluto',\n",
              " '목성': 'jupiter',\n",
              " '수성': 'mercury',\n",
              " '천왕성': 'uranus',\n",
              " '토성': 'saturn',\n",
              " '해왕성': 'neptune',\n",
              " '화성': 'mars'}"
            ]
          },
          "metadata": {},
          "execution_count": 57
        }
      ]
    },
    {
      "cell_type": "code",
      "source": [
        "system = {}\n",
        "for k, v in zip(solar_kor, solar_eng):\n",
        "  system[k] = v"
      ],
      "metadata": {
        "id": "BAIcl9aNiBIh"
      },
      "execution_count": null,
      "outputs": []
    },
    {
      "cell_type": "code",
      "source": [
        "system['명왕성'] = 'pluto'"
      ],
      "metadata": {
        "id": "3z9EVPoDiaEM"
      },
      "execution_count": null,
      "outputs": []
    },
    {
      "cell_type": "code",
      "source": [
        "system"
      ],
      "metadata": {
        "colab": {
          "base_uri": "https://localhost:8080/"
        },
        "id": "eRYq66xooLdQ",
        "outputId": "031a51da-eda1-4f3b-930b-7408b26b5693"
      },
      "execution_count": null,
      "outputs": [
        {
          "output_type": "execute_result",
          "data": {
            "text/plain": [
              "{'금성': 'venus',\n",
              " '명왕성': 'pluto',\n",
              " '목성': 'jupiter',\n",
              " '수성': 'mercury',\n",
              " '지구': 'earth',\n",
              " '천왕성': 'uranus',\n",
              " '태양': 'sun',\n",
              " '토성': 'saturn',\n",
              " '해왕성': 'neptune',\n",
              " '화성': 'mars'}"
            ]
          },
          "metadata": {},
          "execution_count": 60
        }
      ]
    },
    {
      "cell_type": "code",
      "source": [
        "dict([(k, v) for k, v in system.items() if k[-1] == ('성')])\n"
      ],
      "metadata": {
        "colab": {
          "base_uri": "https://localhost:8080/"
        },
        "id": "NlkUjxDLoQmj",
        "outputId": "c97b9c58-135c-4df7-a98e-df55ab375487"
      },
      "execution_count": null,
      "outputs": [
        {
          "output_type": "execute_result",
          "data": {
            "text/plain": [
              "{'금성': 'venus',\n",
              " '명왕성': 'pluto',\n",
              " '목성': 'jupiter',\n",
              " '수성': 'mercury',\n",
              " '천왕성': 'uranus',\n",
              " '토성': 'saturn',\n",
              " '해왕성': 'neptune',\n",
              " '화성': 'mars'}"
            ]
          },
          "metadata": {},
          "execution_count": 62
        }
      ]
    },
    {
      "cell_type": "code",
      "source": [
        "dict([(k, system[k]) for k in system if k[-1] == ('성')])"
      ],
      "metadata": {
        "colab": {
          "base_uri": "https://localhost:8080/"
        },
        "id": "yYivGV2MncBZ",
        "outputId": "e0ea30f5-434a-4380-b2f0-d2647ae91916"
      },
      "execution_count": null,
      "outputs": [
        {
          "output_type": "execute_result",
          "data": {
            "text/plain": [
              "{'금성': 'venus',\n",
              " '명왕성': 'pluto',\n",
              " '목성': 'jupiter',\n",
              " '수성': 'mercury',\n",
              " '천왕성': 'uranus',\n",
              " '토성': 'saturn',\n",
              " '해왕성': 'neptune',\n",
              " '화성': 'mars'}"
            ]
          },
          "metadata": {},
          "execution_count": 64
        }
      ]
    },
    {
      "cell_type": "code",
      "source": [
        "{k: v for k, v in system.items() if k. endswith('성')} #딕셔너리 컴프리헨션"
      ],
      "metadata": {
        "colab": {
          "base_uri": "https://localhost:8080/"
        },
        "id": "KxP8udFmocuj",
        "outputId": "4534bb17-d2ba-491e-c6a4-13bc420371a0"
      },
      "execution_count": null,
      "outputs": [
        {
          "output_type": "execute_result",
          "data": {
            "text/plain": [
              "{'금성': 'venus',\n",
              " '명왕성': 'pluto',\n",
              " '목성': 'jupiter',\n",
              " '수성': 'mercury',\n",
              " '천왕성': 'uranus',\n",
              " '토성': 'saturn',\n",
              " '해왕성': 'neptune',\n",
              " '화성': 'mars'}"
            ]
          },
          "metadata": {},
          "execution_count": 66
        }
      ]
    },
    {
      "cell_type": "markdown",
      "source": [
        "####컴프리핸션"
      ],
      "metadata": {
        "id": "2CuDdyAWpohF"
      }
    },
    {
      "cell_type": "code",
      "source": [
        "letter = 'apple'\n",
        "#a: 1, p:2, ...\n",
        "{ch: letter.count(ch) for ch in letter}"
      ],
      "metadata": {
        "colab": {
          "base_uri": "https://localhost:8080/"
        },
        "id": "3k_7-81Tpms9",
        "outputId": "6b9f0148-b35d-479f-fd57-0ad67ff15f60"
      },
      "execution_count": null,
      "outputs": [
        {
          "output_type": "execute_result",
          "data": {
            "text/plain": [
              "{'a': 1, 'e': 1, 'l': 1, 'p': 2}"
            ]
          },
          "metadata": {},
          "execution_count": 67
        }
      ]
    },
    {
      "cell_type": "code",
      "source": [
        "#단어 모음 세기\n",
        "vowels = 'aeiou'\n",
        "word = 'onomatopoeia'\n",
        "\n",
        "# vowels 순회\n",
        "{k: word.count(k) for k in set(word) if k in vowels}\n",
        "# word 순회\n",
        "{v: word.count(v) for v in vowels if v in word}"
      ],
      "metadata": {
        "colab": {
          "base_uri": "https://localhost:8080/"
        },
        "id": "FpACpCv5pyRe",
        "outputId": "f50d6d73-1983-4cc8-b7d6-405808d9e769"
      },
      "execution_count": null,
      "outputs": [
        {
          "output_type": "execute_result",
          "data": {
            "text/plain": [
              "{'a': 2, 'e': 1, 'i': 1, 'o': 4}"
            ]
          },
          "metadata": {},
          "execution_count": 68
        }
      ]
    },
    {
      "cell_type": "markdown",
      "source": [
        "####sorting"
      ],
      "metadata": {
        "id": "SO0jEKu2qXbL"
      }
    },
    {
      "cell_type": "code",
      "source": [
        "sorted(system) #키만 출력"
      ],
      "metadata": {
        "colab": {
          "base_uri": "https://localhost:8080/"
        },
        "id": "gt4lfrw0qc3h",
        "outputId": "5b6e68a4-c4d8-4d3a-f4f6-e29ab5daa241"
      },
      "execution_count": null,
      "outputs": [
        {
          "output_type": "execute_result",
          "data": {
            "text/plain": [
              "['금성', '명왕성', '목성', '수성', '지구', '천왕성', '태양', '토성', '해왕성', '화성']"
            ]
          },
          "metadata": {},
          "execution_count": 70
        }
      ]
    },
    {
      "cell_type": "code",
      "source": [
        "def fx(x):\n",
        "  return x[1] #0: 키, 1: 값"
      ],
      "metadata": {
        "id": "yzO9vK-Sqm9q"
      },
      "execution_count": null,
      "outputs": []
    },
    {
      "cell_type": "code",
      "source": [
        "sorted(system.items(), key= fx)"
      ],
      "metadata": {
        "colab": {
          "base_uri": "https://localhost:8080/"
        },
        "id": "XUyZz-gTqozr",
        "outputId": "8e888eea-3617-41f3-c4db-428f24648a19"
      },
      "execution_count": null,
      "outputs": [
        {
          "output_type": "execute_result",
          "data": {
            "text/plain": [
              "[('지구', 'earth'),\n",
              " ('목성', 'jupiter'),\n",
              " ('화성', 'mars'),\n",
              " ('수성', 'mercury'),\n",
              " ('해왕성', 'neptune'),\n",
              " ('명왕성', 'pluto'),\n",
              " ('토성', 'saturn'),\n",
              " ('태양', 'sun'),\n",
              " ('천왕성', 'uranus'),\n",
              " ('금성', 'venus')]"
            ]
          },
          "metadata": {},
          "execution_count": 74
        }
      ]
    },
    {
      "cell_type": "code",
      "source": [
        "sorted(system.items(), key=lambda x: x[0]) #lambda: 익명함수"
      ],
      "metadata": {
        "colab": {
          "base_uri": "https://localhost:8080/"
        },
        "id": "MivbHYXeqyBr",
        "outputId": "a5e2b853-9338-4e48-e279-7ac53bc1b4e8"
      },
      "execution_count": null,
      "outputs": [
        {
          "output_type": "execute_result",
          "data": {
            "text/plain": [
              "[('금성', 'venus'),\n",
              " ('명왕성', 'pluto'),\n",
              " ('목성', 'jupiter'),\n",
              " ('수성', 'mercury'),\n",
              " ('지구', 'earth'),\n",
              " ('천왕성', 'uranus'),\n",
              " ('태양', 'sun'),\n",
              " ('토성', 'saturn'),\n",
              " ('해왕성', 'neptune'),\n",
              " ('화성', 'mars')]"
            ]
          },
          "metadata": {},
          "execution_count": 76
        }
      ]
    },
    {
      "cell_type": "markdown",
      "source": [
        "### Set\n",
        "- '중복이 없다'\n",
        "- 집합 => 교집합, 합집합, 차집합, ...\n",
        "- bag, 인덱싱도 없다"
      ],
      "metadata": {
        "id": "YsWjIkxBrBvX"
      }
    },
    {
      "cell_type": "code",
      "source": [
        "empty = set()"
      ],
      "metadata": {
        "id": "bhuU33wdrXAZ"
      },
      "execution_count": null,
      "outputs": []
    },
    {
      "cell_type": "code",
      "source": [
        "empty"
      ],
      "metadata": {
        "colab": {
          "base_uri": "https://localhost:8080/"
        },
        "id": "YYJPLJrCrZY3",
        "outputId": "0119199c-aee4-4e84-df6f-43423c0ef0bd"
      },
      "execution_count": null,
      "outputs": [
        {
          "output_type": "execute_result",
          "data": {
            "text/plain": [
              "set()"
            ]
          },
          "metadata": {},
          "execution_count": 79
        }
      ]
    },
    {
      "cell_type": "code",
      "source": [
        "a = {1, 2, 3} #값이 있을 때는 그냥 선언해도 o"
      ],
      "metadata": {
        "id": "qtY3mR1EraMb"
      },
      "execution_count": null,
      "outputs": []
    },
    {
      "cell_type": "code",
      "source": [
        "a"
      ],
      "metadata": {
        "colab": {
          "base_uri": "https://localhost:8080/"
        },
        "id": "j3YrGZ1IrdHP",
        "outputId": "ba754d11-2ac2-4666-fb55-35e1cd737b34"
      },
      "execution_count": null,
      "outputs": [
        {
          "output_type": "execute_result",
          "data": {
            "text/plain": [
              "{1, 2, 3}"
            ]
          },
          "metadata": {},
          "execution_count": 81
        }
      ]
    },
    {
      "cell_type": "code",
      "source": [
        "a = set([1, 2, 3]) #선언, 형 변환"
      ],
      "metadata": {
        "id": "WsIWtAq1rd4q"
      },
      "execution_count": null,
      "outputs": []
    },
    {
      "cell_type": "code",
      "source": [
        "a"
      ],
      "metadata": {
        "colab": {
          "base_uri": "https://localhost:8080/"
        },
        "id": "I_8mX1rzrk3i",
        "outputId": "4a15dfd7-e1ea-44df-90a6-e7f613aadf59"
      },
      "execution_count": null,
      "outputs": [
        {
          "output_type": "execute_result",
          "data": {
            "text/plain": [
              "{1, 2, 3}"
            ]
          },
          "metadata": {},
          "execution_count": 85
        }
      ]
    },
    {
      "cell_type": "code",
      "source": [
        "#추가\n",
        "a.add(3)"
      ],
      "metadata": {
        "id": "QQa30bDHrlI5"
      },
      "execution_count": null,
      "outputs": []
    },
    {
      "cell_type": "code",
      "source": [
        "a"
      ],
      "metadata": {
        "colab": {
          "base_uri": "https://localhost:8080/"
        },
        "id": "j-GUstG0rqx9",
        "outputId": "e7f857c2-6984-40cc-eaed-4a384f7dfb67"
      },
      "execution_count": null,
      "outputs": [
        {
          "output_type": "execute_result",
          "data": {
            "text/plain": [
              "{1, 2, 3}"
            ]
          },
          "metadata": {},
          "execution_count": 87
        }
      ]
    },
    {
      "cell_type": "code",
      "source": [
        "a.add(4)"
      ],
      "metadata": {
        "id": "i7T08xjHrrGT"
      },
      "execution_count": null,
      "outputs": []
    },
    {
      "cell_type": "code",
      "source": [
        "a"
      ],
      "metadata": {
        "colab": {
          "base_uri": "https://localhost:8080/"
        },
        "id": "fIfd6nggrsjR",
        "outputId": "c99ba0e6-92a8-4a38-d3c0-c9824f5a51a8"
      },
      "execution_count": null,
      "outputs": [
        {
          "output_type": "execute_result",
          "data": {
            "text/plain": [
              "{1, 2, 3, 4}"
            ]
          },
          "metadata": {},
          "execution_count": 89
        }
      ]
    },
    {
      "cell_type": "code",
      "source": [
        "#삭제\n",
        "a.remove(4)\n",
        "a"
      ],
      "metadata": {
        "colab": {
          "base_uri": "https://localhost:8080/"
        },
        "id": "QA3k1S9Srs3S",
        "outputId": "5c12f926-a3e4-4ff4-c578-0605207665e9"
      },
      "execution_count": null,
      "outputs": [
        {
          "output_type": "execute_result",
          "data": {
            "text/plain": [
              "{1, 2, 3}"
            ]
          },
          "metadata": {},
          "execution_count": 90
        }
      ]
    },
    {
      "cell_type": "code",
      "source": [
        "drinks = {\n",
        "    'martini': {'vodka','vermouth'},\n",
        "    'black russian': {'vodka', 'kahlua'},\n",
        "    'white russian': {'cream', 'kahlua','vodka'},\n",
        "    'manhattan': {'rye', 'vermouth', 'bitters'},\n",
        "    'screwdiver': {'orange juice', 'vodka'}\n",
        "}"
      ],
      "metadata": {
        "id": "xjnN1yourxof"
      },
      "execution_count": null,
      "outputs": []
    },
    {
      "cell_type": "code",
      "source": [
        "drinks.items()"
      ],
      "metadata": {
        "colab": {
          "base_uri": "https://localhost:8080/"
        },
        "id": "9hEt09wyt1Ss",
        "outputId": "b31df2b9-e2c6-4f05-e58d-b4ee34df273c"
      },
      "execution_count": null,
      "outputs": [
        {
          "output_type": "execute_result",
          "data": {
            "text/plain": [
              "dict_items([('martini', {'vodka', 'vermouth'}), ('black russian', {'kahlua', 'vodka'}), ('white russian', {'kahlua', 'vodka', 'cream'}), ('manhattan', {'bitters', 'vermouth', 'rye'}), ('screwdiver', {'orange juice', 'vodka'})])"
            ]
          },
          "metadata": {},
          "execution_count": 92
        }
      ]
    },
    {
      "cell_type": "code",
      "source": [
        "#1\n",
        "for k, v in drinks.items():\n",
        "  if 'vodka' in v:\n",
        "    print(k)\n",
        "   \n"
      ],
      "metadata": {
        "colab": {
          "base_uri": "https://localhost:8080/"
        },
        "id": "ezAnMaVDsZPR",
        "outputId": "afa56f9c-7bcb-4846-ac32-99968becef99"
      },
      "execution_count": null,
      "outputs": [
        {
          "output_type": "stream",
          "name": "stdout",
          "text": [
            "martini\n",
            "black russian\n",
            "white russian\n",
            "screwdiver\n"
          ]
        }
      ]
    },
    {
      "cell_type": "code",
      "source": [
        "#2\n",
        "for k, v in drinks.items():\n",
        "  if 'vodka' in v:\n",
        "    if 'cream' and 'vermouth' not in v:\n",
        "      print(k)"
      ],
      "metadata": {
        "colab": {
          "base_uri": "https://localhost:8080/"
        },
        "id": "D_HTEMg-tH3M",
        "outputId": "257a4c1a-e159-468f-f174-8c97d2d5f1f5"
      },
      "execution_count": null,
      "outputs": [
        {
          "output_type": "stream",
          "name": "stdout",
          "text": [
            "black russian\n",
            "white russian\n",
            "screwdiver\n"
          ]
        }
      ]
    },
    {
      "cell_type": "code",
      "source": [
        "#1\n",
        "for k, v in drinks.items():\n",
        "  if 'vodka' in v:\n",
        "    print(k)\n",
        "#2\n",
        "for k, v in drinks.items():\n",
        "  if 'vodka' in v and not ('cream' in v or 'vermouth' in v):\n",
        "      print(k)"
      ],
      "metadata": {
        "colab": {
          "base_uri": "https://localhost:8080/"
        },
        "id": "__LUixLrtvut",
        "outputId": "dca54ba3-2bdd-47f6-8438-e104d54b5ac9"
      },
      "execution_count": null,
      "outputs": [
        {
          "output_type": "stream",
          "name": "stdout",
          "text": [
            "martini\n",
            "black russian\n",
            "white russian\n",
            "screwdiver\n",
            "black russian\n",
            "screwdiver\n"
          ]
        }
      ]
    },
    {
      "cell_type": "code",
      "source": [
        "a ={1, 2, 3}\n",
        "b = {2, 3, 4}\n",
        "\n",
        "#교집합| intersection\n",
        "a.intersection(b)\n",
        "a & b\n",
        "#합집함| union\n",
        "a.union(b)\n",
        "a | b\n",
        "#차집합| difference\n",
        "a.difference(b)\n",
        "a - b, b - a"
      ],
      "metadata": {
        "colab": {
          "base_uri": "https://localhost:8080/"
        },
        "id": "x_lFJ1tiu_7V",
        "outputId": "887c0340-8be3-49f2-e0c2-a3bf8f71031b"
      },
      "execution_count": null,
      "outputs": [
        {
          "output_type": "execute_result",
          "data": {
            "text/plain": [
              "({1}, {4})"
            ]
          },
          "metadata": {},
          "execution_count": 96
        }
      ]
    },
    {
      "cell_type": "code",
      "source": [
        "# set 활용해서 바꾸기\n",
        "for k, v in drinks.items():\n",
        "  if 'vodka' in v and not ('cream'in v or 'vermouth' in v):\n",
        "    print(k)"
      ],
      "metadata": {
        "colab": {
          "base_uri": "https://localhost:8080/"
        },
        "id": "bc2fdQ-SwMJd",
        "outputId": "07281477-6047-46d5-da97-7ade050fe8e4"
      },
      "execution_count": null,
      "outputs": [
        {
          "output_type": "stream",
          "name": "stdout",
          "text": [
            "black russian\n",
            "screwdiver\n"
          ]
        }
      ]
    },
    {
      "cell_type": "code",
      "source": [
        "# set 활용해서 바꾸기\n",
        "for k, v in drinks.items():\n",
        "  if  v & {'vodka'}:\n",
        "    print(k)"
      ],
      "metadata": {
        "colab": {
          "base_uri": "https://localhost:8080/"
        },
        "id": "GQjTxTigxIY8",
        "outputId": "3b7cf9cc-5a1c-4ab9-fc79-a89583092c6b"
      },
      "execution_count": null,
      "outputs": [
        {
          "output_type": "stream",
          "name": "stdout",
          "text": [
            "martini\n",
            "black russian\n",
            "white russian\n",
            "screwdiver\n"
          ]
        }
      ]
    },
    {
      "cell_type": "code",
      "source": [
        "for k, v in drinks.items():\n",
        "  if  v & {'vodka'} and not v & {'cream', 'vermouth'}:\n",
        "  #if 'vodka' in v and not v & {'cream', 'vermouth'}\n",
        "    print(k)"
      ],
      "metadata": {
        "colab": {
          "base_uri": "https://localhost:8080/"
        },
        "id": "fQT8_LRUwoTO",
        "outputId": "3dee728d-f48d-4c8b-e0e1-ac7f69ee97a5"
      },
      "execution_count": null,
      "outputs": [
        {
          "output_type": "stream",
          "name": "stdout",
          "text": [
            "black russian\n",
            "screwdiver\n"
          ]
        }
      ]
    },
    {
      "cell_type": "code",
      "source": [
        "#issubset\n",
        "{s for s in range(5)}"
      ],
      "metadata": {
        "id": "l03wSkcDxEUO",
        "colab": {
          "base_uri": "https://localhost:8080/"
        },
        "outputId": "bf0fbaac-c4b5-4715-cfb4-fd11bee5d7b4"
      },
      "execution_count": null,
      "outputs": [
        {
          "output_type": "execute_result",
          "data": {
            "text/plain": [
              "{0, 1, 2, 3, 4}"
            ]
          },
          "metadata": {},
          "execution_count": 101
        }
      ]
    },
    {
      "cell_type": "code",
      "source": [
        "#forzenset #가변객체\n",
        "set([1,2])\n",
        "frozenset([1, 2])"
      ],
      "metadata": {
        "colab": {
          "base_uri": "https://localhost:8080/"
        },
        "id": "DCP0f6z0ylI_",
        "outputId": "be64db78-ada2-4f33-aa22-03aadf4b3f09"
      },
      "execution_count": null,
      "outputs": [
        {
          "output_type": "execute_result",
          "data": {
            "text/plain": [
              "frozenset({1, 2})"
            ]
          },
          "metadata": {},
          "execution_count": 103
        }
      ]
    },
    {
      "cell_type": "code",
      "source": [
        ""
      ],
      "metadata": {
        "id": "Z9tAMxsZzZ6w"
      },
      "execution_count": null,
      "outputs": []
    }
  ]
}