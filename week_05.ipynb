{
  "nbformat": 4,
  "nbformat_minor": 0,
  "metadata": {
    "colab": {
      "name": "week_05",
      "provenance": [],
      "collapsed_sections": []
    },
    "kernelspec": {
      "name": "python3",
      "display_name": "Python 3"
    },
    "language_info": {
      "name": "python"
    }
  },
  "cells": [
    {
      "cell_type": "markdown",
      "source": [
        "###반복문\n",
        "- while, for loop\n",
        "\n",
        "#### while loop\n",
        "- 어떤 조건이 만족하는 동안 명령 블록을 수행한다.\n",
        "- if + for loop\n",
        "- 해당 조건이 거짓이면 멈춘다. => 언제 멈추는지 그 시점을 정확히 파악해야 함."
      ],
      "metadata": {
        "id": "xrOwJX1ALTHz"
      }
    },
    {
      "cell_type": "markdown",
      "source": [
        "#### for vs while\n",
        "- for: 반복 횟수가 정해짐, 정확함, 변하지 않음\n",
        " - 예: 성적 산출 -> 산출하는 방법은 같고 횟수 정해짐\n",
        "- while: 횟수 정해지지 않음(횟수 중요하지 x) , 어떤 조건을 만족시킬 때 빠져나오게 하는 게 중요할 때 사용\n",
        " - 예: 가위바위보-> 이겼을 때 반복 멈춤"
      ],
      "metadata": {
        "id": "NAlgscydOQm5"
      }
    },
    {
      "cell_type": "code",
      "source": [
        "for i in range(10):\n",
        "  print(i)"
      ],
      "metadata": {
        "colab": {
          "base_uri": "https://localhost:8080/"
        },
        "id": "rDZwd2U4LUK-",
        "outputId": "2713a457-49f8-458d-ea69-bfc52eb44dc0"
      },
      "execution_count": 3,
      "outputs": [
        {
          "output_type": "stream",
          "name": "stdout",
          "text": [
            "0\n",
            "1\n",
            "2\n",
            "3\n",
            "4\n",
            "5\n",
            "6\n",
            "7\n",
            "8\n",
            "9\n"
          ]
        }
      ]
    },
    {
      "cell_type": "code",
      "source": [
        "j = 0 #초기화 \n",
        "while j < 3: # 0, 1, 2, False\n",
        "  j +=1  #변화 1, 2, 3\n",
        "  print(j) #변화 # 0, 1, 2\n"
      ],
      "metadata": {
        "colab": {
          "base_uri": "https://localhost:8080/"
        },
        "id": "z2wNmvXENj0-",
        "outputId": "624cae48-3c13-456e-81aa-5e8e53e2b062"
      },
      "execution_count": 4,
      "outputs": [
        {
          "output_type": "stream",
          "name": "stdout",
          "text": [
            "1\n",
            "2\n",
            "3\n"
          ]
        }
      ]
    },
    {
      "cell_type": "code",
      "source": [
        "j"
      ],
      "metadata": {
        "colab": {
          "base_uri": "https://localhost:8080/"
        },
        "id": "efhBqaFuN37-",
        "outputId": "1a94a371-a6f6-4cf5-883b-cad47ebdbb12"
      },
      "execution_count": 5,
      "outputs": [
        {
          "output_type": "execute_result",
          "data": {
            "text/plain": [
              "3"
            ]
          },
          "metadata": {},
          "execution_count": 5
        }
      ]
    },
    {
      "cell_type": "code",
      "source": [
        "abcd = ['a', 'b', 'c', 'd']\n",
        "for ch in abcd:\n",
        "  print(ch)"
      ],
      "metadata": {
        "colab": {
          "base_uri": "https://localhost:8080/"
        },
        "id": "aCftUyIeOoFQ",
        "outputId": "be3479d6-aa07-4420-b662-309b9dc75f86"
      },
      "execution_count": 6,
      "outputs": [
        {
          "output_type": "stream",
          "name": "stdout",
          "text": [
            "a\n",
            "b\n",
            "c\n",
            "d\n"
          ]
        }
      ]
    },
    {
      "cell_type": "code",
      "source": [
        "i = 0\n",
        "while i < len(abcd):\n",
        "  print(abcd[i])\n",
        "  i += 1"
      ],
      "metadata": {
        "colab": {
          "base_uri": "https://localhost:8080/"
        },
        "id": "p-VjI7EiOvcy",
        "outputId": "b102798b-fbdf-4141-8641-1bf1ec31bf98"
      },
      "execution_count": 7,
      "outputs": [
        {
          "output_type": "stream",
          "name": "stdout",
          "text": [
            "a\n",
            "b\n",
            "c\n",
            "d\n"
          ]
        }
      ]
    },
    {
      "cell_type": "code",
      "source": [
        ""
      ],
      "metadata": {
        "id": "0homXuyGO_Ei"
      },
      "execution_count": null,
      "outputs": []
    },
    {
      "cell_type": "markdown",
      "source": [
        "### 반복문 제어\n",
        "- 되도록 사용하지 않는다. 의도치 않은 오류 발생할 수 o\n",
        "- break: 논리적으로 반복을 종료시킬 때 사용\n",
        "- else: 어떤 조건이 완전히 끝났을 때 한번 더 실행함. break시에 실행 안 됨\n",
        "- continue: 특정 조건을 건너뛰고 다음 조건 실행"
      ],
      "metadata": {
        "id": "-eLZQltvPWMk"
      }
    },
    {
      "cell_type": "code",
      "source": [
        "#while break\n",
        "j = 0\n",
        "while j < 10:\n",
        "  print(j)\n",
        "  if j ==6: break\n",
        "  j += 1"
      ],
      "metadata": {
        "colab": {
          "base_uri": "https://localhost:8080/"
        },
        "id": "ceXXFIg0Pj5s",
        "outputId": "c02bf722-a857-46e9-afba-69cc86e7db16"
      },
      "execution_count": 8,
      "outputs": [
        {
          "output_type": "stream",
          "name": "stdout",
          "text": [
            "0\n",
            "1\n",
            "2\n",
            "3\n",
            "4\n",
            "5\n",
            "6\n"
          ]
        }
      ]
    },
    {
      "cell_type": "code",
      "source": [
        "#for break\n",
        "for i in range(10):\n",
        "  if i == 6: break\n",
        "  print(i)"
      ],
      "metadata": {
        "colab": {
          "base_uri": "https://localhost:8080/"
        },
        "id": "qNEYecfvPqWC",
        "outputId": "2a4ca2f1-7c32-4d7a-af4d-751900ef9183"
      },
      "execution_count": 10,
      "outputs": [
        {
          "output_type": "stream",
          "name": "stdout",
          "text": [
            "0\n",
            "1\n",
            "2\n",
            "3\n",
            "4\n",
            "5\n"
          ]
        }
      ]
    },
    {
      "cell_type": "code",
      "source": [
        "i"
      ],
      "metadata": {
        "colab": {
          "base_uri": "https://localhost:8080/"
        },
        "id": "ViTy4SfzPxli",
        "outputId": "729c254a-a210-4a75-f195-4073a4b9ecf7"
      },
      "execution_count": 11,
      "outputs": [
        {
          "output_type": "execute_result",
          "data": {
            "text/plain": [
              "6"
            ]
          },
          "metadata": {},
          "execution_count": 11
        }
      ]
    },
    {
      "cell_type": "code",
      "source": [
        "j = 0\n",
        "while j < 10:\n",
        "  print(j)\n",
        "  if j == 6: break\n",
        "  j +=1\n",
        "else:\n",
        "  print('ended') #break 시에 실행 x"
      ],
      "metadata": {
        "colab": {
          "base_uri": "https://localhost:8080/"
        },
        "id": "tyhZtwwNP4sr",
        "outputId": "a2dea9b6-a0e1-40f8-d341-fbf12e5c98c7"
      },
      "execution_count": 12,
      "outputs": [
        {
          "output_type": "stream",
          "name": "stdout",
          "text": [
            "0\n",
            "1\n",
            "2\n",
            "3\n",
            "4\n",
            "5\n",
            "6\n"
          ]
        }
      ]
    },
    {
      "cell_type": "code",
      "source": [
        "j = 0\n",
        "while j < 10:\n",
        "  print(j)\n",
        "\n",
        "  j +=1\n",
        "else:\n",
        "  print('ended')"
      ],
      "metadata": {
        "colab": {
          "base_uri": "https://localhost:8080/"
        },
        "id": "oUn2vUBNQPYS",
        "outputId": "6fc20069-98ff-49cb-b07d-028b33f86854"
      },
      "execution_count": 13,
      "outputs": [
        {
          "output_type": "stream",
          "name": "stdout",
          "text": [
            "0\n",
            "1\n",
            "2\n",
            "3\n",
            "4\n",
            "5\n",
            "6\n",
            "7\n",
            "8\n",
            "9\n",
            "ended\n"
          ]
        }
      ]
    },
    {
      "cell_type": "code",
      "source": [
        "for i in range(10):\n",
        "  if i == 6: continue\n",
        "  print(i)"
      ],
      "metadata": {
        "colab": {
          "base_uri": "https://localhost:8080/"
        },
        "id": "DALgPVGmQkfd",
        "outputId": "6ee5a54e-311b-4c01-f539-21440a6b611a"
      },
      "execution_count": 14,
      "outputs": [
        {
          "output_type": "stream",
          "name": "stdout",
          "text": [
            "0\n",
            "1\n",
            "2\n",
            "3\n",
            "4\n",
            "5\n",
            "7\n",
            "8\n",
            "9\n"
          ]
        }
      ]
    },
    {
      "cell_type": "markdown",
      "source": [
        "### gugudan\n",
        "변수는 입력을 받아서 사용함\n",
        "- 1. n 단 출력\n",
        "- 2. 1~n단 출력\n",
        "- 3. n, m 모두 입력 받아서 출력\n",
        "- 4. 프로그램으로 만듦.\n",
        " - 메뉴: 1) n, 2) 1-n, 3) n-m단\n"
      ],
      "metadata": {
        "id": "baQiPLbLRg-1"
      }
    },
    {
      "cell_type": "code",
      "source": [
        "n = int(input('몇 단을 출력하시겠습니까? :'))\n",
        "i = 1\n",
        "if n < 10 and n > 0:\n",
        "  print(f'=== {n}단 ===')\n",
        "for i in range(9):\n",
        "  if n >= 10 or n <= 0: break\n",
        "  n*i\n",
        "  i += 1\n",
        "  print('{} x {} = {}'.format(n, i, n*i))"
      ],
      "metadata": {
        "colab": {
          "base_uri": "https://localhost:8080/"
        },
        "id": "yadouJyyRfJx",
        "outputId": "8dd0dc24-338d-4642-8637-6d2c78330a15"
      },
      "execution_count": 15,
      "outputs": [
        {
          "output_type": "stream",
          "name": "stdout",
          "text": [
            "몇 단을 출력하시겠습니까? :1\n",
            "=== 1단 ===\n",
            "1 x 1 = 1\n",
            "1 x 2 = 2\n",
            "1 x 3 = 3\n",
            "1 x 4 = 4\n",
            "1 x 5 = 5\n",
            "1 x 6 = 6\n",
            "1 x 7 = 7\n",
            "1 x 8 = 8\n",
            "1 x 9 = 9\n"
          ]
        }
      ]
    },
    {
      "cell_type": "code",
      "source": [
        "n = int(input('몇 단까지 출력하시겠습니까? :'))\n",
        "i = 1\n",
        "\n",
        "for i in range(1,n+1):\n",
        "  if n >= 10 or n <= 0: break\n",
        "  print(f'==== {i}단 ====')\n",
        "  for j in range(1, 10):\n",
        "    print(f'{i} x {j} = {i*j}')\n",
        " \n"
      ],
      "metadata": {
        "colab": {
          "base_uri": "https://localhost:8080/"
        },
        "id": "A3ryebKaSyo-",
        "outputId": "71469868-0202-4bc0-8b18-df29a6283d77"
      },
      "execution_count": 17,
      "outputs": [
        {
          "output_type": "stream",
          "name": "stdout",
          "text": [
            "몇 단까지 출력하시겠습니까? :5\n",
            "==== 1단 ====\n",
            "1 x 1 = 1\n",
            "1 x 2 = 2\n",
            "1 x 3 = 3\n",
            "1 x 4 = 4\n",
            "1 x 5 = 5\n",
            "1 x 6 = 6\n",
            "1 x 7 = 7\n",
            "1 x 8 = 8\n",
            "1 x 9 = 9\n",
            "==== 2단 ====\n",
            "2 x 1 = 2\n",
            "2 x 2 = 4\n",
            "2 x 3 = 6\n",
            "2 x 4 = 8\n",
            "2 x 5 = 10\n",
            "2 x 6 = 12\n",
            "2 x 7 = 14\n",
            "2 x 8 = 16\n",
            "2 x 9 = 18\n",
            "==== 3단 ====\n",
            "3 x 1 = 3\n",
            "3 x 2 = 6\n",
            "3 x 3 = 9\n",
            "3 x 4 = 12\n",
            "3 x 5 = 15\n",
            "3 x 6 = 18\n",
            "3 x 7 = 21\n",
            "3 x 8 = 24\n",
            "3 x 9 = 27\n",
            "==== 4단 ====\n",
            "4 x 1 = 4\n",
            "4 x 2 = 8\n",
            "4 x 3 = 12\n",
            "4 x 4 = 16\n",
            "4 x 5 = 20\n",
            "4 x 6 = 24\n",
            "4 x 7 = 28\n",
            "4 x 8 = 32\n",
            "4 x 9 = 36\n",
            "==== 5단 ====\n",
            "5 x 1 = 5\n",
            "5 x 2 = 10\n",
            "5 x 3 = 15\n",
            "5 x 4 = 20\n",
            "5 x 5 = 25\n",
            "5 x 6 = 30\n",
            "5 x 7 = 35\n",
            "5 x 8 = 40\n",
            "5 x 9 = 45\n"
          ]
        }
      ]
    },
    {
      "cell_type": "code",
      "source": [
        "n = int(input('몇 단부터 출력하시겠습니까?: '))\n",
        "m = int(input('몇 단까지 출력하시겠습니까? :'))\n",
        "\n",
        "for i in range(n,m+1):\n",
        "  if n >= 10 or m >= 10 or n > m:\n",
        "    print('다시 입력하세요.')\n",
        "  print(f'==== {i}단 ====')\n",
        "  for j in range(1, 10):\n",
        "    print(f'{i} x {j} = {i*j}')\n",
        " "
      ],
      "metadata": {
        "colab": {
          "base_uri": "https://localhost:8080/"
        },
        "id": "l5xWp41TUeYq",
        "outputId": "698b4a2f-d6df-42a3-b702-8f9f9ef193c0"
      },
      "execution_count": 20,
      "outputs": [
        {
          "output_type": "stream",
          "name": "stdout",
          "text": [
            "몇 단부터 출력하시겠습니까?: 7\n",
            "몇 단까지 출력하시겠습니까? :9\n",
            "==== 7단 ====\n",
            "7 x 1 = 7\n",
            "7 x 2 = 14\n",
            "7 x 3 = 21\n",
            "7 x 4 = 28\n",
            "7 x 5 = 35\n",
            "7 x 6 = 42\n",
            "7 x 7 = 49\n",
            "7 x 8 = 56\n",
            "7 x 9 = 63\n",
            "==== 8단 ====\n",
            "8 x 1 = 8\n",
            "8 x 2 = 16\n",
            "8 x 3 = 24\n",
            "8 x 4 = 32\n",
            "8 x 5 = 40\n",
            "8 x 6 = 48\n",
            "8 x 7 = 56\n",
            "8 x 8 = 64\n",
            "8 x 9 = 72\n",
            "==== 9단 ====\n",
            "9 x 1 = 9\n",
            "9 x 2 = 18\n",
            "9 x 3 = 27\n",
            "9 x 4 = 36\n",
            "9 x 5 = 45\n",
            "9 x 6 = 54\n",
            "9 x 7 = 63\n",
            "9 x 8 = 72\n",
            "9 x 9 = 81\n"
          ]
        }
      ]
    },
    {
      "cell_type": "code",
      "source": [
        "while True:\n",
        "  print('\\n====구구단 프로그램====\\n')\n",
        "  print('메뉴')\n",
        "  print(' 1. n단 출력\\n 2. 1~n단 출력\\n 3. n~m단 출력\\n 4. 프로그램 종료')\n",
        "  num = int(input('원하시는 프로그램의 번호를 입력하세요.'))\n",
        "\n",
        "  if num == 1:\n",
        "   n = int(input('몇 단을 출력하시겠습니까?: '))\n",
        "   if n < 1 or n > 9:\n",
        "     print('1~9단 까지만 출력이 가능합니다. 다시 입력하세요.')\n",
        "   else:\n",
        "     print(f'=== {n}단 ===')\n",
        "     for i in range(1,10):\n",
        "       if n >= 10 or n <= 0: break\n",
        "       n*i\n",
        "       print('{} x {} = {}'.format(n, i, n*i))\n",
        "  elif num == 2:\n",
        "    n = int(input('몇 단까지 출력하시겠습니까?: '))\n",
        "    if n < 1 or n > 9:\n",
        "      print('1~9단 까지만 출력이 가능합니다. 다시 입력하세요.')\n",
        "    else:\n",
        "      for i in range(1,n+1):\n",
        "        if n >= 10 or n <= 0: break\n",
        "        print(f'==== {i}단 ====')\n",
        "        for j in range(1, 10):\n",
        "          print(f'{i} x {j} = {i*j}')\n",
        "  elif num == 3:\n",
        "    n = int(input('몇 단부터 출력하시겠습니까?: '))\n",
        "    m = int(input('몇 단까지 출력하시겠습니까? :'))\n",
        "    if (n < 1 or n > 9) or (m < 1 or m > 9):\n",
        "      print('1~9단 까지만 출력이 가능합니다. 다시 입력하세요.')\n",
        "    elif n > m:\n",
        "      print('작은 단부터 입력하세요.')\n",
        "    else:\n",
        "     for i in range(n,m+1):\n",
        "       print(f'==== {i}단 ====')\n",
        "       for j in range(1, 10):\n",
        "         print(f'{i} x {j} = {i*j}')\n",
        "  elif num == 4:\n",
        "    print('프로그램을 종료합니다.')\n",
        "    break\n",
        "  else:\n",
        "    print('해당하는 프로그램이 없습니다. 원하시는 프로그램의 번호를 다시 입력하세요.')\n",
        "\n"
      ],
      "metadata": {
        "colab": {
          "base_uri": "https://localhost:8080/"
        },
        "id": "YwPitiaPV0PZ",
        "outputId": "de208971-7171-4e74-e15d-1ef2e2c8aa85"
      },
      "execution_count": 55,
      "outputs": [
        {
          "output_type": "stream",
          "name": "stdout",
          "text": [
            "\n",
            "====구구단 프로그램====\n",
            "\n",
            "메뉴\n",
            " 1. n단 출력\n",
            " 2. 1~n단 출력\n",
            " 3. n~m단 출력\n",
            " 4. 프로그램 종료\n",
            "원하시는 프로그램의 번호를 입력하세요.1\n",
            "몇 단을 출력하시겠습니까?: 3\n",
            "=== 3단 ===\n",
            "3 x 1 = 3\n",
            "3 x 2 = 6\n",
            "3 x 3 = 9\n",
            "3 x 4 = 12\n",
            "3 x 5 = 15\n",
            "3 x 6 = 18\n",
            "3 x 7 = 21\n",
            "3 x 8 = 24\n",
            "3 x 9 = 27\n",
            "\n",
            "====구구단 프로그램====\n",
            "\n",
            "메뉴\n",
            " 1. n단 출력\n",
            " 2. 1~n단 출력\n",
            " 3. n~m단 출력\n",
            " 4. 프로그램 종료\n",
            "원하시는 프로그램의 번호를 입력하세요.2\n",
            "몇 단까지 출력하시겠습니까?: 3\n",
            "==== 1단 ====\n",
            "1 x 1 = 1\n",
            "1 x 2 = 2\n",
            "1 x 3 = 3\n",
            "1 x 4 = 4\n",
            "1 x 5 = 5\n",
            "1 x 6 = 6\n",
            "1 x 7 = 7\n",
            "1 x 8 = 8\n",
            "1 x 9 = 9\n",
            "==== 2단 ====\n",
            "2 x 1 = 2\n",
            "2 x 2 = 4\n",
            "2 x 3 = 6\n",
            "2 x 4 = 8\n",
            "2 x 5 = 10\n",
            "2 x 6 = 12\n",
            "2 x 7 = 14\n",
            "2 x 8 = 16\n",
            "2 x 9 = 18\n",
            "==== 3단 ====\n",
            "3 x 1 = 3\n",
            "3 x 2 = 6\n",
            "3 x 3 = 9\n",
            "3 x 4 = 12\n",
            "3 x 5 = 15\n",
            "3 x 6 = 18\n",
            "3 x 7 = 21\n",
            "3 x 8 = 24\n",
            "3 x 9 = 27\n",
            "\n",
            "====구구단 프로그램====\n",
            "\n",
            "메뉴\n",
            " 1. n단 출력\n",
            " 2. 1~n단 출력\n",
            " 3. n~m단 출력\n",
            " 4. 프로그램 종료\n",
            "원하시는 프로그램의 번호를 입력하세요.3\n",
            "몇 단부터 출력하시겠습니까?: 2\n",
            "몇 단까지 출력하시겠습니까? :4\n",
            "==== 2단 ====\n",
            "2 x 1 = 2\n",
            "2 x 2 = 4\n",
            "2 x 3 = 6\n",
            "2 x 4 = 8\n",
            "2 x 5 = 10\n",
            "2 x 6 = 12\n",
            "2 x 7 = 14\n",
            "2 x 8 = 16\n",
            "2 x 9 = 18\n",
            "==== 3단 ====\n",
            "3 x 1 = 3\n",
            "3 x 2 = 6\n",
            "3 x 3 = 9\n",
            "3 x 4 = 12\n",
            "3 x 5 = 15\n",
            "3 x 6 = 18\n",
            "3 x 7 = 21\n",
            "3 x 8 = 24\n",
            "3 x 9 = 27\n",
            "==== 4단 ====\n",
            "4 x 1 = 4\n",
            "4 x 2 = 8\n",
            "4 x 3 = 12\n",
            "4 x 4 = 16\n",
            "4 x 5 = 20\n",
            "4 x 6 = 24\n",
            "4 x 7 = 28\n",
            "4 x 8 = 32\n",
            "4 x 9 = 36\n",
            "\n",
            "====구구단 프로그램====\n",
            "\n",
            "메뉴\n",
            " 1. n단 출력\n",
            " 2. 1~n단 출력\n",
            " 3. n~m단 출력\n",
            " 4. 프로그램 종료\n",
            "원하시는 프로그램의 번호를 입력하세요.6\n",
            "해당하는 프로그램이 없습니다. 원하시는 프로그램의 번호를 다시 입력하세요.\n",
            "\n",
            "====구구단 프로그램====\n",
            "\n",
            "메뉴\n",
            " 1. n단 출력\n",
            " 2. 1~n단 출력\n",
            " 3. n~m단 출력\n",
            " 4. 프로그램 종료\n",
            "원하시는 프로그램의 번호를 입력하세요.4\n",
            "프로그램을 종료합니다.\n"
          ]
        }
      ]
    },
    {
      "cell_type": "markdown",
      "source": [
        "####NLTK corpus\n",
        "- 코퍼스 + 테마\n",
        "- 종류\n",
        " - brown\n",
        " - gutenberg\n",
        " - inaugural\n",
        "- methods\n",
        " - word() -> tokens\n",
        " - sents()\n",
        " - raw()\n",
        " - fileids()"
      ],
      "metadata": {
        "id": "0onlIkEDuna2"
      }
    },
    {
      "cell_type": "code",
      "source": [
        "'''\n",
        "text1 ~ 9\n",
        "text1 vs 'text1'\n",
        "text1 -  9 string 가져오기\n",
        "'''"
      ],
      "metadata": {
        "id": "WK65xwx0YVR5",
        "colab": {
          "base_uri": "https://localhost:8080/",
          "height": 35
        },
        "outputId": "1d684592-6b06-4440-c4ee-81078139ed80"
      },
      "execution_count": 28,
      "outputs": [
        {
          "output_type": "execute_result",
          "data": {
            "text/plain": [
              "\"\\ntext1 ~ 9\\ntext1 vs 'text1'\\ntext1 -  9 string 가져오기\\n\""
            ],
            "application/vnd.google.colaboratory.intrinsic+json": {
              "type": "string"
            }
          },
          "metadata": {},
          "execution_count": 28
        }
      ]
    },
    {
      "cell_type": "code",
      "source": [
        "import nltk\n",
        "\n",
        "nltk.download('book', quiet = True)\n",
        "from nltk import book"
      ],
      "metadata": {
        "id": "rVGWhaUgb3Gh",
        "colab": {
          "base_uri": "https://localhost:8080/"
        },
        "outputId": "05aff228-a31e-4078-de61-301eb67e079e"
      },
      "execution_count": 29,
      "outputs": [
        {
          "output_type": "stream",
          "name": "stdout",
          "text": [
            "*** Introductory Examples for the NLTK Book ***\n",
            "Loading text1, ..., text9 and sent1, ..., sent9\n",
            "Type the name of the text or sentence to view it.\n",
            "Type: 'texts()' or 'sents()' to list the materials.\n",
            "text1: Moby Dick by Herman Melville 1851\n",
            "text2: Sense and Sensibility by Jane Austen 1811\n",
            "text3: The Book of Genesis\n",
            "text4: Inaugural Address Corpus\n",
            "text5: Chat Corpus\n",
            "text6: Monty Python and the Holy Grail\n",
            "text7: Wall Street Journal\n",
            "text8: Personals Corpus\n",
            "text9: The Man Who Was Thursday by G . K . Chesterton 1908\n"
          ]
        }
      ]
    },
    {
      "cell_type": "code",
      "source": [
        "from nltk.corpus import gutenberg\n",
        "nltk.download(['brown', 'gutenberg', 'inaugural'])"
      ],
      "metadata": {
        "colab": {
          "base_uri": "https://localhost:8080/"
        },
        "id": "dobiO5SEb-Xs",
        "outputId": "0724a93b-c40c-4f8e-d83a-19a678cd75b4"
      },
      "execution_count": 30,
      "outputs": [
        {
          "output_type": "stream",
          "name": "stdout",
          "text": [
            "[nltk_data] Downloading package brown to /root/nltk_data...\n",
            "[nltk_data]   Package brown is already up-to-date!\n",
            "[nltk_data] Downloading package gutenberg to /root/nltk_data...\n",
            "[nltk_data]   Package gutenberg is already up-to-date!\n",
            "[nltk_data] Downloading package inaugural to /root/nltk_data...\n",
            "[nltk_data]   Package inaugural is already up-to-date!\n"
          ]
        },
        {
          "output_type": "execute_result",
          "data": {
            "text/plain": [
              "True"
            ]
          },
          "metadata": {},
          "execution_count": 30
        }
      ]
    },
    {
      "cell_type": "code",
      "source": [
        "gutenberg # = nltk.corpus.gutenberg"
      ],
      "metadata": {
        "colab": {
          "base_uri": "https://localhost:8080/"
        },
        "id": "15bPC8GfdLdA",
        "outputId": "5a9cf1e4-f9ba-4f26-eb73-e5bc98c8ddff"
      },
      "execution_count": 31,
      "outputs": [
        {
          "output_type": "execute_result",
          "data": {
            "text/plain": [
              "<PlaintextCorpusReader in '/root/nltk_data/corpora/gutenberg'>"
            ]
          },
          "metadata": {},
          "execution_count": 31
        }
      ]
    },
    {
      "cell_type": "code",
      "source": [
        "gutenberg.fileids()"
      ],
      "metadata": {
        "colab": {
          "base_uri": "https://localhost:8080/"
        },
        "id": "Hhxjr2GJdTFa",
        "outputId": "33cfc3ff-1354-490d-efde-d0d7d51343f4"
      },
      "execution_count": 32,
      "outputs": [
        {
          "output_type": "execute_result",
          "data": {
            "text/plain": [
              "['austen-emma.txt',\n",
              " 'austen-persuasion.txt',\n",
              " 'austen-sense.txt',\n",
              " 'bible-kjv.txt',\n",
              " 'blake-poems.txt',\n",
              " 'bryant-stories.txt',\n",
              " 'burgess-busterbrown.txt',\n",
              " 'carroll-alice.txt',\n",
              " 'chesterton-ball.txt',\n",
              " 'chesterton-brown.txt',\n",
              " 'chesterton-thursday.txt',\n",
              " 'edgeworth-parents.txt',\n",
              " 'melville-moby_dick.txt',\n",
              " 'milton-paradise.txt',\n",
              " 'shakespeare-caesar.txt',\n",
              " 'shakespeare-hamlet.txt',\n",
              " 'shakespeare-macbeth.txt',\n",
              " 'whitman-leaves.txt']"
            ]
          },
          "metadata": {},
          "execution_count": 32
        }
      ]
    },
    {
      "cell_type": "code",
      "source": [
        "gutenberg.words(fileids='carroll-alice.txt')\n"
      ],
      "metadata": {
        "colab": {
          "base_uri": "https://localhost:8080/"
        },
        "id": "YE-Ok3pDvOxM",
        "outputId": "7aa8c308-9270-473a-b6fc-35b7227be35c"
      },
      "execution_count": 56,
      "outputs": [
        {
          "output_type": "execute_result",
          "data": {
            "text/plain": [
              "['[', 'Alice', \"'\", 's', 'Adventures', 'in', ...]"
            ]
          },
          "metadata": {},
          "execution_count": 56
        }
      ]
    },
    {
      "cell_type": "code",
      "source": [
        "gutenberg.words(fileids=['carroll-alice.txt', 'austen-emma.txt'])"
      ],
      "metadata": {
        "colab": {
          "base_uri": "https://localhost:8080/"
        },
        "id": "sWwIf17qvVFR",
        "outputId": "8182a9f5-15ca-4704-9490-c64f9733f35d"
      },
      "execution_count": 57,
      "outputs": [
        {
          "output_type": "execute_result",
          "data": {
            "text/plain": [
              "['[', 'Alice', \"'\", 's', 'Adventures', 'in', ...]"
            ]
          },
          "metadata": {},
          "execution_count": 57
        }
      ]
    },
    {
      "cell_type": "code",
      "source": [
        "# 각 파일마다 word, character, sents 개수 출력하기\n",
        "for i in gutenberg.fileids():\n",
        "  word = len(gutenberg.words(i))\n",
        "  character = len(gutenberg.raw(i))\n",
        "  sent = len(gutenberg.sents(i))\n",
        "  print('{} | 단어 수:{}개, 글자 수:{}개, 문장 수: {}개'.format(i[:-4], word, character, sent))"
      ],
      "metadata": {
        "colab": {
          "base_uri": "https://localhost:8080/"
        },
        "id": "me_moqDtdXzI",
        "outputId": "44f12f8d-6234-43a4-fc15-11f6fe42d0cb"
      },
      "execution_count": 39,
      "outputs": [
        {
          "output_type": "stream",
          "name": "stdout",
          "text": [
            "austen-emma | 단어 수:192427개, 글자 수:887071개, 문장 수: 7752개\n",
            "austen-persuasion | 단어 수:98171개, 글자 수:466292개, 문장 수: 3747개\n",
            "austen-sense | 단어 수:141576개, 글자 수:673022개, 문장 수: 4999개\n",
            "bible-kjv | 단어 수:1010654개, 글자 수:4332554개, 문장 수: 30103개\n",
            "blake-poems | 단어 수:8354개, 글자 수:38153개, 문장 수: 438개\n",
            "bryant-stories | 단어 수:55563개, 글자 수:249439개, 문장 수: 2863개\n",
            "burgess-busterbrown | 단어 수:18963개, 글자 수:84663개, 문장 수: 1054개\n",
            "carroll-alice | 단어 수:34110개, 글자 수:144395개, 문장 수: 1703개\n",
            "chesterton-ball | 단어 수:96996개, 글자 수:457450개, 문장 수: 4779개\n",
            "chesterton-brown | 단어 수:86063개, 글자 수:406629개, 문장 수: 3806개\n",
            "chesterton-thursday | 단어 수:69213개, 글자 수:320525개, 문장 수: 3742개\n",
            "edgeworth-parents | 단어 수:210663개, 글자 수:935158개, 문장 수: 10230개\n",
            "melville-moby_dick | 단어 수:260819개, 글자 수:1242990개, 문장 수: 10059개\n",
            "milton-paradise | 단어 수:96825개, 글자 수:468220개, 문장 수: 1851개\n",
            "shakespeare-caesar | 단어 수:25833개, 글자 수:112310개, 문장 수: 2163개\n",
            "shakespeare-hamlet | 단어 수:37360개, 글자 수:162881개, 문장 수: 3106개\n",
            "shakespeare-macbeth | 단어 수:23140개, 글자 수:100351개, 문장 수: 1907개\n",
            "whitman-leaves | 단어 수:154883개, 글자 수:711215개, 문장 수: 4250개\n"
          ]
        }
      ]
    },
    {
      "cell_type": "markdown",
      "source": [
        "#### Gutenberg\n",
        "- 1. shakespeare-caesar 의 중복된 단어를 거르고 각 단어의 길이를 출력하시오.\n",
        "- 2. chesterton-thursday에서 길이가 4자 이하인 알파벳 중 ie를 포함하는 단어를 소문자로 출력하고, 개수를 세어라.\n",
        "- 3. bryant-stories에서 ch로 끝나는 단어를 출력하는데, 중복 없이, 첫글자(모두 소문자)와 끝 ch만 남기고 가운데 글자들은 모두 -로 가려라.\n",
        "예:much -> m-ch\n"
      ],
      "metadata": {
        "id": "L_EJ4XTRipBU"
      }
    },
    {
      "cell_type": "code",
      "source": [
        "#1\n",
        "[len(word) for word in set(gutenberg.words(fileids=('shakespeare-caesar.txt')))]"
      ],
      "metadata": {
        "colab": {
          "base_uri": "https://localhost:8080/"
        },
        "id": "KspLp7FweG5b",
        "outputId": "26f4f181-26aa-4d0c-8a1b-3852bd6d953f"
      },
      "execution_count": 40,
      "outputs": [
        {
          "output_type": "execute_result",
          "data": {
            "text/plain": [
              "[4,\n",
              " 8,\n",
              " 6,\n",
              " 6,\n",
              " 10,\n",
              " 6,\n",
              " 6,\n",
              " 6,\n",
              " 5,\n",
              " 5,\n",
              " 3,\n",
              " 4,\n",
              " 6,\n",
              " 7,\n",
              " 10,\n",
              " 6,\n",
              " 6,\n",
              " 6,\n",
              " 2,\n",
              " 4,\n",
              " 7,\n",
              " 7,\n",
              " 7,\n",
              " 6,\n",
              " 4,\n",
              " 6,\n",
              " 5,\n",
              " 7,\n",
              " 5,\n",
              " 6,\n",
              " 6,\n",
              " 5,\n",
              " 10,\n",
              " 7,\n",
              " 5,\n",
              " 5,\n",
              " 9,\n",
              " 7,\n",
              " 10,\n",
              " 9,\n",
              " 2,\n",
              " 10,\n",
              " 5,\n",
              " 9,\n",
              " 5,\n",
              " 4,\n",
              " 4,\n",
              " 6,\n",
              " 9,\n",
              " 5,\n",
              " 6,\n",
              " 7,\n",
              " 3,\n",
              " 6,\n",
              " 4,\n",
              " 4,\n",
              " 1,\n",
              " 7,\n",
              " 6,\n",
              " 6,\n",
              " 8,\n",
              " 7,\n",
              " 5,\n",
              " 6,\n",
              " 4,\n",
              " 9,\n",
              " 5,\n",
              " 8,\n",
              " 5,\n",
              " 9,\n",
              " 4,\n",
              " 10,\n",
              " 3,\n",
              " 6,\n",
              " 4,\n",
              " 5,\n",
              " 5,\n",
              " 7,\n",
              " 4,\n",
              " 2,\n",
              " 9,\n",
              " 4,\n",
              " 5,\n",
              " 9,\n",
              " 6,\n",
              " 4,\n",
              " 5,\n",
              " 8,\n",
              " 4,\n",
              " 5,\n",
              " 9,\n",
              " 13,\n",
              " 3,\n",
              " 6,\n",
              " 7,\n",
              " 3,\n",
              " 6,\n",
              " 6,\n",
              " 3,\n",
              " 3,\n",
              " 6,\n",
              " 6,\n",
              " 6,\n",
              " 6,\n",
              " 7,\n",
              " 8,\n",
              " 2,\n",
              " 6,\n",
              " 6,\n",
              " 4,\n",
              " 4,\n",
              " 5,\n",
              " 6,\n",
              " 3,\n",
              " 5,\n",
              " 8,\n",
              " 5,\n",
              " 6,\n",
              " 5,\n",
              " 4,\n",
              " 9,\n",
              " 6,\n",
              " 9,\n",
              " 7,\n",
              " 4,\n",
              " 8,\n",
              " 8,\n",
              " 6,\n",
              " 8,\n",
              " 3,\n",
              " 7,\n",
              " 6,\n",
              " 6,\n",
              " 5,\n",
              " 6,\n",
              " 4,\n",
              " 6,\n",
              " 5,\n",
              " 5,\n",
              " 11,\n",
              " 6,\n",
              " 7,\n",
              " 4,\n",
              " 9,\n",
              " 4,\n",
              " 5,\n",
              " 5,\n",
              " 4,\n",
              " 6,\n",
              " 7,\n",
              " 5,\n",
              " 7,\n",
              " 5,\n",
              " 9,\n",
              " 9,\n",
              " 5,\n",
              " 6,\n",
              " 6,\n",
              " 5,\n",
              " 3,\n",
              " 8,\n",
              " 3,\n",
              " 8,\n",
              " 4,\n",
              " 5,\n",
              " 9,\n",
              " 6,\n",
              " 5,\n",
              " 6,\n",
              " 5,\n",
              " 5,\n",
              " 6,\n",
              " 9,\n",
              " 5,\n",
              " 6,\n",
              " 11,\n",
              " 7,\n",
              " 6,\n",
              " 6,\n",
              " 3,\n",
              " 5,\n",
              " 4,\n",
              " 4,\n",
              " 6,\n",
              " 3,\n",
              " 5,\n",
              " 7,\n",
              " 5,\n",
              " 8,\n",
              " 7,\n",
              " 5,\n",
              " 5,\n",
              " 7,\n",
              " 4,\n",
              " 9,\n",
              " 7,\n",
              " 6,\n",
              " 4,\n",
              " 6,\n",
              " 8,\n",
              " 4,\n",
              " 5,\n",
              " 12,\n",
              " 7,\n",
              " 5,\n",
              " 4,\n",
              " 6,\n",
              " 5,\n",
              " 8,\n",
              " 6,\n",
              " 6,\n",
              " 8,\n",
              " 5,\n",
              " 4,\n",
              " 8,\n",
              " 6,\n",
              " 2,\n",
              " 6,\n",
              " 4,\n",
              " 4,\n",
              " 8,\n",
              " 6,\n",
              " 6,\n",
              " 6,\n",
              " 6,\n",
              " 9,\n",
              " 8,\n",
              " 6,\n",
              " 4,\n",
              " 9,\n",
              " 4,\n",
              " 6,\n",
              " 4,\n",
              " 3,\n",
              " 3,\n",
              " 7,\n",
              " 9,\n",
              " 5,\n",
              " 11,\n",
              " 3,\n",
              " 8,\n",
              " 7,\n",
              " 9,\n",
              " 5,\n",
              " 4,\n",
              " 5,\n",
              " 7,\n",
              " 5,\n",
              " 6,\n",
              " 8,\n",
              " 4,\n",
              " 11,\n",
              " 10,\n",
              " 5,\n",
              " 8,\n",
              " 7,\n",
              " 5,\n",
              " 4,\n",
              " 6,\n",
              " 8,\n",
              " 3,\n",
              " 7,\n",
              " 8,\n",
              " 2,\n",
              " 8,\n",
              " 10,\n",
              " 5,\n",
              " 8,\n",
              " 4,\n",
              " 4,\n",
              " 8,\n",
              " 7,\n",
              " 8,\n",
              " 5,\n",
              " 4,\n",
              " 4,\n",
              " 7,\n",
              " 7,\n",
              " 3,\n",
              " 8,\n",
              " 5,\n",
              " 5,\n",
              " 7,\n",
              " 5,\n",
              " 1,\n",
              " 6,\n",
              " 3,\n",
              " 8,\n",
              " 3,\n",
              " 7,\n",
              " 3,\n",
              " 9,\n",
              " 5,\n",
              " 8,\n",
              " 5,\n",
              " 8,\n",
              " 3,\n",
              " 10,\n",
              " 7,\n",
              " 8,\n",
              " 4,\n",
              " 5,\n",
              " 7,\n",
              " 5,\n",
              " 5,\n",
              " 8,\n",
              " 3,\n",
              " 3,\n",
              " 4,\n",
              " 5,\n",
              " 4,\n",
              " 3,\n",
              " 4,\n",
              " 5,\n",
              " 6,\n",
              " 4,\n",
              " 7,\n",
              " 7,\n",
              " 8,\n",
              " 8,\n",
              " 5,\n",
              " 5,\n",
              " 5,\n",
              " 6,\n",
              " 12,\n",
              " 6,\n",
              " 6,\n",
              " 7,\n",
              " 9,\n",
              " 4,\n",
              " 5,\n",
              " 6,\n",
              " 7,\n",
              " 7,\n",
              " 5,\n",
              " 9,\n",
              " 4,\n",
              " 6,\n",
              " 5,\n",
              " 7,\n",
              " 4,\n",
              " 5,\n",
              " 5,\n",
              " 6,\n",
              " 6,\n",
              " 4,\n",
              " 11,\n",
              " 6,\n",
              " 11,\n",
              " 15,\n",
              " 6,\n",
              " 9,\n",
              " 6,\n",
              " 4,\n",
              " 8,\n",
              " 4,\n",
              " 7,\n",
              " 5,\n",
              " 3,\n",
              " 3,\n",
              " 8,\n",
              " 5,\n",
              " 9,\n",
              " 7,\n",
              " 6,\n",
              " 9,\n",
              " 4,\n",
              " 8,\n",
              " 10,\n",
              " 8,\n",
              " 4,\n",
              " 8,\n",
              " 3,\n",
              " 5,\n",
              " 10,\n",
              " 7,\n",
              " 4,\n",
              " 4,\n",
              " 5,\n",
              " 6,\n",
              " 5,\n",
              " 4,\n",
              " 6,\n",
              " 5,\n",
              " 4,\n",
              " 5,\n",
              " 10,\n",
              " 8,\n",
              " 5,\n",
              " 8,\n",
              " 7,\n",
              " 10,\n",
              " 2,\n",
              " 7,\n",
              " 7,\n",
              " 6,\n",
              " 3,\n",
              " 8,\n",
              " 12,\n",
              " 5,\n",
              " 2,\n",
              " 6,\n",
              " 6,\n",
              " 6,\n",
              " 5,\n",
              " 7,\n",
              " 9,\n",
              " 4,\n",
              " 2,\n",
              " 10,\n",
              " 8,\n",
              " 12,\n",
              " 3,\n",
              " 5,\n",
              " 4,\n",
              " 5,\n",
              " 6,\n",
              " 3,\n",
              " 5,\n",
              " 4,\n",
              " 5,\n",
              " 4,\n",
              " 10,\n",
              " 3,\n",
              " 8,\n",
              " 10,\n",
              " 11,\n",
              " 4,\n",
              " 7,\n",
              " 12,\n",
              " 4,\n",
              " 1,\n",
              " 4,\n",
              " 7,\n",
              " 5,\n",
              " 7,\n",
              " 4,\n",
              " 6,\n",
              " 6,\n",
              " 4,\n",
              " 5,\n",
              " 6,\n",
              " 3,\n",
              " 4,\n",
              " 4,\n",
              " 7,\n",
              " 4,\n",
              " 6,\n",
              " 8,\n",
              " 3,\n",
              " 5,\n",
              " 7,\n",
              " 4,\n",
              " 6,\n",
              " 6,\n",
              " 4,\n",
              " 7,\n",
              " 8,\n",
              " 4,\n",
              " 6,\n",
              " 10,\n",
              " 6,\n",
              " 10,\n",
              " 9,\n",
              " 3,\n",
              " 6,\n",
              " 4,\n",
              " 6,\n",
              " 5,\n",
              " 6,\n",
              " 7,\n",
              " 5,\n",
              " 6,\n",
              " 5,\n",
              " 6,\n",
              " 5,\n",
              " 7,\n",
              " 5,\n",
              " 7,\n",
              " 5,\n",
              " 6,\n",
              " 4,\n",
              " 4,\n",
              " 6,\n",
              " 5,\n",
              " 3,\n",
              " 5,\n",
              " 5,\n",
              " 9,\n",
              " 3,\n",
              " 8,\n",
              " 7,\n",
              " 5,\n",
              " 6,\n",
              " 5,\n",
              " 6,\n",
              " 6,\n",
              " 7,\n",
              " 5,\n",
              " 3,\n",
              " 8,\n",
              " 7,\n",
              " 3,\n",
              " 10,\n",
              " 6,\n",
              " 4,\n",
              " 5,\n",
              " 6,\n",
              " 9,\n",
              " 5,\n",
              " 5,\n",
              " 5,\n",
              " 4,\n",
              " 6,\n",
              " 5,\n",
              " 9,\n",
              " 3,\n",
              " 9,\n",
              " 10,\n",
              " 7,\n",
              " 9,\n",
              " 6,\n",
              " 5,\n",
              " 4,\n",
              " 8,\n",
              " 5,\n",
              " 5,\n",
              " 6,\n",
              " 5,\n",
              " 7,\n",
              " 5,\n",
              " 4,\n",
              " 9,\n",
              " 10,\n",
              " 8,\n",
              " 4,\n",
              " 8,\n",
              " 9,\n",
              " 4,\n",
              " 4,\n",
              " 5,\n",
              " 8,\n",
              " 8,\n",
              " 7,\n",
              " 4,\n",
              " 8,\n",
              " 7,\n",
              " 4,\n",
              " 5,\n",
              " 5,\n",
              " 6,\n",
              " 11,\n",
              " 7,\n",
              " 6,\n",
              " 9,\n",
              " 6,\n",
              " 5,\n",
              " 7,\n",
              " 6,\n",
              " 7,\n",
              " 6,\n",
              " 6,\n",
              " 4,\n",
              " 5,\n",
              " 3,\n",
              " 6,\n",
              " 4,\n",
              " 5,\n",
              " 5,\n",
              " 5,\n",
              " 3,\n",
              " 6,\n",
              " 4,\n",
              " 8,\n",
              " 3,\n",
              " 7,\n",
              " 4,\n",
              " 1,\n",
              " 5,\n",
              " 4,\n",
              " 9,\n",
              " 9,\n",
              " 7,\n",
              " 6,\n",
              " 5,\n",
              " 6,\n",
              " 5,\n",
              " 8,\n",
              " 4,\n",
              " 8,\n",
              " 7,\n",
              " 11,\n",
              " 8,\n",
              " 7,\n",
              " 4,\n",
              " 7,\n",
              " 3,\n",
              " 6,\n",
              " 5,\n",
              " 4,\n",
              " 9,\n",
              " 11,\n",
              " 7,\n",
              " 5,\n",
              " 5,\n",
              " 5,\n",
              " 9,\n",
              " 5,\n",
              " 3,\n",
              " 7,\n",
              " 6,\n",
              " 5,\n",
              " 8,\n",
              " 3,\n",
              " 8,\n",
              " 8,\n",
              " 7,\n",
              " 2,\n",
              " 8,\n",
              " 7,\n",
              " 4,\n",
              " 8,\n",
              " 6,\n",
              " 4,\n",
              " 7,\n",
              " 7,\n",
              " 6,\n",
              " 3,\n",
              " 4,\n",
              " 6,\n",
              " 6,\n",
              " 6,\n",
              " 4,\n",
              " 5,\n",
              " 5,\n",
              " 6,\n",
              " 4,\n",
              " 6,\n",
              " 4,\n",
              " 2,\n",
              " 7,\n",
              " 9,\n",
              " 7,\n",
              " 9,\n",
              " 7,\n",
              " 10,\n",
              " 3,\n",
              " 7,\n",
              " 7,\n",
              " 3,\n",
              " 10,\n",
              " 7,\n",
              " 5,\n",
              " 5,\n",
              " 7,\n",
              " 5,\n",
              " 6,\n",
              " 6,\n",
              " 6,\n",
              " 3,\n",
              " 9,\n",
              " 5,\n",
              " 8,\n",
              " 9,\n",
              " 9,\n",
              " 4,\n",
              " 4,\n",
              " 10,\n",
              " 10,\n",
              " 5,\n",
              " 4,\n",
              " 3,\n",
              " 3,\n",
              " 5,\n",
              " 6,\n",
              " 5,\n",
              " 3,\n",
              " 8,\n",
              " 6,\n",
              " 5,\n",
              " 4,\n",
              " 5,\n",
              " 10,\n",
              " 3,\n",
              " 4,\n",
              " 7,\n",
              " 3,\n",
              " 5,\n",
              " 5,\n",
              " 3,\n",
              " 1,\n",
              " 7,\n",
              " 11,\n",
              " 7,\n",
              " 3,\n",
              " 5,\n",
              " 5,\n",
              " 10,\n",
              " 4,\n",
              " 5,\n",
              " 6,\n",
              " 2,\n",
              " 6,\n",
              " 5,\n",
              " 7,\n",
              " 6,\n",
              " 9,\n",
              " 4,\n",
              " 6,\n",
              " 8,\n",
              " 6,\n",
              " 4,\n",
              " 6,\n",
              " 4,\n",
              " 4,\n",
              " 6,\n",
              " 7,\n",
              " 5,\n",
              " 11,\n",
              " 5,\n",
              " 5,\n",
              " 8,\n",
              " 6,\n",
              " 7,\n",
              " 7,\n",
              " 5,\n",
              " 11,\n",
              " 7,\n",
              " 4,\n",
              " 8,\n",
              " 8,\n",
              " 7,\n",
              " 2,\n",
              " 9,\n",
              " 5,\n",
              " 6,\n",
              " 8,\n",
              " 3,\n",
              " 2,\n",
              " 6,\n",
              " 5,\n",
              " 4,\n",
              " 4,\n",
              " 7,\n",
              " 5,\n",
              " 3,\n",
              " 3,\n",
              " 8,\n",
              " 4,\n",
              " 6,\n",
              " 6,\n",
              " 7,\n",
              " 10,\n",
              " 6,\n",
              " 7,\n",
              " 4,\n",
              " 7,\n",
              " 7,\n",
              " 7,\n",
              " 8,\n",
              " 4,\n",
              " 4,\n",
              " 10,\n",
              " 7,\n",
              " 5,\n",
              " 9,\n",
              " 4,\n",
              " 4,\n",
              " 7,\n",
              " 5,\n",
              " 1,\n",
              " 4,\n",
              " 4,\n",
              " 5,\n",
              " 5,\n",
              " 6,\n",
              " 4,\n",
              " 5,\n",
              " 6,\n",
              " 5,\n",
              " 7,\n",
              " 6,\n",
              " 8,\n",
              " 5,\n",
              " 5,\n",
              " 5,\n",
              " 8,\n",
              " 7,\n",
              " 5,\n",
              " 6,\n",
              " 4,\n",
              " 2,\n",
              " 6,\n",
              " 6,\n",
              " 7,\n",
              " 6,\n",
              " 5,\n",
              " 5,\n",
              " 3,\n",
              " 10,\n",
              " 5,\n",
              " 7,\n",
              " 6,\n",
              " 7,\n",
              " 2,\n",
              " 4,\n",
              " 8,\n",
              " 1,\n",
              " 9,\n",
              " 4,\n",
              " 4,\n",
              " 8,\n",
              " 9,\n",
              " 4,\n",
              " 4,\n",
              " 5,\n",
              " 6,\n",
              " 6,\n",
              " 6,\n",
              " 5,\n",
              " 6,\n",
              " 6,\n",
              " 6,\n",
              " 7,\n",
              " 8,\n",
              " 3,\n",
              " 3,\n",
              " 10,\n",
              " 7,\n",
              " 6,\n",
              " 3,\n",
              " 6,\n",
              " 5,\n",
              " 6,\n",
              " 7,\n",
              " 8,\n",
              " 5,\n",
              " 9,\n",
              " 4,\n",
              " 5,\n",
              " 8,\n",
              " 7,\n",
              " 6,\n",
              " 9,\n",
              " 8,\n",
              " 6,\n",
              " 6,\n",
              " 6,\n",
              " 4,\n",
              " 5,\n",
              " 7,\n",
              " 6,\n",
              " 5,\n",
              " 3,\n",
              " 5,\n",
              " 6,\n",
              " 5,\n",
              " 5,\n",
              " 4,\n",
              " 4,\n",
              " 7,\n",
              " 6,\n",
              " 3,\n",
              " 3,\n",
              " 8,\n",
              " 6,\n",
              " 7,\n",
              " 5,\n",
              " 2,\n",
              " 5,\n",
              " 6,\n",
              " 6,\n",
              " 7,\n",
              " 6,\n",
              " 7,\n",
              " 6,\n",
              " 5,\n",
              " 6,\n",
              " 11,\n",
              " 5,\n",
              " 9,\n",
              " 6,\n",
              " 3,\n",
              " 4,\n",
              " 13,\n",
              " 6,\n",
              " 3,\n",
              " 5,\n",
              " 8,\n",
              " 4,\n",
              " 6,\n",
              " 4,\n",
              " 4,\n",
              " 8,\n",
              " 4,\n",
              " 4,\n",
              " 5,\n",
              " 4,\n",
              " 6,\n",
              " 8,\n",
              " 4,\n",
              " 7,\n",
              " 6,\n",
              " 5,\n",
              " 7,\n",
              " 7,\n",
              " 8,\n",
              " 5,\n",
              " 4,\n",
              " 8,\n",
              " 3,\n",
              " 6,\n",
              " 8,\n",
              " 4,\n",
              " 6,\n",
              " 6,\n",
              " 6,\n",
              " 4,\n",
              " 2,\n",
              " 4,\n",
              " 5,\n",
              " 7,\n",
              " 9,\n",
              " 4,\n",
              " 4,\n",
              " 7,\n",
              " 5,\n",
              " 4,\n",
              " 5,\n",
              " 4,\n",
              " 7,\n",
              " 6,\n",
              " 8,\n",
              " 9,\n",
              " 1,\n",
              " 5,\n",
              " 7,\n",
              " 7,\n",
              " 6,\n",
              " 8,\n",
              " 5,\n",
              " 6,\n",
              " 6,\n",
              " 5,\n",
              " 5,\n",
              " 10,\n",
              " 3,\n",
              " 6,\n",
              " 4,\n",
              " 3,\n",
              " 4,\n",
              " 10,\n",
              " 6,\n",
              " 8,\n",
              " 5,\n",
              " 7,\n",
              " 6,\n",
              " 8,\n",
              " 5,\n",
              " 9,\n",
              " 4,\n",
              " 8,\n",
              " 5,\n",
              " 4,\n",
              " 5,\n",
              " 6,\n",
              " 4,\n",
              " 6,\n",
              " 7,\n",
              " 5,\n",
              " 5,\n",
              " 3,\n",
              " 5,\n",
              " 7,\n",
              " 5,\n",
              " 5,\n",
              " 2,\n",
              " 5,\n",
              " 3,\n",
              " 4,\n",
              " 2,\n",
              " 10,\n",
              " 4,\n",
              " 6,\n",
              " 9,\n",
              " 9,\n",
              " 7,\n",
              " 5,\n",
              " 5,\n",
              " 8,\n",
              " 5,\n",
              " 7,\n",
              " 6,\n",
              " 7,\n",
              " 5,\n",
              " 6,\n",
              " 6,\n",
              " 4,\n",
              " 5,\n",
              " 5,\n",
              " ...]"
            ]
          },
          "metadata": {},
          "execution_count": 40
        }
      ]
    },
    {
      "cell_type": "code",
      "source": [
        "#2\n",
        "words = [word.lower() for word in gutenberg.words('chesterton-thursday.txt') if 'ie' in word and len(word) <=4]\n",
        "counts = len([word.lower() for word in gutenberg.words('chesterton-thursday.txt') if 'ie' in word and len(word) <=4])\n",
        "print(words, counts)"
      ],
      "metadata": {
        "colab": {
          "base_uri": "https://localhost:8080/"
        },
        "id": "a5FEdj76jIH0",
        "outputId": "b8526e1e-19af-435c-8eab-71d7e4620822"
      },
      "execution_count": 41,
      "outputs": [
        {
          "output_type": "stream",
          "name": "stdout",
          "text": [
            "['foie', 'died', 'pier', 'died', 'lies', 'died', 'lie', 'tie', 'tie', 'die', 'tied', 'pie', 'die', 'die', 'die', 'die', 'died', 'died', 'die', 'die', 'die', 'erie', 'view', 'die', 'pier', 'dies', 'die', 'pier', 'pier', 'die', 'pier', 'tied', 'die', 'view', 'tie', 'lie', 'lie'] 37\n"
          ]
        }
      ]
    },
    {
      "cell_type": "code",
      "source": [
        "#3\n",
        "[word.replace(word[1:-2],'-'*len(word[1:-2])) for word in gutenberg.words('bryant-stories.txt') if word.endswith('ch')]"
      ],
      "metadata": {
        "colab": {
          "base_uri": "https://localhost:8080/"
        },
        "id": "_Zr0cFyikeWS",
        "outputId": "d738eb4c-fc27-450f-d1d9-6e35a5383102"
      },
      "execution_count": 42,
      "outputs": [
        {
          "output_type": "execute_result",
          "data": {
            "text/plain": [
              "['w--ch',\n",
              " 'a-ch',\n",
              " 'c--ch',\n",
              " 'c--ch',\n",
              " 'c--ch',\n",
              " 'c--ch',\n",
              " 'c--ch',\n",
              " 'c--ch',\n",
              " 'c--ch',\n",
              " 'c--ch',\n",
              " 'c--ch',\n",
              " 'c--ch',\n",
              " 'c--ch',\n",
              " 'c--ch',\n",
              " 'c--ch',\n",
              " 'c--ch',\n",
              " 'c--ch',\n",
              " 'c--ch',\n",
              " 'm-ch',\n",
              " 'm-ch',\n",
              " 'm-ch',\n",
              " 'm-ch',\n",
              " 'r-ch',\n",
              " 't--ch',\n",
              " 'm-ch',\n",
              " 'c---ch',\n",
              " 'c---ch',\n",
              " 'm-ch',\n",
              " 'p--ch',\n",
              " 'b--ch',\n",
              " 'f--ch',\n",
              " 'b--ch',\n",
              " 'e-ch',\n",
              " 't--ch',\n",
              " 'm-ch',\n",
              " 'm-ch',\n",
              " 'w--ch',\n",
              " 'c---ch',\n",
              " 'w--ch',\n",
              " 'w--ch',\n",
              " 's-ch',\n",
              " 't--ch',\n",
              " 's-ch',\n",
              " 'w--ch',\n",
              " 's-ch',\n",
              " 'c--ch',\n",
              " 'c--ch',\n",
              " 'p--ch',\n",
              " 'f--ch',\n",
              " 'm-ch',\n",
              " 's-ch',\n",
              " 'r-ch',\n",
              " 'm-ch',\n",
              " 'm-ch',\n",
              " 's-ch',\n",
              " 'w--ch',\n",
              " 'E-ch',\n",
              " 'w--ch',\n",
              " 's-ch',\n",
              " 'w--ch',\n",
              " 'r--ch',\n",
              " 's-ch',\n",
              " 'c--ch',\n",
              " 'c--ch',\n",
              " 'c--ch',\n",
              " 'w--ch',\n",
              " 'w--ch',\n",
              " 'm-ch',\n",
              " 'm-ch',\n",
              " 'r-ch',\n",
              " 's-ch',\n",
              " 'w--ch',\n",
              " 'm-ch',\n",
              " 'm-ch',\n",
              " 'm-ch',\n",
              " 'm-ch',\n",
              " 'T--ch',\n",
              " 'w--ch',\n",
              " 's-ch',\n",
              " 'S-ch',\n",
              " 's-ch',\n",
              " 's-ch',\n",
              " 's---ch',\n",
              " 'w--ch',\n",
              " 'w--ch',\n",
              " 'w--ch',\n",
              " 'w--ch',\n",
              " 'w--ch',\n",
              " 'm-ch',\n",
              " 'w--ch',\n",
              " 'p--ch',\n",
              " 'w--ch',\n",
              " 'r-ch',\n",
              " 'm-ch',\n",
              " 's----ch',\n",
              " 'e-ch',\n",
              " 's---ch',\n",
              " 'b--ch',\n",
              " 'b--ch',\n",
              " 'm-ch',\n",
              " 'b--ch',\n",
              " 'b--ch',\n",
              " 'm-ch',\n",
              " 'b--ch',\n",
              " 'm-ch',\n",
              " 'b--ch',\n",
              " 'b--ch',\n",
              " 's---ch',\n",
              " 's---ch',\n",
              " 'e-ch',\n",
              " 'b--ch',\n",
              " 'e-ch',\n",
              " 'b--ch',\n",
              " 'w--ch',\n",
              " 'b--ch',\n",
              " 'E-ch',\n",
              " 'e-ch',\n",
              " 'c--ch',\n",
              " 's-ch',\n",
              " 's-ch',\n",
              " 's-ch',\n",
              " 'w--ch',\n",
              " 'b---ch',\n",
              " 'w--ch',\n",
              " 'w--ch',\n",
              " 's-ch',\n",
              " 's-ch',\n",
              " 'c---ch',\n",
              " 'p--ch',\n",
              " 'p--ch',\n",
              " 'e-ch',\n",
              " 'w--ch',\n",
              " 'm-ch',\n",
              " 'm-ch',\n",
              " 'e-ch',\n",
              " 'w--ch',\n",
              " 'p--ch',\n",
              " 'w--ch',\n",
              " 'm-ch',\n",
              " 'm-ch',\n",
              " 'p--ch',\n",
              " 'm-ch',\n",
              " 'p--ch',\n",
              " 'm-ch',\n",
              " 'm-ch',\n",
              " 'p--ch',\n",
              " 'm-ch',\n",
              " 's----ch',\n",
              " 'F---ch',\n",
              " 's-ch',\n",
              " 'w--ch',\n",
              " 'w--ch',\n",
              " 's----ch',\n",
              " 'm-ch',\n",
              " 'w--ch',\n",
              " 't---ch',\n",
              " 'w--ch',\n",
              " 'w--ch',\n",
              " 'w--ch',\n",
              " 'm-ch',\n",
              " 's----ch',\n",
              " 't---ch',\n",
              " 'm-ch',\n",
              " 's-ch',\n",
              " 's-ch',\n",
              " 'm-ch',\n",
              " 's-ch',\n",
              " 'e-ch',\n",
              " 'm-ch',\n",
              " 'w--ch',\n",
              " 'p--ch',\n",
              " 'p--ch',\n",
              " 'e-ch',\n",
              " 'E-ch',\n",
              " 'm-ch',\n",
              " 'm-ch',\n",
              " 's-ch',\n",
              " 'w--ch',\n",
              " 'w--ch',\n",
              " 'w--ch',\n",
              " 'b--ch',\n",
              " 'm-ch',\n",
              " 'b--ch',\n",
              " 'b--ch',\n",
              " 'm-ch',\n",
              " 'w--ch',\n",
              " 'e-ch',\n",
              " 'm-ch',\n",
              " 'c---ch',\n",
              " 'w--ch',\n",
              " 'c---ch',\n",
              " 'w--ch',\n",
              " 'w--ch',\n",
              " 'c---ch',\n",
              " 'c---ch',\n",
              " 'c---ch',\n",
              " 'r-ch',\n",
              " 'e-ch',\n",
              " 'e-ch',\n",
              " 'w--ch',\n",
              " 'c---ch',\n",
              " 's-ch',\n",
              " 'E-ch',\n",
              " 'm-ch',\n",
              " 'm-ch',\n",
              " 'm-ch',\n",
              " 'r-ch',\n",
              " 'w--ch',\n",
              " 's-ch',\n",
              " 'm-ch',\n",
              " 'm-ch',\n",
              " 'm-ch',\n",
              " 'w--ch',\n",
              " 'm-ch',\n",
              " 'm-ch',\n",
              " 'w--ch',\n",
              " 'm-ch',\n",
              " 'r-ch',\n",
              " 'm-ch',\n",
              " 'r-ch',\n",
              " 'e-ch',\n",
              " 't--ch',\n",
              " 'w--ch',\n",
              " 'm-ch',\n",
              " 's-ch',\n",
              " 'w--ch',\n",
              " 'w--ch',\n",
              " 'w--ch',\n",
              " 'w--ch',\n",
              " 'e-ch',\n",
              " 'f--ch',\n",
              " 'w--ch',\n",
              " 'm-ch',\n",
              " 'w--ch',\n",
              " 's-ch',\n",
              " 's----ch',\n",
              " 'c--ch',\n",
              " 'c--ch',\n",
              " 'w--ch',\n",
              " 's-ch',\n",
              " 'e-ch',\n",
              " 'w--ch',\n",
              " 's-ch',\n",
              " 'm-ch',\n",
              " 'w--ch',\n",
              " 'r--ch',\n",
              " 'r--ch',\n",
              " 'm-ch',\n",
              " 'l--ch',\n",
              " 'p--ch',\n",
              " 'p--ch',\n",
              " 'r--ch',\n",
              " 'm-ch',\n",
              " 'r-ch',\n",
              " 'w--ch',\n",
              " 'p--ch',\n",
              " 'm-ch',\n",
              " 'm-ch',\n",
              " 'w--ch',\n",
              " 's-ch',\n",
              " 'w--ch',\n",
              " 'w--ch',\n",
              " 'r-ch',\n",
              " 's-ch',\n",
              " 's-ch']"
            ]
          },
          "metadata": {},
          "execution_count": 42
        }
      ]
    },
    {
      "cell_type": "markdown",
      "source": [
        "###Brown\n",
        "- categories()\n"
      ],
      "metadata": {
        "id": "AzzrxPqHnTBE"
      }
    },
    {
      "cell_type": "code",
      "source": [
        "brown = nltk.corpus.brown"
      ],
      "metadata": {
        "id": "CjaYHMdjndH1"
      },
      "execution_count": 43,
      "outputs": []
    },
    {
      "cell_type": "code",
      "source": [
        "brown.categories()"
      ],
      "metadata": {
        "colab": {
          "base_uri": "https://localhost:8080/"
        },
        "id": "xacIYMo4nZEG",
        "outputId": "263ae8fa-cfab-4908-d514-96686532b43c"
      },
      "execution_count": 44,
      "outputs": [
        {
          "output_type": "execute_result",
          "data": {
            "text/plain": [
              "['adventure',\n",
              " 'belles_lettres',\n",
              " 'editorial',\n",
              " 'fiction',\n",
              " 'government',\n",
              " 'hobbies',\n",
              " 'humor',\n",
              " 'learned',\n",
              " 'lore',\n",
              " 'mystery',\n",
              " 'news',\n",
              " 'religion',\n",
              " 'reviews',\n",
              " 'romance',\n",
              " 'science_fiction']"
            ]
          },
          "metadata": {},
          "execution_count": 44
        }
      ]
    },
    {
      "cell_type": "code",
      "source": [
        "fdist = nltk.FreqDist([w.lower() for w in brown.words(categories ='adventure')])"
      ],
      "metadata": {
        "id": "UX9OZQ6Mna_2"
      },
      "execution_count": 45,
      "outputs": []
    },
    {
      "cell_type": "code",
      "source": [
        "fdist['men']"
      ],
      "metadata": {
        "colab": {
          "base_uri": "https://localhost:8080/"
        },
        "id": "WUQzW8TZnp5k",
        "outputId": "9a2075c5-a7e6-44f4-8695-24dfeb3600d1"
      },
      "execution_count": 46,
      "outputs": [
        {
          "output_type": "execute_result",
          "data": {
            "text/plain": [
              "83"
            ]
          },
          "metadata": {},
          "execution_count": 46
        }
      ]
    },
    {
      "cell_type": "code",
      "source": [
        "#modal verbs\n",
        "modals = ['can', 'could', 'will', 'would', 'may', 'might']\n",
        "\n",
        "for verb in modals:\n",
        "  print(verb, fdist[verb])"
      ],
      "metadata": {
        "colab": {
          "base_uri": "https://localhost:8080/"
        },
        "id": "BMxKL2JtnvjG",
        "outputId": "551988dd-e517-49c4-eba3-045697529f7e"
      },
      "execution_count": 47,
      "outputs": [
        {
          "output_type": "stream",
          "name": "stdout",
          "text": [
            "can 48\n",
            "could 154\n",
            "will 51\n",
            "would 194\n",
            "may 7\n",
            "might 59\n"
          ]
        }
      ]
    },
    {
      "cell_type": "markdown",
      "source": [
        "### conditional frquency distribution\n",
        "- 조건에 따른 fdist"
      ],
      "metadata": {
        "id": "WbhpvvsZoJA6"
      }
    },
    {
      "cell_type": "code",
      "source": [
        "cfd = nltk.ConditionalFreqDist(\n",
        "  (genre, word)\n",
        "  for genre in brown.categories()\n",
        "  for word in brown.words(categories=genre)\n",
        ")"
      ],
      "metadata": {
        "id": "CC3xsPI9n-mX"
      },
      "execution_count": 50,
      "outputs": []
    },
    {
      "cell_type": "code",
      "source": [
        "cfd['romance'].most_common(10)"
      ],
      "metadata": {
        "colab": {
          "base_uri": "https://localhost:8080/"
        },
        "id": "cbgAfk7Ttdge",
        "outputId": "44af605c-f6c4-4ab0-88a2-4bfecc76fbcf"
      },
      "execution_count": 52,
      "outputs": [
        {
          "output_type": "execute_result",
          "data": {
            "text/plain": [
              "[(',', 3899),\n",
              " ('.', 3736),\n",
              " ('the', 2758),\n",
              " ('and', 1776),\n",
              " ('to', 1502),\n",
              " ('a', 1335),\n",
              " ('of', 1186),\n",
              " ('``', 1045),\n",
              " (\"''\", 1044),\n",
              " ('was', 993)]"
            ]
          },
          "metadata": {},
          "execution_count": 52
        }
      ]
    },
    {
      "cell_type": "code",
      "source": [
        "cfd['romance']['love']"
      ],
      "metadata": {
        "colab": {
          "base_uri": "https://localhost:8080/"
        },
        "id": "gBQnMafxocHT",
        "outputId": "e47b78cf-175e-4a90-da73-545a1a825973"
      },
      "execution_count": 49,
      "outputs": [
        {
          "output_type": "execute_result",
          "data": {
            "text/plain": [
              "32"
            ]
          },
          "metadata": {},
          "execution_count": 49
        }
      ]
    },
    {
      "cell_type": "code",
      "source": [
        ""
      ],
      "metadata": {
        "id": "3BadO8bDogq5"
      },
      "execution_count": null,
      "outputs": []
    }
  ]
}