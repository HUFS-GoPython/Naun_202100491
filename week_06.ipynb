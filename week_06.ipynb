{
  "nbformat": 4,
  "nbformat_minor": 0,
  "metadata": {
    "colab": {
      "name": "week_06",
      "provenance": [],
      "collapsed_sections": []
    },
    "kernelspec": {
      "name": "python3",
      "display_name": "Python 3"
    },
    "language_info": {
      "name": "python"
    }
  },
  "cells": [
    {
      "cell_type": "markdown",
      "source": [
        "####NLTK inaugural"
      ],
      "metadata": {
        "id": "ymPxVYgPQpoH"
      }
    },
    {
      "cell_type": "code",
      "source": [
        "import nltk\n",
        "#nltk.download() #lookup 에러 시 전체 코퍼스 다운 하고 돌리면 download 해서 해결\n",
        "nltk.download(['brown', 'inaugural'])"
      ],
      "metadata": {
        "colab": {
          "base_uri": "https://localhost:8080/"
        },
        "id": "zbMOmyIaQvaF",
        "outputId": "88c709b7-0adf-40be-9034-f88b341e124c"
      },
      "execution_count": 1,
      "outputs": [
        {
          "output_type": "stream",
          "name": "stdout",
          "text": [
            "[nltk_data] Downloading package brown to /root/nltk_data...\n",
            "[nltk_data]   Package brown is already up-to-date!\n",
            "[nltk_data] Downloading package inaugural to /root/nltk_data...\n",
            "[nltk_data]   Package inaugural is already up-to-date!\n"
          ]
        },
        {
          "output_type": "execute_result",
          "data": {
            "text/plain": [
              "True"
            ]
          },
          "metadata": {},
          "execution_count": 1
        }
      ]
    },
    {
      "cell_type": "code",
      "source": [
        "brown = nltk.corpus.brown"
      ],
      "metadata": {
        "id": "0FmKtJ80RBGm"
      },
      "execution_count": 2,
      "outputs": []
    },
    {
      "cell_type": "code",
      "source": [
        "brown.categories()"
      ],
      "metadata": {
        "colab": {
          "base_uri": "https://localhost:8080/"
        },
        "id": "3FA1stEcR2b-",
        "outputId": "3cfb7be2-9adf-4311-eebf-9d847b0e75e9"
      },
      "execution_count": 3,
      "outputs": [
        {
          "output_type": "execute_result",
          "data": {
            "text/plain": [
              "['adventure',\n",
              " 'belles_lettres',\n",
              " 'editorial',\n",
              " 'fiction',\n",
              " 'government',\n",
              " 'hobbies',\n",
              " 'humor',\n",
              " 'learned',\n",
              " 'lore',\n",
              " 'mystery',\n",
              " 'news',\n",
              " 'religion',\n",
              " 'reviews',\n",
              " 'romance',\n",
              " 'science_fiction']"
            ]
          },
          "metadata": {},
          "execution_count": 3
        }
      ]
    },
    {
      "cell_type": "code",
      "source": [
        "#cfd\n",
        "cfd = nltk.ConditionalFreqDist(\n",
        "  (genre, word)\n",
        "  for genre in brown.categories()\n",
        "  for word in brown.words(categories=genre)\n",
        ")"
      ],
      "metadata": {
        "id": "AL8IYGDNRQZg"
      },
      "execution_count": 4,
      "outputs": []
    },
    {
      "cell_type": "code",
      "source": [
        "modals = ['can', 'could', 'would', 'will', 'might', 'may']\n",
        "cfd.tabulate(conditions=brown.categories(), samples=modals)"
      ],
      "metadata": {
        "colab": {
          "base_uri": "https://localhost:8080/"
        },
        "id": "qjuna7NhRb3O",
        "outputId": "457f588b-bc50-4a09-c9b7-80cb4ac6259f"
      },
      "execution_count": 5,
      "outputs": [
        {
          "output_type": "stream",
          "name": "stdout",
          "text": [
            "                  can could would  will might   may \n",
            "      adventure    46   151   191    50    58     5 \n",
            " belles_lettres   246   213   392   236   113   207 \n",
            "      editorial   121    56   180   233    39    74 \n",
            "        fiction    37   166   287    52    44     8 \n",
            "     government   117    38   120   244    13   153 \n",
            "        hobbies   268    58    78   264    22   131 \n",
            "          humor    16    30    56    13     8     8 \n",
            "        learned   365   159   319   340   128   324 \n",
            "           lore   170   141   186   175    49   165 \n",
            "        mystery    42   141   186    20    57    13 \n",
            "           news    93    86   244   389    38    66 \n",
            "       religion    82    59    68    71    12    78 \n",
            "        reviews    45    40    47    58    26    45 \n",
            "        romance    74   193   244    43    51    11 \n",
            "science_fiction    16    49    79    16    12     4 \n"
          ]
        }
      ]
    },
    {
      "cell_type": "code",
      "source": [
        "cfd1 = nltk.ConditionalFreqDist(\n",
        "    (genre, modal)\n",
        "    for genre in brown.categories()\n",
        "    for modal in ['can', 'could', 'would', 'will', 'might', 'may']\n",
        "\n",
        "    for word in brown.words(categories=genre)\n",
        "      if word.lower() == modal\n",
        ")\n",
        "cfd1.tabulate()"
      ],
      "metadata": {
        "colab": {
          "base_uri": "https://localhost:8080/"
        },
        "id": "Ciszq4RgV5vH",
        "outputId": "03e777d8-523a-4ad1-b252-82e8882c8b2b"
      },
      "execution_count": 6,
      "outputs": [
        {
          "output_type": "stream",
          "name": "stdout",
          "text": [
            "                  can could   may might  will would \n",
            "      adventure    48   154     7    59    51   194 \n",
            " belles_lettres   249   216   221   113   246   397 \n",
            "      editorial   124    57    79    39   235   185 \n",
            "        fiction    39   168    10    44    56   291 \n",
            "     government   119    38   179    13   244   120 \n",
            "        hobbies   276    59   143    22   269    83 \n",
            "          humor    17    33     8     8    13    56 \n",
            "        learned   367   159   336   128   340   321 \n",
            "           lore   170   142   170    50   178   188 \n",
            "        mystery    45   145    15    57    25   189 \n",
            "           news    94    87    93    38   389   246 \n",
            "       religion    84    59    79    12    72    69 \n",
            "        reviews    45    40    47    26    61    48 \n",
            "        romance    79   195    11    51    49   247 \n",
            "science_fiction    16    49     4    12    17    80 \n"
          ]
        }
      ]
    },
    {
      "cell_type": "markdown",
      "source": [
        "#inagural\n",
        "- 연설문 코퍼스\n"
      ],
      "metadata": {
        "id": "QFBEsgXIXEqX"
      }
    },
    {
      "cell_type": "code",
      "source": [
        "inaugural = nltk.corpus.inaugural #inaugural: 연설문"
      ],
      "metadata": {
        "id": "V91_lz0pSNHc"
      },
      "execution_count": 7,
      "outputs": []
    },
    {
      "cell_type": "code",
      "source": [
        "inaugural.fileids() #연도-이름.txt"
      ],
      "metadata": {
        "colab": {
          "base_uri": "https://localhost:8080/"
        },
        "id": "dx-9PXDYSQJ9",
        "outputId": "7fbc4501-9122-43f5-b6d6-117bd4f18ee4"
      },
      "execution_count": 8,
      "outputs": [
        {
          "output_type": "execute_result",
          "data": {
            "text/plain": [
              "['1789-Washington.txt',\n",
              " '1793-Washington.txt',\n",
              " '1797-Adams.txt',\n",
              " '1801-Jefferson.txt',\n",
              " '1805-Jefferson.txt',\n",
              " '1809-Madison.txt',\n",
              " '1813-Madison.txt',\n",
              " '1817-Monroe.txt',\n",
              " '1821-Monroe.txt',\n",
              " '1825-Adams.txt',\n",
              " '1829-Jackson.txt',\n",
              " '1833-Jackson.txt',\n",
              " '1837-VanBuren.txt',\n",
              " '1841-Harrison.txt',\n",
              " '1845-Polk.txt',\n",
              " '1849-Taylor.txt',\n",
              " '1853-Pierce.txt',\n",
              " '1857-Buchanan.txt',\n",
              " '1861-Lincoln.txt',\n",
              " '1865-Lincoln.txt',\n",
              " '1869-Grant.txt',\n",
              " '1873-Grant.txt',\n",
              " '1877-Hayes.txt',\n",
              " '1881-Garfield.txt',\n",
              " '1885-Cleveland.txt',\n",
              " '1889-Harrison.txt',\n",
              " '1893-Cleveland.txt',\n",
              " '1897-McKinley.txt',\n",
              " '1901-McKinley.txt',\n",
              " '1905-Roosevelt.txt',\n",
              " '1909-Taft.txt',\n",
              " '1913-Wilson.txt',\n",
              " '1917-Wilson.txt',\n",
              " '1921-Harding.txt',\n",
              " '1925-Coolidge.txt',\n",
              " '1929-Hoover.txt',\n",
              " '1933-Roosevelt.txt',\n",
              " '1937-Roosevelt.txt',\n",
              " '1941-Roosevelt.txt',\n",
              " '1945-Roosevelt.txt',\n",
              " '1949-Truman.txt',\n",
              " '1953-Eisenhower.txt',\n",
              " '1957-Eisenhower.txt',\n",
              " '1961-Kennedy.txt',\n",
              " '1965-Johnson.txt',\n",
              " '1969-Nixon.txt',\n",
              " '1973-Nixon.txt',\n",
              " '1977-Carter.txt',\n",
              " '1981-Reagan.txt',\n",
              " '1985-Reagan.txt',\n",
              " '1989-Bush.txt',\n",
              " '1993-Clinton.txt',\n",
              " '1997-Clinton.txt',\n",
              " '2001-Bush.txt',\n",
              " '2005-Bush.txt',\n",
              " '2009-Obama.txt',\n",
              " '2013-Obama.txt',\n",
              " '2017-Trump.txt',\n",
              " '2021-Biden.txt']"
            ]
          },
          "metadata": {},
          "execution_count": 8
        }
      ]
    },
    {
      "cell_type": "code",
      "source": [
        "import matplotlib.pyplot as plt"
      ],
      "metadata": {
        "id": "ED3S3o3HVTW9"
      },
      "execution_count": 9,
      "outputs": []
    },
    {
      "cell_type": "code",
      "source": [
        "#cfd['america','citizen'] 빈도수를 cfd로 만드시오.\n",
        "cfd2 = nltk.ConditionalFreqDist(\n",
        "    (fileid, target_word[:-4])\n",
        "    for fileid in inaugural.fileids()\n",
        "    for target_word in ['america','citizen']\n",
        "\n",
        "    for word in inaugural.words(fileids=fileid)\n",
        "      if word.lower() == target_word\n",
        "      #if target_word in word.lower()\n",
        "      #if word.lower().startswith(target_word)\n",
        ")\n",
        "\n",
        "cfd2.plot()\n",
        "\n"
      ],
      "metadata": {
        "colab": {
          "base_uri": "https://localhost:8080/",
          "height": 684
        },
        "id": "iPSLGlfmSR5k",
        "outputId": "20441716-968c-487d-c27b-81f25094a33c"
      },
      "execution_count": 10,
      "outputs": [
        {
          "output_type": "display_data",
          "data": {
            "text/plain": [
              "<Figure size 432x288 with 1 Axes>"
            ],
            "image/png": "[encoded data removed]"
          },
          "metadata": {
            "needs_background": "light"
          }
        }
      ]
    },
    {
      "cell_type": "markdown",
      "source": [
        "### Tuple & List\n",
        "- tuple: 불변객체 vs. List: 가변 객체\n"
      ],
      "metadata": {
        "id": "R_6Q3vWAWCLM"
      }
    },
    {
      "cell_type": "code",
      "source": [
        "#1. 생성\n",
        "emptyT = ()\n",
        "emptyT = tuple()\n",
        "\n",
        "emptyL = []\n",
        "emptyL = list()\n",
        "\n",
        "emptyT, emptyL"
      ],
      "metadata": {
        "colab": {
          "base_uri": "https://localhost:8080/"
        },
        "id": "CLw6YfXuS-6r",
        "outputId": "5af851dc-302f-4e48-eab1-2a8c32e64288"
      },
      "execution_count": 11,
      "outputs": [
        {
          "output_type": "execute_result",
          "data": {
            "text/plain": [
              "((), [])"
            ]
          },
          "metadata": {},
          "execution_count": 11
        }
      ]
    },
    {
      "cell_type": "code",
      "source": [
        "#1.1 요소 여러 개일 때\n",
        "alphabetT = ('a', 'b')\n",
        "alphabetT"
      ],
      "metadata": {
        "colab": {
          "base_uri": "https://localhost:8080/"
        },
        "id": "er_vCyk_Wai8",
        "outputId": "c82b60d4-f68f-420d-8e6d-7eb083dc9df3"
      },
      "execution_count": 12,
      "outputs": [
        {
          "output_type": "execute_result",
          "data": {
            "text/plain": [
              "('a', 'b')"
            ]
          },
          "metadata": {},
          "execution_count": 12
        }
      ]
    },
    {
      "cell_type": "code",
      "source": [
        "alphabetT = 'a', 'b'"
      ],
      "metadata": {
        "id": "wsB8Pwn6Wh3n"
      },
      "execution_count": 13,
      "outputs": []
    },
    {
      "cell_type": "code",
      "source": [
        "alphabetT"
      ],
      "metadata": {
        "colab": {
          "base_uri": "https://localhost:8080/"
        },
        "id": "d1kbKQWSWlaN",
        "outputId": "777adba5-fe3f-4745-ce56-86039de4c881"
      },
      "execution_count": 14,
      "outputs": [
        {
          "output_type": "execute_result",
          "data": {
            "text/plain": [
              "('a', 'b')"
            ]
          },
          "metadata": {},
          "execution_count": 14
        }
      ]
    },
    {
      "cell_type": "code",
      "source": [
        "alphabetL = ['a', 'b']"
      ],
      "metadata": {
        "id": "K_N8jngWWmjG"
      },
      "execution_count": 15,
      "outputs": []
    },
    {
      "cell_type": "code",
      "source": [
        "alphabetL"
      ],
      "metadata": {
        "colab": {
          "base_uri": "https://localhost:8080/"
        },
        "id": "UYqOE5eGWosF",
        "outputId": "2b073ead-0209-44a1-ec80-24719f655ca4"
      },
      "execution_count": 16,
      "outputs": [
        {
          "output_type": "execute_result",
          "data": {
            "text/plain": [
              "['a', 'b']"
            ]
          },
          "metadata": {},
          "execution_count": 16
        }
      ]
    },
    {
      "cell_type": "code",
      "source": [
        "#1.2 요소 1개일 때\n",
        "alphaT = ('a') #str"
      ],
      "metadata": {
        "id": "h_DEYPUEWpfO"
      },
      "execution_count": 17,
      "outputs": []
    },
    {
      "cell_type": "code",
      "source": [
        "type(alphaT)"
      ],
      "metadata": {
        "colab": {
          "base_uri": "https://localhost:8080/"
        },
        "id": "JhxEpx8oWwJk",
        "outputId": "c3bdb9cd-2600-4845-db45-2cad8bc99cdf"
      },
      "execution_count": 18,
      "outputs": [
        {
          "output_type": "execute_result",
          "data": {
            "text/plain": [
              "str"
            ]
          },
          "metadata": {},
          "execution_count": 18
        }
      ]
    },
    {
      "cell_type": "code",
      "source": [
        "alphaT = ('b',)\n",
        "type(alphaT)"
      ],
      "metadata": {
        "colab": {
          "base_uri": "https://localhost:8080/"
        },
        "id": "1H9Jc8ntWxm7",
        "outputId": "5d865b48-a4a3-4207-8719-218457b98745"
      },
      "execution_count": 19,
      "outputs": [
        {
          "output_type": "execute_result",
          "data": {
            "text/plain": [
              "tuple"
            ]
          },
          "metadata": {},
          "execution_count": 19
        }
      ]
    },
    {
      "cell_type": "markdown",
      "source": [
        "- packing: 한 변수에 여러 데이터를 할당하는 것\n",
        " - list, tuple 자체, a = [1, 2, 3, 4]\n",
        "- unpacking: 한 변수에 여러 데이터가 들어 있을 때 여러 변수에 나누는 것"
      ],
      "metadata": {
        "id": "5g0rYEZEXDKd"
      }
    },
    {
      "cell_type": "code",
      "source": [
        "a, b, c = 'kim' #unpacking\n",
        "a, b, c"
      ],
      "metadata": {
        "colab": {
          "base_uri": "https://localhost:8080/"
        },
        "id": "87V0zKRBXRar",
        "outputId": "ad03fa67-33d0-49ae-c93b-208f346838c1"
      },
      "execution_count": 20,
      "outputs": [
        {
          "output_type": "execute_result",
          "data": {
            "text/plain": [
              "('k', 'i', 'm')"
            ]
          },
          "metadata": {},
          "execution_count": 20
        }
      ]
    },
    {
      "cell_type": "code",
      "source": [
        "#값 교환하기\n",
        "pwd = 'abcd'\n",
        "userid = 'sky'\n",
        "#방법 1\n",
        "'''\n",
        "temp1 = userid\n",
        "temp2 = pwd\n",
        "pwd = temp1\n",
        "userid = temp2\n",
        "'''\n",
        "#방법 2\n",
        "pwd, userid= userid, pwd\n",
        "pwd, userid"
      ],
      "metadata": {
        "colab": {
          "base_uri": "https://localhost:8080/"
        },
        "id": "mgh03Vv6XQRN",
        "outputId": "937fdc9f-f6af-400f-ab4c-88e857695f19"
      },
      "execution_count": 21,
      "outputs": [
        {
          "output_type": "execute_result",
          "data": {
            "text/plain": [
              "('sky', 'abcd')"
            ]
          },
          "metadata": {},
          "execution_count": 21
        }
      ]
    },
    {
      "cell_type": "code",
      "source": [
        "#연산\n",
        "('a',) +(1,2)\n",
        "(1,2)*3"
      ],
      "metadata": {
        "colab": {
          "base_uri": "https://localhost:8080/"
        },
        "id": "uKbPx0VIX5Bf",
        "outputId": "47d1c223-daa5-4fd7-b63e-f3d62749ff2b"
      },
      "execution_count": 22,
      "outputs": [
        {
          "output_type": "execute_result",
          "data": {
            "text/plain": [
              "(1, 2, 1, 2, 1, 2)"
            ]
          },
          "metadata": {},
          "execution_count": 22
        }
      ]
    },
    {
      "cell_type": "code",
      "source": [
        "x = ('a',)\n",
        "y = (1,2)\n",
        "id(x), id(x+y)"
      ],
      "metadata": {
        "colab": {
          "base_uri": "https://localhost:8080/"
        },
        "id": "rBMhhUjtX_lb",
        "outputId": "c3e90288-e270-42c7-efa0-b891641768f9"
      },
      "execution_count": 23,
      "outputs": [
        {
          "output_type": "execute_result",
          "data": {
            "text/plain": [
              "(139679489163024, 139679482202544)"
            ]
          },
          "metadata": {},
          "execution_count": 23
        }
      ]
    },
    {
      "cell_type": "code",
      "source": [
        "#비교\n",
        "x = 1, 2\n",
        "y = 1, 6\n",
        "x < y # 순서대로 비교"
      ],
      "metadata": {
        "colab": {
          "base_uri": "https://localhost:8080/"
        },
        "id": "DLa2BdGTYFVC",
        "outputId": "fc713c0d-acd0-438a-b6d3-26ea89c1c0dd"
      },
      "execution_count": 24,
      "outputs": [
        {
          "output_type": "execute_result",
          "data": {
            "text/plain": [
              "True"
            ]
          },
          "metadata": {},
          "execution_count": 24
        }
      ]
    },
    {
      "cell_type": "code",
      "source": [
        "#순회\n",
        "for i in x:\n",
        "  print(x)"
      ],
      "metadata": {
        "colab": {
          "base_uri": "https://localhost:8080/"
        },
        "id": "BwepxFMWYLMo",
        "outputId": "4ec0a2bf-27c9-4f5e-c936-c80e7fc578c7"
      },
      "execution_count": 25,
      "outputs": [
        {
          "output_type": "stream",
          "name": "stdout",
          "text": [
            "(1, 2)\n",
            "(1, 2)\n"
          ]
        }
      ]
    },
    {
      "cell_type": "code",
      "source": [
        "[i for i in x] #1"
      ],
      "metadata": {
        "colab": {
          "base_uri": "https://localhost:8080/"
        },
        "id": "KTCzJIzkYWXm",
        "outputId": "e6b1bd7c-2d55-45e9-8408-c696dec5e729"
      },
      "execution_count": 26,
      "outputs": [
        {
          "output_type": "execute_result",
          "data": {
            "text/plain": [
              "[1, 2]"
            ]
          },
          "metadata": {},
          "execution_count": 26
        }
      ]
    },
    {
      "cell_type": "code",
      "source": [
        "#tuple comprehension\n",
        "tuple([i for i in x]) #2\n",
        "*[i for i in x], #3 느림"
      ],
      "metadata": {
        "colab": {
          "base_uri": "https://localhost:8080/"
        },
        "id": "8nYaGdK2Yv5W",
        "outputId": "d0606145-0949-43b8-cbdb-9218bfc59415"
      },
      "execution_count": 27,
      "outputs": [
        {
          "output_type": "execute_result",
          "data": {
            "text/plain": [
              "(1, 2)"
            ]
          },
          "metadata": {},
          "execution_count": 27
        }
      ]
    },
    {
      "cell_type": "code",
      "source": [
        "#형변환\n",
        "dog = 'dog'\n",
        "dogT = tuple(dog)"
      ],
      "metadata": {
        "id": "8GS9AlxtY5tK"
      },
      "execution_count": 28,
      "outputs": []
    },
    {
      "cell_type": "code",
      "source": [
        "list(dog)"
      ],
      "metadata": {
        "colab": {
          "base_uri": "https://localhost:8080/"
        },
        "id": "K9azRGM1Y_aS",
        "outputId": "3b8268aa-9782-45e4-9408-30dfbf40c99b"
      },
      "execution_count": 29,
      "outputs": [
        {
          "output_type": "execute_result",
          "data": {
            "text/plain": [
              "['d', 'o', 'g']"
            ]
          },
          "metadata": {},
          "execution_count": 29
        }
      ]
    },
    {
      "cell_type": "code",
      "source": [
        "#slicing\n",
        "dogT[0]"
      ],
      "metadata": {
        "colab": {
          "base_uri": "https://localhost:8080/",
          "height": 35
        },
        "id": "yDET72qhZBeM",
        "outputId": "f36ef8b2-e50a-4a76-9356-d84666483a3d"
      },
      "execution_count": 30,
      "outputs": [
        {
          "output_type": "execute_result",
          "data": {
            "text/plain": [
              "'d'"
            ],
            "application/vnd.google.colaboratory.intrinsic+json": {
              "type": "string"
            }
          },
          "metadata": {},
          "execution_count": 30
        }
      ]
    },
    {
      "cell_type": "markdown",
      "source": [
        "[정리]\n",
        "- tuple 장점\n",
        " - 변하지 않는 데이터 시퀀스를 만들 수 있다.\n",
        " - 타인의 접근 막는다\n",
        " - 메모리 사용 적다.\n",
        "\n",
        "- list 장점\n",
        " - 튜플의 장점이 필요없을 때 전부 리스트 사용\n",
        " - 데이터를 순차적으로 파악할 때\n",
        " - 중복 데이터를 쓸 수 있다는 점 vs. set\n",
        " "
      ],
      "metadata": {
        "id": "8eWu_62fZFa6"
      }
    },
    {
      "cell_type": "markdown",
      "source": [
        "###리스트 유용한 함수들\n",
        "- 변경, 삭제, 주기\n",
        "- 리스트 컴프리헨션 업그레이드"
      ],
      "metadata": {
        "id": "quuSVWI1ZoiX"
      }
    },
    {
      "cell_type": "code",
      "source": [
        "list('abcd')"
      ],
      "metadata": {
        "colab": {
          "base_uri": "https://localhost:8080/"
        },
        "id": "bhFLXZ_XZEi8",
        "outputId": "014bd5bb-ed51-4c46-fdd5-7bc78f5ff997"
      },
      "execution_count": 31,
      "outputs": [
        {
          "output_type": "execute_result",
          "data": {
            "text/plain": [
              "['a', 'b', 'c', 'd']"
            ]
          },
          "metadata": {},
          "execution_count": 31
        }
      ]
    },
    {
      "cell_type": "code",
      "source": [
        "num = list(range(5))\n",
        "num"
      ],
      "metadata": {
        "colab": {
          "base_uri": "https://localhost:8080/"
        },
        "id": "WmaXlqvJZ0fh",
        "outputId": "ed6f3fcd-40ba-4449-fa02-098be305fc3a"
      },
      "execution_count": 32,
      "outputs": [
        {
          "output_type": "execute_result",
          "data": {
            "text/plain": [
              "[0, 1, 2, 3, 4]"
            ]
          },
          "metadata": {},
          "execution_count": 32
        }
      ]
    },
    {
      "cell_type": "code",
      "source": [
        "#추가\n",
        "num.append(6) #마지막에 요소 추가, 한개만 추가할 수 o"
      ],
      "metadata": {
        "id": "nFw3J49vZ7CO"
      },
      "execution_count": 33,
      "outputs": []
    },
    {
      "cell_type": "code",
      "source": [
        "num"
      ],
      "metadata": {
        "colab": {
          "base_uri": "https://localhost:8080/"
        },
        "id": "CKHUJ-jXZ9nY",
        "outputId": "c49b6780-07db-4fa5-fcaf-ec70fcfbc6e1"
      },
      "execution_count": 34,
      "outputs": [
        {
          "output_type": "execute_result",
          "data": {
            "text/plain": [
              "[0, 1, 2, 3, 4, 6]"
            ]
          },
          "metadata": {},
          "execution_count": 34
        }
      ]
    },
    {
      "cell_type": "code",
      "source": [
        "# insert(indenx, item)\n",
        "num.insert(0,8)\n",
        "num"
      ],
      "metadata": {
        "colab": {
          "base_uri": "https://localhost:8080/"
        },
        "id": "O0b1XYDqZ-E0",
        "outputId": "a562ba51-9c59-4c16-c6c5-9ad0061fe023"
      },
      "execution_count": 35,
      "outputs": [
        {
          "output_type": "execute_result",
          "data": {
            "text/plain": [
              "[8, 0, 1, 2, 3, 4, 6]"
            ]
          },
          "metadata": {},
          "execution_count": 35
        }
      ]
    },
    {
      "cell_type": "code",
      "source": [
        "# 여러개 추가\n",
        "num.extend([7,7,7]) #리스트에 리스트를 추가"
      ],
      "metadata": {
        "id": "zisiHOfPaMIT"
      },
      "execution_count": 36,
      "outputs": []
    },
    {
      "cell_type": "code",
      "source": [
        "num"
      ],
      "metadata": {
        "colab": {
          "base_uri": "https://localhost:8080/"
        },
        "id": "Yg-WdAfjaSx_",
        "outputId": "dabe390a-d13a-4c3e-9fcf-30c7dbd13124"
      },
      "execution_count": 37,
      "outputs": [
        {
          "output_type": "execute_result",
          "data": {
            "text/plain": [
              "[8, 0, 1, 2, 3, 4, 6, 7, 7, 7]"
            ]
          },
          "metadata": {},
          "execution_count": 37
        }
      ]
    },
    {
      "cell_type": "code",
      "source": [
        "x = [10,9]\n",
        "num.extend(x)\n",
        "num"
      ],
      "metadata": {
        "colab": {
          "base_uri": "https://localhost:8080/"
        },
        "id": "KMP836jYaTTM",
        "outputId": "f38ac3c6-053e-46ed-aa05-283fe3708d5a"
      },
      "execution_count": 38,
      "outputs": [
        {
          "output_type": "execute_result",
          "data": {
            "text/plain": [
              "[8, 0, 1, 2, 3, 4, 6, 7, 7, 7, 10, 9]"
            ]
          },
          "metadata": {},
          "execution_count": 38
        }
      ]
    },
    {
      "cell_type": "code",
      "source": [
        "num.append(x) #리스트 자체가 들어감\n",
        "num"
      ],
      "metadata": {
        "colab": {
          "base_uri": "https://localhost:8080/"
        },
        "id": "EpAkRvUYagAb",
        "outputId": "976864a0-7ee6-4834-b755-31c21c03739c"
      },
      "execution_count": 39,
      "outputs": [
        {
          "output_type": "execute_result",
          "data": {
            "text/plain": [
              "[8, 0, 1, 2, 3, 4, 6, 7, 7, 7, 10, 9, [10, 9]]"
            ]
          },
          "metadata": {},
          "execution_count": 39
        }
      ]
    },
    {
      "cell_type": "code",
      "source": [
        "num += x\n",
        "num"
      ],
      "metadata": {
        "colab": {
          "base_uri": "https://localhost:8080/"
        },
        "id": "ONVJCMHBaieq",
        "outputId": "6968f4ff-297a-481e-9b87-32437392a709"
      },
      "execution_count": 40,
      "outputs": [
        {
          "output_type": "execute_result",
          "data": {
            "text/plain": [
              "[8, 0, 1, 2, 3, 4, 6, 7, 7, 7, 10, 9, [10, 9], 10, 9]"
            ]
          },
          "metadata": {},
          "execution_count": 40
        }
      ]
    },
    {
      "cell_type": "code",
      "source": [
        "#offset\n",
        "num[0] = 9"
      ],
      "metadata": {
        "id": "I-1ChRe6aqYk"
      },
      "execution_count": 42,
      "outputs": []
    },
    {
      "cell_type": "code",
      "source": [
        "num"
      ],
      "metadata": {
        "colab": {
          "base_uri": "https://localhost:8080/"
        },
        "id": "Lh0qsQTGavRq",
        "outputId": "a6fb136f-286a-4c0d-e8fc-1f5f17d1363c"
      },
      "execution_count": 43,
      "outputs": [
        {
          "output_type": "execute_result",
          "data": {
            "text/plain": [
              "[9, 0, 1, 2, 3, 4, 6, 7, 7, 7, 10, 9, [10, 9], 10, 9]"
            ]
          },
          "metadata": {},
          "execution_count": 43
        }
      ]
    },
    {
      "cell_type": "code",
      "source": [
        "#slice\n",
        "num[:3] = 2, 2, 2\n",
        "num"
      ],
      "metadata": {
        "colab": {
          "base_uri": "https://localhost:8080/"
        },
        "id": "yKUiI2xbawAZ",
        "outputId": "e188bc5a-b29f-423a-a80a-584b12a76d3b"
      },
      "execution_count": 44,
      "outputs": [
        {
          "output_type": "execute_result",
          "data": {
            "text/plain": [
              "[2, 2, 2, 2, 3, 4, 6, 7, 7, 7, 10, 9, [10, 9], 10, 9]"
            ]
          },
          "metadata": {},
          "execution_count": 44
        }
      ]
    },
    {
      "cell_type": "code",
      "source": [
        "num[:3] = 'cat'\n",
        "num"
      ],
      "metadata": {
        "colab": {
          "base_uri": "https://localhost:8080/"
        },
        "id": "odvgXvvna1Ef",
        "outputId": "bfebbf87-e838-43d6-f25e-3e68b485149d"
      },
      "execution_count": 45,
      "outputs": [
        {
          "output_type": "execute_result",
          "data": {
            "text/plain": [
              "['c', 'a', 't', 2, 3, 4, 6, 7, 7, 7, 10, 9, [10, 9], 10, 9]"
            ]
          },
          "metadata": {},
          "execution_count": 45
        }
      ]
    },
    {
      "cell_type": "code",
      "source": [
        "#삭제\n",
        "del num[:3]\n",
        "num"
      ],
      "metadata": {
        "colab": {
          "base_uri": "https://localhost:8080/"
        },
        "id": "XQXdnKUFa932",
        "outputId": "c370f408-f55e-49d7-9db6-f494310c6cda"
      },
      "execution_count": 46,
      "outputs": [
        {
          "output_type": "execute_result",
          "data": {
            "text/plain": [
              "[2, 3, 4, 6, 7, 7, 7, 10, 9, [10, 9], 10, 9]"
            ]
          },
          "metadata": {},
          "execution_count": 46
        }
      ]
    },
    {
      "cell_type": "code",
      "source": [
        "#remove(value)\n",
        "num.remove(2)"
      ],
      "metadata": {
        "id": "cGBIh0S-bByT"
      },
      "execution_count": 47,
      "outputs": []
    },
    {
      "cell_type": "code",
      "source": [
        "num #리스트에서 2라는 값을 삭제"
      ],
      "metadata": {
        "colab": {
          "base_uri": "https://localhost:8080/"
        },
        "id": "C2VkGnx7bEkx",
        "outputId": "6c6d4b95-05b6-4edb-9d6e-b3cedb494a92"
      },
      "execution_count": 48,
      "outputs": [
        {
          "output_type": "execute_result",
          "data": {
            "text/plain": [
              "[3, 4, 6, 7, 7, 7, 10, 9, [10, 9], 10, 9]"
            ]
          },
          "metadata": {},
          "execution_count": 48
        }
      ]
    },
    {
      "cell_type": "code",
      "source": [
        "# pop(index) 위치지정\n",
        "#기본값: -1\n",
        "num.pop()"
      ],
      "metadata": {
        "colab": {
          "base_uri": "https://localhost:8080/"
        },
        "id": "XtQHd1vMbIPl",
        "outputId": "ec0bb4c0-6575-4247-b202-622751b987e9"
      },
      "execution_count": 49,
      "outputs": [
        {
          "output_type": "execute_result",
          "data": {
            "text/plain": [
              "9"
            ]
          },
          "metadata": {},
          "execution_count": 49
        }
      ]
    },
    {
      "cell_type": "code",
      "source": [
        "num"
      ],
      "metadata": {
        "colab": {
          "base_uri": "https://localhost:8080/"
        },
        "id": "4hNCCS__bRF9",
        "outputId": "b458b7be-c4e3-4174-b38a-e3bc0a4c8429"
      },
      "execution_count": 50,
      "outputs": [
        {
          "output_type": "execute_result",
          "data": {
            "text/plain": [
              "[3, 4, 6, 7, 7, 7, 10, 9, [10, 9], 10]"
            ]
          },
          "metadata": {},
          "execution_count": 50
        }
      ]
    },
    {
      "cell_type": "code",
      "source": [
        "num.pop(0)"
      ],
      "metadata": {
        "colab": {
          "base_uri": "https://localhost:8080/"
        },
        "id": "Ox06PwJhbReu",
        "outputId": "6988c0e0-45e1-45d1-fd51-753de53b4a47"
      },
      "execution_count": 51,
      "outputs": [
        {
          "output_type": "execute_result",
          "data": {
            "text/plain": [
              "3"
            ]
          },
          "metadata": {},
          "execution_count": 51
        }
      ]
    },
    {
      "cell_type": "code",
      "source": [
        "num"
      ],
      "metadata": {
        "colab": {
          "base_uri": "https://localhost:8080/"
        },
        "id": "SmxYz7xxbWaR",
        "outputId": "bf4e3685-b47e-41b4-951e-8c9bb60cd294"
      },
      "execution_count": 52,
      "outputs": [
        {
          "output_type": "execute_result",
          "data": {
            "text/plain": [
              "[4, 6, 7, 7, 7, 10, 9, [10, 9], 10]"
            ]
          },
          "metadata": {},
          "execution_count": 52
        }
      ]
    },
    {
      "cell_type": "code",
      "source": [
        "#clear \n",
        "#비우기\n",
        "num.clear()\n",
        "num"
      ],
      "metadata": {
        "colab": {
          "base_uri": "https://localhost:8080/"
        },
        "id": "W-AI7fxLbXHG",
        "outputId": "7c26f838-81f4-41d9-e4ec-2bcd181def1f"
      },
      "execution_count": 53,
      "outputs": [
        {
          "output_type": "execute_result",
          "data": {
            "text/plain": [
              "[]"
            ]
          },
          "metadata": {},
          "execution_count": 53
        }
      ]
    },
    {
      "cell_type": "code",
      "source": [
        "# 인덱스\n",
        "num = list(range(5))\n",
        "num.index(4)"
      ],
      "metadata": {
        "colab": {
          "base_uri": "https://localhost:8080/"
        },
        "id": "fm_bXGEWbYhR",
        "outputId": "0bec7409-a3c2-4619-b5c4-664f1513e718"
      },
      "execution_count": 54,
      "outputs": [
        {
          "output_type": "execute_result",
          "data": {
            "text/plain": [
              "4"
            ]
          },
          "metadata": {},
          "execution_count": 54
        }
      ]
    },
    {
      "cell_type": "code",
      "source": [
        "0 in num"
      ],
      "metadata": {
        "colab": {
          "base_uri": "https://localhost:8080/"
        },
        "id": "oru14ywXbmzS",
        "outputId": "b3478621-a590-46d1-d261-e39fe6b4ffa0"
      },
      "execution_count": 55,
      "outputs": [
        {
          "output_type": "execute_result",
          "data": {
            "text/plain": [
              "True"
            ]
          },
          "metadata": {},
          "execution_count": 55
        }
      ]
    },
    {
      "cell_type": "code",
      "source": [
        "#정렬: sort(), sorted()\n",
        "sorted(num, reverse=True) #변한 값만 복사해서 출력"
      ],
      "metadata": {
        "colab": {
          "base_uri": "https://localhost:8080/"
        },
        "id": "_Z9L3Hx9bnv2",
        "outputId": "10f089d4-b5b5-49b2-9ab0-e68f494ef089"
      },
      "execution_count": 56,
      "outputs": [
        {
          "output_type": "execute_result",
          "data": {
            "text/plain": [
              "[4, 3, 2, 1, 0]"
            ]
          },
          "metadata": {},
          "execution_count": 56
        }
      ]
    },
    {
      "cell_type": "code",
      "source": [
        "num.sort(reverse=True) #값을 할당하지 않아도 된다"
      ],
      "metadata": {
        "id": "t_2QTG9cbwWn"
      },
      "execution_count": 57,
      "outputs": []
    },
    {
      "cell_type": "code",
      "source": [
        "num"
      ],
      "metadata": {
        "colab": {
          "base_uri": "https://localhost:8080/"
        },
        "id": "k_3DAo0kb2nV",
        "outputId": "82884539-5566-40fb-9993-3e5cb4fc7030"
      },
      "execution_count": 58,
      "outputs": [
        {
          "output_type": "execute_result",
          "data": {
            "text/plain": [
              "[4, 3, 2, 1, 0]"
            ]
          },
          "metadata": {},
          "execution_count": 58
        }
      ]
    },
    {
      "cell_type": "code",
      "source": [
        "# reverse(), reversed()\n",
        "num.reverse()\n",
        "reversed(num)"
      ],
      "metadata": {
        "colab": {
          "base_uri": "https://localhost:8080/"
        },
        "id": "MiUoUTt7b23-",
        "outputId": "4c1c319b-7828-4afc-c6e7-5fd6889c0329"
      },
      "execution_count": 59,
      "outputs": [
        {
          "output_type": "execute_result",
          "data": {
            "text/plain": [
              "<list_reverseiterator at 0x7f09a8662410>"
            ]
          },
          "metadata": {},
          "execution_count": 59
        }
      ]
    },
    {
      "cell_type": "code",
      "source": [
        "# 할당\n",
        "a = list(range(1, 5))"
      ],
      "metadata": {
        "id": "HETcQewIcBg7"
      },
      "execution_count": 60,
      "outputs": []
    },
    {
      "cell_type": "code",
      "source": [
        "a"
      ],
      "metadata": {
        "colab": {
          "base_uri": "https://localhost:8080/"
        },
        "id": "L8PBc6GJeZtp",
        "outputId": "6abacd50-2e72-4df2-e30d-859be0ff1c06"
      },
      "execution_count": 61,
      "outputs": [
        {
          "output_type": "execute_result",
          "data": {
            "text/plain": [
              "[1, 2, 3, 4]"
            ]
          },
          "metadata": {},
          "execution_count": 61
        }
      ]
    },
    {
      "cell_type": "code",
      "source": [
        "b = a #메모리주소를 참조하는 것\n",
        "b[0] = 6\n",
        "a, b"
      ],
      "metadata": {
        "colab": {
          "base_uri": "https://localhost:8080/"
        },
        "id": "Bu3tGloTeaJb",
        "outputId": "34125ee9-a9f8-4b5d-8126-575e64aaf56b"
      },
      "execution_count": 62,
      "outputs": [
        {
          "output_type": "execute_result",
          "data": {
            "text/plain": [
              "([6, 2, 3, 4], [6, 2, 3, 4])"
            ]
          },
          "metadata": {},
          "execution_count": 62
        }
      ]
    },
    {
      "cell_type": "code",
      "source": [
        "id(a), id(b) #같은 주소"
      ],
      "metadata": {
        "colab": {
          "base_uri": "https://localhost:8080/"
        },
        "id": "oUNaS08yeeOQ",
        "outputId": "fc279949-4269-4c37-9a02-2addcaaa6ad2"
      },
      "execution_count": 63,
      "outputs": [
        {
          "output_type": "execute_result",
          "data": {
            "text/plain": [
              "(139679456720608, 139679456720608)"
            ]
          },
          "metadata": {},
          "execution_count": 63
        }
      ]
    },
    {
      "cell_type": "code",
      "source": [
        "#shallow copy: 참조하지 않고 새로운 객체에 할당하는 방법. 얕은 복사\n",
        "c = a.copy()\n",
        "d = list(a)\n",
        "e = a[:]\n",
        "\n",
        "id(a), id(c), id(d), id(e) # 다 다름"
      ],
      "metadata": {
        "colab": {
          "base_uri": "https://localhost:8080/"
        },
        "id": "gMsKyXwAepDc",
        "outputId": "6423e960-e534-4b1a-ef8f-e10b2e3b7e12"
      },
      "execution_count": 64,
      "outputs": [
        {
          "output_type": "execute_result",
          "data": {
            "text/plain": [
              "(139679456720608, 139679487168256, 139679482353136, 139679456817056)"
            ]
          },
          "metadata": {},
          "execution_count": 64
        }
      ]
    },
    {
      "cell_type": "code",
      "source": [
        "#deepcopy : 깊은 복사, 하위에 중첩된 리스트 요소가 안 바뀌도록\n",
        "a.append([1, 2, 3])\n",
        "a"
      ],
      "metadata": {
        "colab": {
          "base_uri": "https://localhost:8080/"
        },
        "id": "ql6Qi2kBe5sw",
        "outputId": "52bf176b-64df-4472-a4c5-805999fcc63f"
      },
      "execution_count": 65,
      "outputs": [
        {
          "output_type": "execute_result",
          "data": {
            "text/plain": [
              "[6, 2, 3, 4, [1, 2, 3]]"
            ]
          },
          "metadata": {},
          "execution_count": 65
        }
      ]
    },
    {
      "cell_type": "code",
      "source": [
        "f = a.copy()\n",
        "id(a), id(f)"
      ],
      "metadata": {
        "colab": {
          "base_uri": "https://localhost:8080/"
        },
        "id": "OCpb52HYfAkY",
        "outputId": "0ec1c252-4a85-4892-f2f1-d859d12695ee"
      },
      "execution_count": 66,
      "outputs": [
        {
          "output_type": "execute_result",
          "data": {
            "text/plain": [
              "(139679456720608, 139679488427984)"
            ]
          },
          "metadata": {},
          "execution_count": 66
        }
      ]
    },
    {
      "cell_type": "code",
      "source": [
        "f[:-1][0] = 9\n",
        "a, f #같이 변함"
      ],
      "metadata": {
        "colab": {
          "base_uri": "https://localhost:8080/"
        },
        "id": "LfGDZ_9MfFO_",
        "outputId": "9460d27d-bfc9-4fe0-8213-640e2b4cfc31"
      },
      "execution_count": 67,
      "outputs": [
        {
          "output_type": "execute_result",
          "data": {
            "text/plain": [
              "([6, 2, 3, 4, [1, 2, 3]], [6, 2, 3, 4, [1, 2, 3]])"
            ]
          },
          "metadata": {},
          "execution_count": 67
        }
      ]
    },
    {
      "cell_type": "code",
      "source": [
        "import copy"
      ],
      "metadata": {
        "id": "obXy24grfJG4"
      },
      "execution_count": 68,
      "outputs": []
    },
    {
      "cell_type": "code",
      "source": [
        "g = copy.deepcopy(a)\n",
        "g"
      ],
      "metadata": {
        "colab": {
          "base_uri": "https://localhost:8080/"
        },
        "id": "oRYaab1VfTmc",
        "outputId": "8a19213d-5ee7-413b-94c1-1c1dd0a2e379"
      },
      "execution_count": 69,
      "outputs": [
        {
          "output_type": "execute_result",
          "data": {
            "text/plain": [
              "[6, 2, 3, 4, [1, 2, 3]]"
            ]
          },
          "metadata": {},
          "execution_count": 69
        }
      ]
    },
    {
      "cell_type": "code",
      "source": [
        "g[-1][0] = 10\n",
        "a, g #a 바뀌지 않음"
      ],
      "metadata": {
        "colab": {
          "base_uri": "https://localhost:8080/"
        },
        "id": "qDjSQQVHfWIY",
        "outputId": "5c8abea9-2dd8-4ea9-fbd4-f174e15ca95a"
      },
      "execution_count": 70,
      "outputs": [
        {
          "output_type": "execute_result",
          "data": {
            "text/plain": [
              "([6, 2, 3, 4, [1, 2, 3]], [6, 2, 3, 4, [10, 2, 3]])"
            ]
          },
          "metadata": {},
          "execution_count": 70
        }
      ]
    },
    {
      "cell_type": "code",
      "source": [
        "# 순회: zip, enumerate\n",
        "name = ['kate', 'royce', 'phill']\n",
        "age = [77, 44, 54]"
      ],
      "metadata": {
        "id": "oDPz-LEFfY5m"
      },
      "execution_count": 71,
      "outputs": []
    },
    {
      "cell_type": "code",
      "source": [
        "for item1, item2 in zip(name, age): #여러 리스트를 동시에 순회\n",
        "  print((item1, item2)) #튜플로 출력- 괄호 두번"
      ],
      "metadata": {
        "colab": {
          "base_uri": "https://localhost:8080/"
        },
        "id": "N13Ousw_ftCo",
        "outputId": "5785f08e-1427-4c92-8f9c-e1c1dd2a681d"
      },
      "execution_count": 72,
      "outputs": [
        {
          "output_type": "stream",
          "name": "stdout",
          "text": [
            "('kate', 77)\n",
            "('royce', 44)\n",
            "('phill', 54)\n"
          ]
        }
      ]
    },
    {
      "cell_type": "code",
      "source": [
        "for item1 in name:\n",
        "  for item2 in age:\n",
        "    print((item1, item2))"
      ],
      "metadata": {
        "colab": {
          "base_uri": "https://localhost:8080/"
        },
        "id": "n8tZysB0f3t3",
        "outputId": "86f67493-f18a-49b6-f190-213f83ec0d01"
      },
      "execution_count": 73,
      "outputs": [
        {
          "output_type": "stream",
          "name": "stdout",
          "text": [
            "('kate', 77)\n",
            "('kate', 44)\n",
            "('kate', 54)\n",
            "('royce', 77)\n",
            "('royce', 44)\n",
            "('royce', 54)\n",
            "('phill', 77)\n",
            "('phill', 44)\n",
            "('phill', 54)\n"
          ]
        }
      ]
    },
    {
      "cell_type": "code",
      "source": [
        "list(zip(name, age))"
      ],
      "metadata": {
        "colab": {
          "base_uri": "https://localhost:8080/"
        },
        "id": "9Lb-UE3ugAow",
        "outputId": "64676538-2c5b-4438-b407-7054544e40b4"
      },
      "execution_count": 74,
      "outputs": [
        {
          "output_type": "execute_result",
          "data": {
            "text/plain": [
              "[('kate', 77), ('royce', 44), ('phill', 54)]"
            ]
          },
          "metadata": {},
          "execution_count": 74
        }
      ]
    },
    {
      "cell_type": "code",
      "source": [
        "#리스트+ 인덱스 enumerate\n",
        "for idx, item in enumerate(name):\n",
        "  print(idx, item)"
      ],
      "metadata": {
        "colab": {
          "base_uri": "https://localhost:8080/"
        },
        "id": "IbtJKjsVgHtS",
        "outputId": "dbb19181-5dd3-4915-a485-1274384e6b84"
      },
      "execution_count": 75,
      "outputs": [
        {
          "output_type": "stream",
          "name": "stdout",
          "text": [
            "0 kate\n",
            "1 royce\n",
            "2 phill\n"
          ]
        }
      ]
    },
    {
      "cell_type": "code",
      "source": [
        "[word for word in zip(name, age)]"
      ],
      "metadata": {
        "colab": {
          "base_uri": "https://localhost:8080/"
        },
        "id": "kxGq9kL7gRd-",
        "outputId": "a25499c4-c82a-4d1f-92ef-14fb0ac66be3"
      },
      "execution_count": 76,
      "outputs": [
        {
          "output_type": "execute_result",
          "data": {
            "text/plain": [
              "[('kate', 77), ('royce', 44), ('phill', 54)]"
            ]
          },
          "metadata": {},
          "execution_count": 76
        }
      ]
    },
    {
      "cell_type": "code",
      "source": [
        "[(i, j+33) for i, j in zip(name, age)]"
      ],
      "metadata": {
        "colab": {
          "base_uri": "https://localhost:8080/"
        },
        "id": "RuOPvJPOgxWW",
        "outputId": "6a6a49c5-a18b-4d52-e1c9-4b8f63653ea9"
      },
      "execution_count": 77,
      "outputs": [
        {
          "output_type": "execute_result",
          "data": {
            "text/plain": [
              "[('kate', 110), ('royce', 77), ('phill', 87)]"
            ]
          },
          "metadata": {},
          "execution_count": 77
        }
      ]
    },
    {
      "cell_type": "code",
      "source": [
        "# name, age를 이용해서 새로운 리스트를 생성하는데 (이름, 나이), for문 사용(리스트컴프리헨션 사용x)\n"
      ],
      "metadata": {
        "id": "Mwk37khhhG3V"
      },
      "execution_count": 78,
      "outputs": []
    },
    {
      "cell_type": "code",
      "source": [
        "new = []\n",
        "for i, j in zip(name, age):\n",
        "  new.append([i,j])\n",
        "print(new)"
      ],
      "metadata": {
        "colab": {
          "base_uri": "https://localhost:8080/"
        },
        "id": "xXtBctyxhWtP",
        "outputId": "6ebe5666-cc8f-4434-a3a8-243679bf5017"
      },
      "execution_count": 79,
      "outputs": [
        {
          "output_type": "stream",
          "name": "stdout",
          "text": [
            "[['kate', 77], ['royce', 44], ['phill', 54]]\n"
          ]
        }
      ]
    },
    {
      "cell_type": "code",
      "source": [
        "[(i,j) for i, j in zip(name, age)]\n"
      ],
      "metadata": {
        "colab": {
          "base_uri": "https://localhost:8080/"
        },
        "id": "MK50yJ9DhzPO",
        "outputId": "24a87111-47ae-49af-ecda-338622033659"
      },
      "execution_count": 80,
      "outputs": [
        {
          "output_type": "execute_result",
          "data": {
            "text/plain": [
              "[('kate', 77), ('royce', 44), ('phill', 54)]"
            ]
          },
          "metadata": {},
          "execution_count": 80
        }
      ]
    },
    {
      "cell_type": "code",
      "source": [
        "#1 for문의 리스트 컴프리핸션으로 바꾸기\n",
        "for i in name:\n",
        "  for j in age:\n",
        "    print(i, j)"
      ],
      "metadata": {
        "colab": {
          "base_uri": "https://localhost:8080/"
        },
        "id": "5ZFZI5A5ipBX",
        "outputId": "8313a64d-174f-4c47-8cfb-b769bcc0e0f6"
      },
      "execution_count": 81,
      "outputs": [
        {
          "output_type": "stream",
          "name": "stdout",
          "text": [
            "kate 77\n",
            "kate 44\n",
            "kate 54\n",
            "royce 77\n",
            "royce 44\n",
            "royce 54\n",
            "phill 77\n",
            "phill 44\n",
            "phill 54\n"
          ]
        }
      ]
    },
    {
      "cell_type": "code",
      "source": [
        "[(i, j) for j in age for i in name]"
      ],
      "metadata": {
        "colab": {
          "base_uri": "https://localhost:8080/"
        },
        "id": "Uq8XlMMCiufZ",
        "outputId": "effb89ff-1048-47c0-e687-24ac6b30a41b"
      },
      "execution_count": 82,
      "outputs": [
        {
          "output_type": "execute_result",
          "data": {
            "text/plain": [
              "[('kate', 77),\n",
              " ('royce', 77),\n",
              " ('phill', 77),\n",
              " ('kate', 44),\n",
              " ('royce', 44),\n",
              " ('phill', 44),\n",
              " ('kate', 54),\n",
              " ('royce', 54),\n",
              " ('phill', 54)]"
            ]
          },
          "metadata": {},
          "execution_count": 82
        }
      ]
    },
    {
      "cell_type": "code",
      "source": [
        "#2 [i, j] 리스트의 리스트로 바꿔보기(리스트컴)\n",
        "output = []\n",
        "for i in name:\n",
        "  empty = []\n",
        "  for j in age:\n",
        "    print(i, j)\n",
        "    empty.append([i,j])\n",
        "  output.append(empty)"
      ],
      "metadata": {
        "colab": {
          "base_uri": "https://localhost:8080/"
        },
        "id": "DrlDBLq1iVmW",
        "outputId": "2d2ddd78-f6e4-4c07-8d0e-16e6824be450"
      },
      "execution_count": 83,
      "outputs": [
        {
          "output_type": "stream",
          "name": "stdout",
          "text": [
            "kate 77\n",
            "kate 44\n",
            "kate 54\n",
            "royce 77\n",
            "royce 44\n",
            "royce 54\n",
            "phill 77\n",
            "phill 44\n",
            "phill 54\n"
          ]
        }
      ]
    },
    {
      "cell_type": "code",
      "source": [
        "[[(i, j) for j in age] for i in name]"
      ],
      "metadata": {
        "colab": {
          "base_uri": "https://localhost:8080/"
        },
        "id": "JD0pOTCSj8hb",
        "outputId": "db0e2bc6-ccc0-4476-84e9-3feaaa83b20a"
      },
      "execution_count": 84,
      "outputs": [
        {
          "output_type": "execute_result",
          "data": {
            "text/plain": [
              "[[('kate', 77), ('kate', 44), ('kate', 54)],\n",
              " [('royce', 77), ('royce', 44), ('royce', 54)],\n",
              " [('phill', 77), ('phill', 44), ('phill', 54)]]"
            ]
          },
          "metadata": {},
          "execution_count": 84
        }
      ]
    },
    {
      "cell_type": "code",
      "source": [
        "sentence = 'Do not judge a book by its cover'\n",
        "\n",
        "#[(대문자, 첫글자대문자, 글자수), ...] 리.컴 만들기\n"
      ],
      "metadata": {
        "id": "AtcNdwJUknfB"
      },
      "execution_count": 85,
      "outputs": []
    },
    {
      "cell_type": "code",
      "source": [
        "\n",
        "[(word.upper(), word.title(), len(word)) for word in sentence.split()]"
      ],
      "metadata": {
        "colab": {
          "base_uri": "https://localhost:8080/"
        },
        "id": "qQtMXdJTmVfC",
        "outputId": "a2b0914d-687b-4ce4-bd3d-a9cde6e59088"
      },
      "execution_count": 88,
      "outputs": [
        {
          "output_type": "execute_result",
          "data": {
            "text/plain": [
              "[('DO', 'Do', 2),\n",
              " ('NOT', 'Not', 3),\n",
              " ('JUDGE', 'Judge', 5),\n",
              " ('A', 'A', 1),\n",
              " ('BOOK', 'Book', 4),\n",
              " ('BY', 'By', 2),\n",
              " ('ITS', 'Its', 3),\n",
              " ('COVER', 'Cover', 5)]"
            ]
          },
          "metadata": {},
          "execution_count": 88
        }
      ]
    },
    {
      "cell_type": "code",
      "source": [
        "#1.문장마다 스트링으로 변화해서 리스트로 반환\n",
        "  # ['문장1', '문장2']\n",
        "#2. 전체를 스트링으로 변한\n",
        "  # '문장1 문장2'\n",
        "#3. 전체 단어 리스트 가져오기\n",
        "  # [sunja, said, goodnight, ...]\n",
        "\n",
        "text = [\n",
        "        ['sunja' , 'said', 'goodnight', 'to', 'her', 'mother'],\n",
        "        ['Hansu', 'was', 'no', 'longer', 'in', 'Busan']\n",
        "]\n"
      ],
      "metadata": {
        "id": "ei-D8RK6ml3x"
      },
      "execution_count": 89,
      "outputs": []
    },
    {
      "cell_type": "code",
      "source": [
        "#1. \n",
        "[' '.join(sent) for sent in text]"
      ],
      "metadata": {
        "colab": {
          "base_uri": "https://localhost:8080/"
        },
        "id": "csafJOTRoIog",
        "outputId": "4b8fd655-3460-488d-9eba-471736b945ab"
      },
      "execution_count": 91,
      "outputs": [
        {
          "output_type": "execute_result",
          "data": {
            "text/plain": [
              "['sunja said goodnight to her mother', 'Hansu was no longer in Busan']"
            ]
          },
          "metadata": {},
          "execution_count": 91
        }
      ]
    },
    {
      "cell_type": "code",
      "source": [
        "#2 \n",
        "' '.join([' '.join(sent) for sent in text])"
      ],
      "metadata": {
        "colab": {
          "base_uri": "https://localhost:8080/",
          "height": 35
        },
        "id": "z8t3fqHzozs4",
        "outputId": "4dfc3539-2b3f-4280-c0ad-5c5bf3053312"
      },
      "execution_count": 92,
      "outputs": [
        {
          "output_type": "execute_result",
          "data": {
            "text/plain": [
              "'sunja said goodnight to her mother Hansu was no longer in Busan'"
            ],
            "application/vnd.google.colaboratory.intrinsic+json": {
              "type": "string"
            }
          },
          "metadata": {},
          "execution_count": 92
        }
      ]
    },
    {
      "cell_type": "code",
      "source": [
        "#3\n",
        "[word for sent in text for word in sent]"
      ],
      "metadata": {
        "colab": {
          "base_uri": "https://localhost:8080/"
        },
        "id": "qW76m3mZpQTl",
        "outputId": "b38b7b2d-e102-434c-ed25-db383f1bc223"
      },
      "execution_count": 93,
      "outputs": [
        {
          "output_type": "execute_result",
          "data": {
            "text/plain": [
              "['sunja',\n",
              " 'said',\n",
              " 'goodnight',\n",
              " 'to',\n",
              " 'her',\n",
              " 'mother',\n",
              " 'Hansu',\n",
              " 'was',\n",
              " 'no',\n",
              " 'longer',\n",
              " 'in',\n",
              " 'Busan']"
            ]
          },
          "metadata": {},
          "execution_count": 93
        }
      ]
    },
    {
      "cell_type": "code",
      "source": [
        "#if문 - else\n",
        "[i for i in range(10)] #짝수는 가져오고 홀수는 '홀수'\n"
      ],
      "metadata": {
        "colab": {
          "base_uri": "https://localhost:8080/"
        },
        "id": "A8nm2swXph4R",
        "outputId": "7cd94855-0207-40d1-d51d-f2c9837d7165"
      },
      "execution_count": 94,
      "outputs": [
        {
          "output_type": "execute_result",
          "data": {
            "text/plain": [
              "[0, 1, 2, 3, 4, 5, 6, 7, 8, 9]"
            ]
          },
          "metadata": {},
          "execution_count": 94
        }
      ]
    },
    {
      "cell_type": "code",
      "source": [
        "[i if i%2 == 0 else '홀수' for i in range(10)] #if 문을 앞으로 끌고 오기"
      ],
      "metadata": {
        "colab": {
          "base_uri": "https://localhost:8080/"
        },
        "id": "YbCiEjFHp0F0",
        "outputId": "914fec00-930d-4111-ded8-ca999daa0523"
      },
      "execution_count": 95,
      "outputs": [
        {
          "output_type": "execute_result",
          "data": {
            "text/plain": [
              "[0, '홀수', 2, '홀수', 4, '홀수', 6, '홀수', 8, '홀수']"
            ]
          },
          "metadata": {},
          "execution_count": 95
        }
      ]
    },
    {
      "cell_type": "markdown",
      "source": [
        "##과제 \n",
        "- brown 정재하기\n"
      ],
      "metadata": {
        "id": "CQTewd-nqKz2"
      }
    },
    {
      "cell_type": "code",
      "source": [
        "import nltk\n",
        "nltk.download('brown')\n",
        "brown = nltk.corpus.brown"
      ],
      "metadata": {
        "colab": {
          "base_uri": "https://localhost:8080/"
        },
        "id": "W2RVSRmYqJgh",
        "outputId": "601d0859-1436-4943-9ba2-53b219d8e33d"
      },
      "execution_count": 96,
      "outputs": [
        {
          "output_type": "stream",
          "name": "stdout",
          "text": [
            "[nltk_data] Downloading package brown to /root/nltk_data...\n",
            "[nltk_data]   Package brown is already up-to-date!\n"
          ]
        }
      ]
    },
    {
      "cell_type": "code",
      "source": [
        "brown.raw(categories='romance')[:5000] # [['They', 'neither', 'liked', ...], []]\n",
        "#문장 분절 -> 단어 분절\n",
        "#불필요한 것들 제거하기\n",
        " # - 문장부호, POS 제거\n",
        " # - 's, 'nt (she's -> 's) (don't -> don, 't)\n",
        " # - 'fly-dotted' -> fly, dotted"
      ],
      "metadata": {
        "colab": {
          "base_uri": "https://localhost:8080/",
          "height": 127
        },
        "id": "XMysBVGdp7Oo",
        "outputId": "1b1ce2ec-9709-4977-9b65-d86b3b5da614"
      },
      "execution_count": null,
      "outputs": [
        {
          "output_type": "execute_result",
          "data": {
            "text/plain": [
              "\"\\n\\n\\tThey/ppss neither/cc liked/vbd nor/cc disliked/vbd the/at Old/jj-tl Man/nn-tl ./.\\nTo/in them/ppo he/pps could/md have/hv been/ben the/at broken/vbn bell/nn in/in the/at church/nn tower/nn which/wdt rang/vbd before/in and/cc after/in Mass/nn-tl ,/, and/cc at/in noon/nn ,/, and/cc at/in six/cd each/dt evening/nn --/-- its/pp$ tone/nn ,/, repetitive/jj ,/, monotonous/jj ,/, never/rb breaking/vbg the/at boredom/nn of/in the/at streets/nns ./.\\nThe/at Old/jj-tl Man/nn-tl was/bedz unimportant/jj ./.\\n\\n\\n\\tYet/rb if/cs he/pps were/bed not/* there/rb ,/, they/ppss would/md have/hv missed/vbn him/ppo ,/, as/cs they/ppss would/md have/hv missed/vbn the/at sounds/nns of/in bees/nns buzzing/vbg against/in the/at screen/nn door/nn in/in early/jj June/np ;/. ;/.\\nor/cc the/at smell/nn of/in thick/jj tomato/nn paste/nn --/-- the/at ripe/jj smell/nn that/wps was/bedz both/abx sweet/jj and/cc sour/jj --/-- rising/vbg up/rp from/in aluminum/nn trays/nns wrapped/vbn in/in fly-dotted/jj cheesecloth/nn ./.\\nOr/cc the/at surging/vbg whirling/vbg sounds/nns of/in bats/nns at/in night/nn ,/, when/wrb their/pp$ black/jj bodies/nns dived/vbd into/in the/at blackness/nn above/in and/cc below/in the/at amber/jj street/nn lights/nns ./.\\nOr/cc the/at bay/nn of/in female/nn dogs/nns in/in heat/nn ./.\\n\\n\\n\\tThey/ppss never/rb called/vbd him/ppo by/in name/nn ,/, although/cs he/pps had/hvd one/pn ./.\\nFilippo/np Rossi/np ,/, that's/dt+bez what/wdt he/pps was/bedz called/vbn in/in the/at old/jj country/nn ;/. ;/.\\nbut/cc here/rb he/pps was/bedz just/rb Signore/np or/cc the/at Old/jj-tl Man/nn-tl ./.\\nBut/cc this/dt was/bedz not/* unusual/jj ,/, because/cs youth/nn in/in these/dts quarters/nns was/bedz always/rb pushed/vbn at/in a/at distance/nn from/in its/pp$ elders/nns ./.\\nYouth/nn obeyed/vbd when/wrb commanded/vbn ./.\\nIt/pps went/vbd to/in church/nn on/in Sunday/nr and/cc one/cd Saturday/nr a/at month/nn went/vbd to/in confession/nn ./.\\nBut/cc youth/nn asked/vbd nothing/pn of/in its/pp$ parents/nns --/-- not/* a/at touch/nn of/in the/at hand/nn or/cc a/at kiss/nn given/vbn in/in passing/vbg ./.\\n\\n\\n\\tThe/at only/ap thing/nn unusual/jj about/in the/at Old/jj-tl Man/nn-tl had/hvd long/jj since/rb happened/vbn ./.\\nBut/cc the/at past/nn was/bedz dead/jj here/rb as/cs the/at present/jj was/bedz dead/jj ./.\\nOnce/cs the/at Old/jj-tl Man/nn-tl had/hvd had/hvn a/at wife/nn ./.\\nAnd/cc once/cs she/pps ,/, too/rb ,/, ignored/vbd him/ppo ./.\\nWith/in a/at tiny/jj fur-piece/nn wrapped/vbd around/in her/pp$ shoulders/nns ,/, she/pps wiggled/vbd her/pp$ satin-covered/jj buttocks/nns down/in the/at street/nn before/in him/ppo and/cc didn't/dod* stop/vb ./.\\nIn/in one/cd hand/nn she/pps clutched/vbd a/at hundred/cd dollar/nn bill/nn and/cc in/in the/at other/ap a/at straw/nn suitcase/nn ./.\\nThe/at way/nn she/pps strutted/vbd down/in the/at street/nn ,/, the/at Old/jj-tl Man/nn-tl would/md have/hv been/ben blind/jj not/* to/to have/hv noticed/vbn both/abx ./.\\nWithout/in looking/vbg at/in him/ppo ,/, without/in looking/vbg at/in anything/pn except/in Drexel/np-tl Street/nn-tl directly/rb in/in front/nn of/in her/ppo ,/, she/pps climbed/vbd up/rp into/in one/cd of/in those/dts orange/jj streetcars/nns ,/, rode/vbd away/rb in/in it/ppo ,/, and/cc never/rb came/vbd back/rb ./.\\n\\n\\n\\t``/`` But/cc she/pps shouldn't/md* have/hv come/vbn here/rb in/in the/at first/od place/nn ''/'' ,/, the/at women/nns had/hvd said/vbn ./.\\n\\n\\n\\t``/`` No/rb ,/, no/rb ./.\\nNot/* that/dt one/pn ./.\\nShe/pps thought/vbd she/pps was/bedz bigger/jjr than/cs we/ppss are/ber because/cs she/pps came/vbd from/in Torino/np ''/'' ./.\\n\\n\\n\\t``/`` Eh/uh ,/, Torino/np !/. !/.\\nShe/pps gave/vbd herself/ppl fancy/jj airs/nns !/. !/.\\nJust/rb because/cs she/pps had/hvd a/at part/nn on/in the/at stage/nn in/in the/at old/jj country/nn ,/, she/pps thought/vbd she/pps could/md carry/vb her/pp$ head/nn higher/rbr than/cs ours/pp$$ ''/'' ./.\\nThey/ppss had/hvd slapped/vbn their/pp$ thighs/nns ./.\\n\\n\\n\\t``/`` It's/pps+bez not/* for/in making/vbg pretty/jj speeches/nns about/in Dante/np those/dts actresses/nns get/vb paid/vbn so/ql good/rb ''/'' ./.\\n\\n\\n\\t``/`` Henh/uh ''/'' !/. !/.\\nCalloused/vbn fingers/nns ,/, caressed/vbn only/rb by/in the/at smoothness/nn of/in polished/vbn rosaries/nns ,/, had/hvd swayed/vbn excitedly/rb beneath/in puckered/vbn chins/nns where/wrb tiny/jj black/jj hairs/nns sprouted/vbd ,/, never/rb to/to be/be tweezed/vbn away/rb ./.\\nMauve-colored/jj mouths/nns that/wps had/hvd never/rb known/vbn anything/pn sweeter/jjr than/cs the/at taste/nn of/in new/jj wine/nn and/cc the/at passion/nn of/in man's/nn$ tongue/nn had/hvd not/* smiled/vbn ,/, but/cc had/hvd condemned/vbn again/rb and/cc again/rb ./.\\n``/`` Puttana/fw-nn ''/'' !/. !/.\\n\\n\\n\\tBut/cc if/cs the/at Old/jj-tl Man/nn-tl even/rb thought/vbd about/in his/pp$ wife/nn now/rb ,/, nobody/pn cared/vbd a/at fig/nn ./.\\nIt/pps was/bedz enough/ap for/in people/nns to/to know/vb that/cs at/in one/cd time/nn he/pps had/hvd looked/vbn down/in the/at street/nn at/in the/at f\""
            ],
            "application/vnd.google.colaboratory.intrinsic+json": {
              "type": "string"
            }
          },
          "metadata": {},
          "execution_count": 181
        }
      ]
    },
    {
      "cell_type": "code",
      "source": [
        ""
      ],
      "metadata": {
        "id": "3_oB77-mqvbD"
      },
      "execution_count": null,
      "outputs": []
    }
  ]
}