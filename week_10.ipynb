{
  "nbformat": 4,
  "nbformat_minor": 0,
  "metadata": {
    "colab": {
      "name": "week_10",
      "provenance": [],
      "collapsed_sections": []
    },
    "kernelspec": {
      "name": "python3",
      "display_name": "Python 3"
    },
    "language_info": {
      "name": "python"
    }
  },
  "cells": [
    {
      "cell_type": "markdown",
      "source": [
        "###객체와 클래스\n",
        "- 객체를 구현하는 것 => 클래스\n",
        "- 객체 = object\n",
        "- 객체지향프로그래밍\n",
        "- 속성과 행동을 가지는 개념, 실존할 수도 있고, 아닐 수 도 있는 것\n",
        " - 예: 자동차, 강아지, 꽃, ...thing\n",
        "   - 자동차 속성: 브랜드, 색, 속도, 모델, ... => 변수\n",
        "   - 자동차 행동: 가다, 서다, 회전, 주차, ... => 메소드(함수)\n",
        "   - 강아지 속성: 이름, 종, 색, 무게, ...\n",
        "   - 강아지 행동: 뛰다, 짖다, 자다, 핥다.\n",
        " - 편의점 => '고객이 편의점에서 과자를 샀다'\n",
        " - 객체: 고객(사람), 편의점, 과자(물건) -> 상호작용으로 코드 구성\n",
        "   - 고객: 이름, 돈/ 물건 사기, 돈내기, 팔기 수익내기\n",
        "   - 편의점: 재고, 수익\n",
        "   - 물건: 이름, 브랜드, 가격\n"
      ],
      "metadata": {
        "id": "Wv7eQj8gdbAs"
      }
    },
    {
      "cell_type": "markdown",
      "source": [
        "## 클래스 선언\n",
        "- 첫 글자 대문자\n",
        "- nice car -> Nice_car (x)\n",
        "- 카멜표기법 -> NiceCar (o)\n",
        "- 아무 설정이 없다면 'pass'\n",
        "- 정의부, 선언부\n",
        "  - 정의부: 붕어빵 틀\n",
        "  - 선언부: 붕어빵\n"
      ],
      "metadata": {
        "id": "sbtiABneh4ck"
      }
    },
    {
      "cell_type": "code",
      "source": [
        "#정의부\n",
        "class Car:#객체\n",
        "  pass \n",
        "\n",
        "#선언부\n",
        "my_car = Car()\n",
        "my_car # instance == 붕어빵"
      ],
      "metadata": {
        "colab": {
          "base_uri": "https://localhost:8080/"
        },
        "id": "vbYZm8QGh3A2",
        "outputId": "a689a39f-580d-474c-f57f-9e775280ad86"
      },
      "execution_count": 1,
      "outputs": [
        {
          "output_type": "execute_result",
          "data": {
            "text/plain": [
              "<__main__.Car at 0x7f1e639186d0>"
            ]
          },
          "metadata": {},
          "execution_count": 1
        }
      ]
    },
    {
      "cell_type": "code",
      "source": [
        "my_car.name = 'bmw'\n",
        "my_car.color = 'white'"
      ],
      "metadata": {
        "id": "fkKZLWSVidsY"
      },
      "execution_count": 2,
      "outputs": []
    },
    {
      "cell_type": "code",
      "source": [
        "my_car.name"
      ],
      "metadata": {
        "colab": {
          "base_uri": "https://localhost:8080/",
          "height": 36
        },
        "id": "ZBU9ueaNigkb",
        "outputId": "d28f1c07-38c4-4f39-a459-1c2107c984ae"
      },
      "execution_count": 92,
      "outputs": [
        {
          "output_type": "execute_result",
          "data": {
            "text/plain": [
              "'bmw'"
            ],
            "application/vnd.google.colaboratory.intrinsic+json": {
              "type": "string"
            }
          },
          "metadata": {},
          "execution_count": 92
        }
      ]
    },
    {
      "cell_type": "code",
      "source": [
        "class Car:\n",
        "    name = 'BMW'"
      ],
      "metadata": {
        "id": "GbASwK7Sihkp"
      },
      "execution_count": 4,
      "outputs": []
    },
    {
      "cell_type": "code",
      "source": [
        "# 속성 정의\n",
        "your_car = Car()\n",
        "your_car.name"
      ],
      "metadata": {
        "colab": {
          "base_uri": "https://localhost:8080/",
          "height": 36
        },
        "id": "SGElkjYEijp2",
        "outputId": "ba88e405-a917-4196-d175-175615bf7c10"
      },
      "execution_count": 5,
      "outputs": [
        {
          "output_type": "execute_result",
          "data": {
            "text/plain": [
              "'BMW'"
            ],
            "application/vnd.google.colaboratory.intrinsic+json": {
              "type": "string"
            }
          },
          "metadata": {},
          "execution_count": 5
        }
      ]
    },
    {
      "cell_type": "code",
      "source": [
        "your_car.name ='Kia' # 바꿀 수 있음\n",
        "your_car.name"
      ],
      "metadata": {
        "colab": {
          "base_uri": "https://localhost:8080/",
          "height": 36
        },
        "id": "sDnvQfkCinz4",
        "outputId": "5310aaa5-22a0-449d-86fb-59c1dd51ba7c"
      },
      "execution_count": 6,
      "outputs": [
        {
          "output_type": "execute_result",
          "data": {
            "text/plain": [
              "'Kia'"
            ],
            "application/vnd.google.colaboratory.intrinsic+json": {
              "type": "string"
            }
          },
          "metadata": {},
          "execution_count": 6
        }
      ]
    },
    {
      "cell_type": "code",
      "source": [
        "#2. init을 통해 지정하는 방법\n",
        "class Car:\n",
        "    def __init__(self, name): # 속성 초기화 함수\n",
        "        # 객체 만들 때 들어오는 값으로 이름을 설정하고 싶다.\n",
        "        self.name = name\n",
        "        # self == instance: 나 자신 (인스턴스 자신)"
      ],
      "metadata": {
        "id": "7k_SIj40in7u"
      },
      "execution_count": 7,
      "outputs": []
    },
    {
      "cell_type": "code",
      "source": [
        "her_car = Car(name='Hyundai')"
      ],
      "metadata": {
        "id": "EZZKN02Kin-O"
      },
      "execution_count": 8,
      "outputs": []
    },
    {
      "cell_type": "code",
      "source": [
        "her_car.name"
      ],
      "metadata": {
        "colab": {
          "base_uri": "https://localhost:8080/",
          "height": 36
        },
        "id": "4-J9t3VsioAo",
        "outputId": "a751dc5a-ef68-4485-e313-3fd88cc7f8d1"
      },
      "execution_count": 9,
      "outputs": [
        {
          "output_type": "execute_result",
          "data": {
            "text/plain": [
              "'Hyundai'"
            ],
            "application/vnd.google.colaboratory.intrinsic+json": {
              "type": "string"
            }
          },
          "metadata": {},
          "execution_count": 9
        }
      ]
    },
    {
      "cell_type": "code",
      "source": [
        "car2 = Car('Toyota')\n",
        "car2.name"
      ],
      "metadata": {
        "colab": {
          "base_uri": "https://localhost:8080/",
          "height": 36
        },
        "id": "ti91D3a8ioCq",
        "outputId": "6df82ce2-2a67-4b1e-c2df-fa10b9288d0a"
      },
      "execution_count": 10,
      "outputs": [
        {
          "output_type": "execute_result",
          "data": {
            "text/plain": [
              "'Toyota'"
            ],
            "application/vnd.google.colaboratory.intrinsic+json": {
              "type": "string"
            }
          },
          "metadata": {},
          "execution_count": 10
        }
      ]
    },
    {
      "cell_type": "markdown",
      "source": [
        "###모델, 색, 이름 추가하기"
      ],
      "metadata": {
        "id": "KUvDG9__i2jt"
      }
    },
    {
      "cell_type": "code",
      "source": [
        "class Car:\n",
        "    def __init__(self, name, model, color): \n",
        "        self.name = name\n",
        "        self.model = model\n",
        "        self.color = color"
      ],
      "metadata": {
        "id": "MRr_a0OBioFE"
      },
      "execution_count": 11,
      "outputs": []
    },
    {
      "cell_type": "code",
      "source": [
        "car3 = Car('KIA', 'K9', 'black')"
      ],
      "metadata": {
        "id": "UBcrobHMi17y"
      },
      "execution_count": 16,
      "outputs": []
    },
    {
      "cell_type": "code",
      "source": [
        "car3.name"
      ],
      "metadata": {
        "colab": {
          "base_uri": "https://localhost:8080/",
          "height": 36
        },
        "id": "TBuOXpwHioHA",
        "outputId": "cb4c4646-d445-4892-f21c-2f11c01e2de5"
      },
      "execution_count": 17,
      "outputs": [
        {
          "output_type": "execute_result",
          "data": {
            "text/plain": [
              "'KIA'"
            ],
            "application/vnd.google.colaboratory.intrinsic+json": {
              "type": "string"
            }
          },
          "metadata": {},
          "execution_count": 17
        }
      ]
    },
    {
      "cell_type": "code",
      "source": [
        "car3.model"
      ],
      "metadata": {
        "colab": {
          "base_uri": "https://localhost:8080/",
          "height": 36
        },
        "id": "mrf785nWioNw",
        "outputId": "81727e81-89a1-4d2e-8564-0ef3ad04df17"
      },
      "execution_count": 18,
      "outputs": [
        {
          "output_type": "execute_result",
          "data": {
            "text/plain": [
              "'K9'"
            ],
            "application/vnd.google.colaboratory.intrinsic+json": {
              "type": "string"
            }
          },
          "metadata": {},
          "execution_count": 18
        }
      ]
    },
    {
      "cell_type": "code",
      "source": [
        "car3.color"
      ],
      "metadata": {
        "colab": {
          "base_uri": "https://localhost:8080/",
          "height": 36
        },
        "id": "RZQ7gaoOioQb",
        "outputId": "88ec478b-cfd7-4ae2-9677-ab23f63ce799"
      },
      "execution_count": 19,
      "outputs": [
        {
          "output_type": "execute_result",
          "data": {
            "text/plain": [
              "'black'"
            ],
            "application/vnd.google.colaboratory.intrinsic+json": {
              "type": "string"
            }
          },
          "metadata": {},
          "execution_count": 19
        }
      ]
    },
    {
      "cell_type": "code",
      "source": [
        "# 클래스에 행동 추가하기\n",
        "\n",
        "class Car:\n",
        "    def __init__(self, name, model, color):\n",
        "        self.name = name\n",
        "        self.model = model\n",
        "        self.color = color\n",
        "        \n",
        "    def drive(self):\n",
        "        # 1. {차 이름}가 출발합니다.\n",
        "        print(f'{self.name}가 출발합니다.')\n",
        "    \n",
        "    def stop(self):\n",
        "        print('차가 섭니다.')\n",
        "        \n",
        "    def change_color(self):\n",
        "        # 2. 컬러를 gray로 바꾼다.\n",
        "        self.color = 'gray'"
      ],
      "metadata": {
        "id": "nIAhfck4jJUv"
      },
      "execution_count": 20,
      "outputs": []
    },
    {
      "cell_type": "code",
      "source": [
        "car3 = Car('KIA', 'K9', 'black')"
      ],
      "metadata": {
        "id": "fG2lYCzYjL5c"
      },
      "execution_count": 21,
      "outputs": []
    },
    {
      "cell_type": "code",
      "source": [
        "car3.drive()"
      ],
      "metadata": {
        "colab": {
          "base_uri": "https://localhost:8080/"
        },
        "id": "Wzejnup4jL_b",
        "outputId": "cd8a9ae5-8355-4858-c551-270b77b644e3"
      },
      "execution_count": 22,
      "outputs": [
        {
          "output_type": "stream",
          "name": "stdout",
          "text": [
            "KIA가 출발합니다.\n"
          ]
        }
      ]
    },
    {
      "cell_type": "code",
      "source": [
        "car3.stop()"
      ],
      "metadata": {
        "colab": {
          "base_uri": "https://localhost:8080/"
        },
        "id": "bZN7zxKSjMBt",
        "outputId": "711e182c-d5a2-403b-f32a-22c13fad4684"
      },
      "execution_count": 26,
      "outputs": [
        {
          "output_type": "stream",
          "name": "stdout",
          "text": [
            "차가 섭니다.\n"
          ]
        }
      ]
    },
    {
      "cell_type": "code",
      "source": [
        "car3.change_color()\n",
        "print(car3.color)"
      ],
      "metadata": {
        "colab": {
          "base_uri": "https://localhost:8080/"
        },
        "id": "ACN5FbNkjMGe",
        "outputId": "43e8935d-539f-4d61-c263-e8ca1e07d0c0"
      },
      "execution_count": 27,
      "outputs": [
        {
          "output_type": "stream",
          "name": "stdout",
          "text": [
            "gray\n"
          ]
        }
      ]
    },
    {
      "cell_type": "code",
      "source": [
        "class Car:\n",
        "    def __init__(self, name, model, color):\n",
        "        self.name = name\n",
        "        self.model = model\n",
        "        self.color = color\n",
        "\n",
        "    def drive(self, name):\n",
        "        print(f'{self.name}가 출발합니다.')\n",
        "\n",
        "    def stop(self):\n",
        "        print('차가 섭니다.')\n",
        "\n",
        "    def change_color(self, color):\n",
        "        self.color = color #color을 받아서 그걸로 지정"
      ],
      "metadata": {
        "id": "vqVMsNrDjMJA"
      },
      "execution_count": 28,
      "outputs": []
    },
    {
      "cell_type": "code",
      "source": [
        "car4 = Car('K5')"
      ],
      "metadata": {
        "id": "wnu6Pt9rjMMc"
      },
      "execution_count": 29,
      "outputs": []
    },
    {
      "cell_type": "code",
      "source": [
        "car4.change_color('white')"
      ],
      "metadata": {
        "id": "qhPHoXXsjMPE"
      },
      "execution_count": 30,
      "outputs": []
    },
    {
      "cell_type": "code",
      "source": [
        "car4.color"
      ],
      "metadata": {
        "colab": {
          "base_uri": "https://localhost:8080/",
          "height": 36
        },
        "id": "FOENVwGtjMRT",
        "outputId": "1bb6e8a4-1b70-469c-f574-4f74e7286e77"
      },
      "execution_count": 31,
      "outputs": [
        {
          "output_type": "execute_result",
          "data": {
            "text/plain": [
              "'white'"
            ],
            "application/vnd.google.colaboratory.intrinsic+json": {
              "type": "string"
            }
          },
          "metadata": {},
          "execution_count": 31
        }
      ]
    },
    {
      "cell_type": "code",
      "source": [
        "car4.drive()"
      ],
      "metadata": {
        "colab": {
          "base_uri": "https://localhost:8080/"
        },
        "id": "6rHgsoH0jea8",
        "outputId": "474f2692-8e7f-43e4-da92-918b021d1950"
      },
      "execution_count": 32,
      "outputs": [
        {
          "output_type": "stream",
          "name": "stdout",
          "text": [
            "K5가 갑니다\n"
          ]
        }
      ]
    },
    {
      "cell_type": "code",
      "source": [
        "car4.color"
      ],
      "metadata": {
        "colab": {
          "base_uri": "https://localhost:8080/",
          "height": 36
        },
        "id": "LAhIMaWIjedy",
        "outputId": "86a226e1-1cb6-421d-c372-c29b7c48c86d"
      },
      "execution_count": 33,
      "outputs": [
        {
          "output_type": "execute_result",
          "data": {
            "text/plain": [
              "'white'"
            ],
            "application/vnd.google.colaboratory.intrinsic+json": {
              "type": "string"
            }
          },
          "metadata": {},
          "execution_count": 33
        }
      ]
    },
    {
      "cell_type": "code",
      "source": [
        "class Car:\n",
        "    def __init__(self, name, model=None, color='black'):\n",
        "        self.name = name\n",
        "        self.model = model\n",
        "        self.color = color\n",
        "\n",
        "    def drive(self, name):\n",
        "        print(f'{self.name}가 출발합니다.')\n",
        "\n",
        "    def stop(self):\n",
        "        print('차가 섭니다.')\n",
        "\n",
        "    def change_color(self, color):\n",
        "        self.color = color #color을 받아서 그걸로 지정"
      ],
      "metadata": {
        "id": "a99Bx5kd3aRb"
      },
      "execution_count": 93,
      "outputs": []
    },
    {
      "cell_type": "code",
      "source": [
        "car5 = Car('Kia')\n",
        "print(car5.model)\n",
        "\n",
        "car5.model = 'morning'\n",
        "print(car5.model)"
      ],
      "metadata": {
        "colab": {
          "base_uri": "https://localhost:8080/"
        },
        "id": "Itk4GytFjeh_",
        "outputId": "4a054021-68d8-41ea-8691-132cd2bc4017"
      },
      "execution_count": 94,
      "outputs": [
        {
          "output_type": "stream",
          "name": "stdout",
          "text": [
            "None\n",
            "morning\n"
          ]
        }
      ]
    },
    {
      "cell_type": "code",
      "source": [
        "car5 = Car('Kia')\n",
        "car5.change_color('blue')\n",
        "print(car5.color)"
      ],
      "metadata": {
        "colab": {
          "base_uri": "https://localhost:8080/"
        },
        "id": "n6qGKqPe3o0M",
        "outputId": "8066bced-041f-4407-efd2-fd0ad136e273"
      },
      "execution_count": 95,
      "outputs": [
        {
          "output_type": "stream",
          "name": "stdout",
          "text": [
            "blue\n"
          ]
        }
      ]
    },
    {
      "cell_type": "markdown",
      "source": [
        "###캡슐화, 정보 은닉\n",
        "- public > private\n",
        "- getter, setter"
      ],
      "metadata": {
        "id": "lKlDIHbtjoOT"
      }
    },
    {
      "cell_type": "code",
      "source": [
        "class Fruit:\n",
        "    color = 'red'\n",
        "    \n",
        "kiwi = Fruit()\n",
        "kiwi.color"
      ],
      "metadata": {
        "colab": {
          "base_uri": "https://localhost:8080/",
          "height": 36
        },
        "id": "qgB1Z7INjnlL",
        "outputId": "dc49cfd1-f07a-42f7-b966-269d1b9a849d"
      },
      "execution_count": 35,
      "outputs": [
        {
          "output_type": "execute_result",
          "data": {
            "text/plain": [
              "'red'"
            ],
            "application/vnd.google.colaboratory.intrinsic+json": {
              "type": "string"
            }
          },
          "metadata": {},
          "execution_count": 35
        }
      ]
    },
    {
      "cell_type": "code",
      "source": [
        "Fruit.color = 'black' # 밖에서 변경\n",
        "\n",
        "apple = Fruit()\n",
        "apple.color # 내가 알지 못한 사이 컬러가 바뀜."
      ],
      "metadata": {
        "colab": {
          "base_uri": "https://localhost:8080/",
          "height": 36
        },
        "id": "5wKVzH-OjekT",
        "outputId": "d76d8fe7-b932-4b4d-f335-52666368c1b2"
      },
      "execution_count": 36,
      "outputs": [
        {
          "output_type": "execute_result",
          "data": {
            "text/plain": [
              "'black'"
            ],
            "application/vnd.google.colaboratory.intrinsic+json": {
              "type": "string"
            }
          },
          "metadata": {},
          "execution_count": 36
        }
      ]
    },
    {
      "cell_type": "markdown",
      "source": [
        "####get, set\n",
        "- getter: 클래스 내 객체 변수 반환\n",
        "- setter: == 변수 설정\n",
        "- 접근을 아예 못하게 하는 것은 아님"
      ],
      "metadata": {
        "id": "NX0zKCrMk-u8"
      }
    },
    {
      "cell_type": "code",
      "source": [
        "class Car:\n",
        "    def __init__(self, input_name):\n",
        "        self.name = input_name\n",
        "        \n",
        "    def get_name(self):\n",
        "        # 함수 반환\n",
        "        return self.name\n",
        "    \n",
        "    def set_name(self, input_name):\n",
        "        #return값 없음\n",
        "        self.name = input_name\n",
        "        \n",
        "c = Car('name1')"
      ],
      "metadata": {
        "id": "-FnTwjjhjemv"
      },
      "execution_count": 37,
      "outputs": []
    },
    {
      "cell_type": "code",
      "source": [
        "c.get_name()"
      ],
      "metadata": {
        "colab": {
          "base_uri": "https://localhost:8080/",
          "height": 36
        },
        "id": "AKHa3ZoUjeos",
        "outputId": "d4c76764-0ec7-4f24-8071-f5a57a02fae6"
      },
      "execution_count": 38,
      "outputs": [
        {
          "output_type": "execute_result",
          "data": {
            "text/plain": [
              "'name1'"
            ],
            "application/vnd.google.colaboratory.intrinsic+json": {
              "type": "string"
            }
          },
          "metadata": {},
          "execution_count": 38
        }
      ]
    },
    {
      "cell_type": "code",
      "source": [
        "\n",
        "c.set_name('name2')\n",
        "c.name"
      ],
      "metadata": {
        "colab": {
          "base_uri": "https://localhost:8080/",
          "height": 36
        },
        "id": "gnJi7UYhjeq3",
        "outputId": "ac1947c4-c2d0-4875-b5f9-0922d888ab44"
      },
      "execution_count": 39,
      "outputs": [
        {
          "output_type": "execute_result",
          "data": {
            "text/plain": [
              "'name2'"
            ],
            "application/vnd.google.colaboratory.intrinsic+json": {
              "type": "string"
            }
          },
          "metadata": {},
          "execution_count": 39
        }
      ]
    },
    {
      "cell_type": "code",
      "source": [
        "c.name = 'name3'\n",
        "c.name"
      ],
      "metadata": {
        "colab": {
          "base_uri": "https://localhost:8080/",
          "height": 36
        },
        "id": "VJi-p3F8jes4",
        "outputId": "f4bb3436-0b6a-43d7-d787-b100d47526df"
      },
      "execution_count": 40,
      "outputs": [
        {
          "output_type": "execute_result",
          "data": {
            "text/plain": [
              "'name3'"
            ],
            "application/vnd.google.colaboratory.intrinsic+json": {
              "type": "string"
            }
          },
          "metadata": {},
          "execution_count": 40
        }
      ]
    },
    {
      "cell_type": "code",
      "source": [
        "# 2번 방법\n",
        "\n",
        "class Car:\n",
        "    def __init__(self, input_name):\n",
        "        self.hidden_name = input_name\n",
        "        \n",
        "    def get_name(self):\n",
        "        # 힘수 반환\n",
        "        return self.hidden_name\n",
        "    \n",
        "    def set_name(self, input_name):\n",
        "        #return값 없음\n",
        "        self.hidden_name = input_name\n",
        "        \n",
        "    # name을 지정해주고, property 사용    \n",
        "    name = property(get_name, set_name)\n",
        "    \n",
        "d = Car('name_1')\n",
        "d.name"
      ],
      "metadata": {
        "colab": {
          "base_uri": "https://localhost:8080/",
          "height": 36
        },
        "id": "KicOMENVjew_",
        "outputId": "7d20cd99-8016-40d7-ba4f-fe77d63c0499"
      },
      "execution_count": 41,
      "outputs": [
        {
          "output_type": "execute_result",
          "data": {
            "text/plain": [
              "'name_1'"
            ],
            "application/vnd.google.colaboratory.intrinsic+json": {
              "type": "string"
            }
          },
          "metadata": {},
          "execution_count": 41
        }
      ]
    },
    {
      "cell_type": "code",
      "source": [
        "# 3번 방법\n",
        "\n",
        "class Car:\n",
        "    def __init__(self, input_name):\n",
        "        self.hidden_name = input_name\n",
        "    # decorator\n",
        "    @property # getter\n",
        "    def name(self):\n",
        "        # 변수반환\n",
        "        return self.hidden_name\n",
        "    \n",
        "    @name.setter # setter\n",
        "    def name(self, input_name):\n",
        "        #return값 없음\n",
        "        self.hidden_name = input_name"
      ],
      "metadata": {
        "id": "H44TGdvYlQjG"
      },
      "execution_count": 42,
      "outputs": []
    },
    {
      "cell_type": "code",
      "source": [
        "e = Car('name a')\n",
        "e.name"
      ],
      "metadata": {
        "colab": {
          "base_uri": "https://localhost:8080/",
          "height": 36
        },
        "id": "ulWbCjumlQ-6",
        "outputId": "89e4c633-7e0a-42f7-9d20-51602723122f"
      },
      "execution_count": 43,
      "outputs": [
        {
          "output_type": "execute_result",
          "data": {
            "text/plain": [
              "'name a'"
            ],
            "application/vnd.google.colaboratory.intrinsic+json": {
              "type": "string"
            }
          },
          "metadata": {},
          "execution_count": 43
        }
      ]
    },
    {
      "cell_type": "code",
      "source": [
        "e.hidden_name"
      ],
      "metadata": {
        "colab": {
          "base_uri": "https://localhost:8080/",
          "height": 36
        },
        "id": "51iRv0WYlRCT",
        "outputId": "0c6de6c6-2296-46b9-fd92-64a98e21d58f"
      },
      "execution_count": 44,
      "outputs": [
        {
          "output_type": "execute_result",
          "data": {
            "text/plain": [
              "'name a'"
            ],
            "application/vnd.google.colaboratory.intrinsic+json": {
              "type": "string"
            }
          },
          "metadata": {},
          "execution_count": 44
        }
      ]
    },
    {
      "cell_type": "code",
      "source": [
        "# 4번 방법 - 완전 가려야 할 때\n",
        "\n",
        "class Car:\n",
        "    def __init__(self, input_name):\n",
        "        self.__name = input_name\n",
        "    # decorator\n",
        "    @property\n",
        "    def name(self):\n",
        "        # 변수반환\n",
        "        return self.__name\n",
        "    \n",
        "    @name.setter\n",
        "    def name(self, input_name):\n",
        "        self.__name = input_name"
      ],
      "metadata": {
        "id": "6Cd7qUmalRJI"
      },
      "execution_count": 45,
      "outputs": []
    },
    {
      "cell_type": "code",
      "source": [
        "f = Car('name b')\n",
        "f.__name  #에러"
      ],
      "metadata": {
        "colab": {
          "base_uri": "https://localhost:8080/",
          "height": 191
        },
        "id": "jHpcGYHclRNw",
        "outputId": "eab4aeaa-a897-4cd1-dd40-1c20597e4fbd"
      },
      "execution_count": 47,
      "outputs": [
        {
          "output_type": "error",
          "ename": "AttributeError",
          "evalue": "ignored",
          "traceback": [
            "\u001b[0;31m---------------------------------------------------------------------------\u001b[0m",
            "\u001b[0;31mAttributeError\u001b[0m                            Traceback (most recent call last)",
            "\u001b[0;32m<ipython-input-47-ae06ad507af4>\u001b[0m in \u001b[0;36m<module>\u001b[0;34m()\u001b[0m\n\u001b[1;32m      1\u001b[0m \u001b[0mf\u001b[0m \u001b[0;34m=\u001b[0m \u001b[0mCar\u001b[0m\u001b[0;34m(\u001b[0m\u001b[0;34m'name b'\u001b[0m\u001b[0;34m)\u001b[0m\u001b[0;34m\u001b[0m\u001b[0;34m\u001b[0m\u001b[0m\n\u001b[0;32m----> 2\u001b[0;31m \u001b[0mf\u001b[0m\u001b[0;34m.\u001b[0m\u001b[0m__name\u001b[0m  \u001b[0;31m#에러\u001b[0m\u001b[0;34m\u001b[0m\u001b[0;34m\u001b[0m\u001b[0m\n\u001b[0m",
            "\u001b[0;31mAttributeError\u001b[0m: 'Car' object has no attribute '__name'"
          ]
        }
      ]
    },
    {
      "cell_type": "code",
      "source": [
        "class Circle:\n",
        "    def __init__(self, radius):\n",
        "        self.radius = radius\n",
        "        \n",
        "    @property # 메소드를 통해 속성을 만드는 도구\n",
        "    def parameter(self):\n",
        "        return self.radius * 2\n",
        "\n",
        "ex = Circle(5)\n",
        "ex.parameter"
      ],
      "metadata": {
        "colab": {
          "base_uri": "https://localhost:8080/"
        },
        "id": "I84yQLlblRTG",
        "outputId": "360e64bf-badf-4e93-b525-ab8b329f7131"
      },
      "execution_count": 48,
      "outputs": [
        {
          "output_type": "execute_result",
          "data": {
            "text/plain": [
              "10"
            ]
          },
          "metadata": {},
          "execution_count": 48
        }
      ]
    },
    {
      "cell_type": "code",
      "source": [
        "ex.radius = 19\n",
        "ex.parameter"
      ],
      "metadata": {
        "colab": {
          "base_uri": "https://localhost:8080/"
        },
        "id": "cDwrjhPMlRV8",
        "outputId": "5a4f62d3-75ad-463c-b3cc-c86a6fb5bdc9"
      },
      "execution_count": 49,
      "outputs": [
        {
          "output_type": "execute_result",
          "data": {
            "text/plain": [
              "38"
            ]
          },
          "metadata": {},
          "execution_count": 49
        }
      ]
    },
    {
      "cell_type": "markdown",
      "source": [
        "### 실습\n",
        "- 메모장, 메모 구현하기\n",
        "- 메모장\n",
        " - 속성: 제목, 페이지번호, 메모\n",
        " - 메모 추가하다, 메모 삭제하다, 페이지번호 확인하다\n",
        "- 메모\n",
        " - 속성: 글귀\n",
        " - 행동: 쓰다, 지우다\n",
        "- 사용\n",
        " - 메모 쓴다\n",
        " - 메모장에 추가\n",
        " - 페이지 번호가 늘어난다\n",
        " - 메모 삭제\n",
        " - 페이지 번호 줄어든다\n",
        " - 메모장 > 제목만 은닉시킨다"
      ],
      "metadata": {
        "id": "olJKPQSxlcaE"
      }
    },
    {
      "cell_type": "code",
      "source": [
        "class Notebook:\n",
        "  def __init__(self, title, memos = [], page=0):\n",
        "    self.__title = title\n",
        "    self.memos = memos\n",
        "    self.page = page\n",
        "\n",
        "  @property\n",
        "  def title(self):\n",
        "    return self.__title\n",
        "\n",
        "  def add_note(self, note = []):\n",
        "    self.memos.extend(note)\n",
        "    self.page += len(note)\n",
        "\n",
        "  def delete_note(self, note):\n",
        "    self.memos.remove(note)\n",
        "    self.page -= 1\n",
        "\n",
        "  def get_page_num(self):\n",
        "    return self.page\n",
        "\n",
        "  def print_book(self):\n",
        "    print('메모장')\n",
        "    for p, m in enumerate(self.memos, start = 1):\n",
        "      print(m)\n",
        "      print(f'page{p}')\n",
        "    print()\n",
        "\n",
        "class Note:\n",
        "  def __init__(self, memo=[]):\n",
        "    self.memo = memo\n",
        "\n",
        "  def write(self, line):\n",
        "    self.memo.append(line)\n",
        "\n",
        "  def erase(self, line):\n",
        "    self.memo.remove(line)\n",
        "\n",
        "  def print_memo(self):\n",
        "    print('메모')\n",
        "    for p, m in enumerate(self.memo, start = 1):\n",
        "      print(m)\n",
        "      print(f'page{p}')\n",
        "    print()"
      ],
      "metadata": {
        "id": "GNtzzedplRfV"
      },
      "execution_count": 90,
      "outputs": []
    },
    {
      "cell_type": "code",
      "source": [
        "line1 = '우리 모두 스스로가 원하는 리더가 됩시다.'\n",
        "line2 = '모두가 함께 앞으로 나아가면 성공은 저절로 따라옵니다.'\n",
        "line3 = '혼자서는 작은 한 방울이지만 함께 모이면 바다를 이룹니다.'\n"
      ],
      "metadata": {
        "id": "waDsakgZoW3B"
      },
      "execution_count": 75,
      "outputs": []
    },
    {
      "cell_type": "code",
      "source": [
        "my_note = Note()\n",
        "#메모 추가\n",
        "my_note.write(line1)\n",
        "my_note.write(line2)\n",
        "my_note.write(line3)\n",
        "my_note.print_memo()\n",
        "\n",
        "#메모 삭제\n",
        "my_note.erase(line1)\n",
        "my_note.print_memo()\n",
        "\n",
        "#메모장에 메모 추가\n",
        "my_book = Notebook('Title')\n",
        "my_book.add_note(my_note.memo)\n",
        "my_book.print_book()\n",
        "\n",
        "#메모장 메모 삭제\n",
        "my_book.delete_note(line2)\n",
        "my_book.print_book()\n",
        "\n",
        "#페이지번호 확인\n",
        "my_book.get_page_num()\n",
        "\n"
      ],
      "metadata": {
        "colab": {
          "base_uri": "https://localhost:8080/"
        },
        "id": "JgItg5AkqVfo",
        "outputId": "557b20fe-cb22-4b5f-940c-d60effc400f5"
      },
      "execution_count": 91,
      "outputs": [
        {
          "output_type": "stream",
          "name": "stdout",
          "text": [
            "메모\n",
            "우리 모두 스스로가 원하는 리더가 됩시다.\n",
            "page1\n",
            "모두가 함께 앞으로 나아가면 성공은 저절로 따라옵니다.\n",
            "page2\n",
            "혼자서는 작은 한 방울이지만 함께 모이면 바다를 이룹니다.\n",
            "page3\n",
            "\n",
            "메모\n",
            "모두가 함께 앞으로 나아가면 성공은 저절로 따라옵니다.\n",
            "page1\n",
            "혼자서는 작은 한 방울이지만 함께 모이면 바다를 이룹니다.\n",
            "page2\n",
            "\n",
            "메모장\n",
            "모두가 함께 앞으로 나아가면 성공은 저절로 따라옵니다.\n",
            "page1\n",
            "혼자서는 작은 한 방울이지만 함께 모이면 바다를 이룹니다.\n",
            "page2\n",
            "\n",
            "메모장\n",
            "혼자서는 작은 한 방울이지만 함께 모이면 바다를 이룹니다.\n",
            "page1\n",
            "\n"
          ]
        },
        {
          "output_type": "execute_result",
          "data": {
            "text/plain": [
              "1"
            ]
          },
          "metadata": {},
          "execution_count": 91
        }
      ]
    }
  ]
}