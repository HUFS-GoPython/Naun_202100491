{
  "nbformat": 4,
  "nbformat_minor": 0,
  "metadata": {
    "colab": {
      "name": "week2",
      "provenance": [],
      "collapsed_sections": []
    },
    "kernelspec": {
      "name": "python3",
      "display_name": "Python 3"
    },
    "language_info": {
      "name": "python"
    }
  },
  "cells": [
    {
      "cell_type": "markdown",
      "source": [
        "## Ch02. Variable\n",
        "- string\n",
        "- float\n",
        "- integer\n",
        "- boolean"
      ],
      "metadata": {
        "id": "LmfK-zRN9akL"
      }
    },
    {
      "cell_type": "code",
      "source": [
        "# 여러 이름 동시에 할당\n",
        "two = deux = dos = 2 # dos -> duex -> two"
      ],
      "metadata": {
        "id": "nK_74lco9dzG"
      },
      "execution_count": 30,
      "outputs": []
    },
    {
      "cell_type": "code",
      "source": [
        "two"
      ],
      "metadata": {
        "colab": {
          "base_uri": "https://localhost:8080/"
        },
        "id": "B0Yky8n29v02",
        "outputId": "cecc1136-bc44-4c8a-99d9-97b5490fb79a"
      },
      "execution_count": 31,
      "outputs": [
        {
          "output_type": "execute_result",
          "data": {
            "text/plain": [
              "2"
            ]
          },
          "metadata": {},
          "execution_count": 31
        }
      ]
    },
    {
      "cell_type": "code",
      "source": [
        "deux"
      ],
      "metadata": {
        "colab": {
          "base_uri": "https://localhost:8080/"
        },
        "id": "f5MVqTLK8-fy",
        "outputId": "526b2105-2db9-4dad-8787-daf3950b4596"
      },
      "execution_count": 32,
      "outputs": [
        {
          "output_type": "execute_result",
          "data": {
            "text/plain": [
              "2"
            ]
          },
          "metadata": {},
          "execution_count": 32
        }
      ]
    },
    {
      "cell_type": "code",
      "source": [
        "id(deux)"
      ],
      "metadata": {
        "colab": {
          "base_uri": "https://localhost:8080/"
        },
        "id": "BzhkOwco_zVJ",
        "outputId": "45b9154e-40b0-4245-ca64-177e236ddd30"
      },
      "execution_count": 99,
      "outputs": [
        {
          "output_type": "execute_result",
          "data": {
            "text/plain": [
              "93994793425440"
            ]
          },
          "metadata": {},
          "execution_count": 99
        }
      ]
    },
    {
      "cell_type": "code",
      "source": [
        "two = 4\n",
        "print(two, deux)"
      ],
      "metadata": {
        "colab": {
          "base_uri": "https://localhost:8080/"
        },
        "id": "7KrHh9Iv9wyB",
        "outputId": "a6754e7c-0b05-4feb-abda-e50e69a7ca71"
      },
      "execution_count": 33,
      "outputs": [
        {
          "output_type": "stream",
          "name": "stdout",
          "text": [
            "4 2\n"
          ]
        }
      ]
    },
    {
      "cell_type": "code",
      "source": [
        "#불변객체이므로 다 바뀌지는 않음"
      ],
      "metadata": {
        "id": "s_9tsj9a97Zb"
      },
      "execution_count": 34,
      "outputs": []
    },
    {
      "cell_type": "code",
      "source": [
        "id(two) , id(deux) #id: 컴퓨터상에 위치하는 공간의 메모리 주소를 찾는 함수"
      ],
      "metadata": {
        "colab": {
          "base_uri": "https://localhost:8080/"
        },
        "id": "ss5QI29N-A29",
        "outputId": "d73fe263-d290-4c09-857e-3e4f3b94cb01"
      },
      "execution_count": 35,
      "outputs": [
        {
          "output_type": "execute_result",
          "data": {
            "text/plain": [
              "(93994793425504, 93994793425440)"
            ]
          },
          "metadata": {},
          "execution_count": 35
        }
      ]
    },
    {
      "cell_type": "code",
      "source": [
        "p = [1, 2, 3]\n",
        "q = p\n",
        "p, q\n"
      ],
      "metadata": {
        "colab": {
          "base_uri": "https://localhost:8080/"
        },
        "id": "5ULQ5i7C-Esh",
        "outputId": "a152dd23-5986-4eaa-d699-2f9d3fc23e8c"
      },
      "execution_count": 36,
      "outputs": [
        {
          "output_type": "execute_result",
          "data": {
            "text/plain": [
              "([1, 2, 3], [1, 2, 3])"
            ]
          },
          "metadata": {},
          "execution_count": 36
        }
      ]
    },
    {
      "cell_type": "code",
      "source": [
        "id (p), id(q)"
      ],
      "metadata": {
        "colab": {
          "base_uri": "https://localhost:8080/"
        },
        "id": "9r489Q1I-Oq-",
        "outputId": "68162cd5-76ee-43af-f247-30aa8c5a0141"
      },
      "execution_count": 37,
      "outputs": [
        {
          "output_type": "execute_result",
          "data": {
            "text/plain": [
              "(140007535703696, 140007535703696)"
            ]
          },
          "metadata": {},
          "execution_count": 37
        }
      ]
    },
    {
      "cell_type": "code",
      "source": [
        "p[0] = 9\n",
        "p, q"
      ],
      "metadata": {
        "colab": {
          "base_uri": "https://localhost:8080/"
        },
        "id": "GsSKMv2--Q_H",
        "outputId": "bc813c05-454b-4989-e332-5ccb734d2584"
      },
      "execution_count": 38,
      "outputs": [
        {
          "output_type": "execute_result",
          "data": {
            "text/plain": [
              "([9, 2, 3], [9, 2, 3])"
            ]
          },
          "metadata": {},
          "execution_count": 38
        }
      ]
    },
    {
      "cell_type": "code",
      "source": [
        "id (p), id(q)"
      ],
      "metadata": {
        "colab": {
          "base_uri": "https://localhost:8080/"
        },
        "id": "hs_nQThQ-UIa",
        "outputId": "8973d513-082d-42ec-a65e-27a90b882e8c"
      },
      "execution_count": 39,
      "outputs": [
        {
          "output_type": "execute_result",
          "data": {
            "text/plain": [
              "(140007535703696, 140007535703696)"
            ]
          },
          "metadata": {},
          "execution_count": 39
        }
      ]
    },
    {
      "cell_type": "markdown",
      "source": [
        "## 좋은 변수명\n",
        "- 간결하고 명확한 이름\n",
        "- 의미가 담겨야 함\n",
        "- 코드에는 의미가 담기고 주석에는 의도가 담긴다.\n",
        "   - 예: the number of students\n",
        "         n< the_number_of_students < num_students\n",
        "   - 카멜표기법: numStudents"
      ],
      "metadata": {
        "id": "-xxhS5Xl-bXD"
      }
    },
    {
      "cell_type": "markdown",
      "source": [
        "### 자료형 변환, 형 변환\n",
        "- str(<변환할 값>), int(), float(), bool()"
      ],
      "metadata": {
        "id": "tnJqjN1m_BYM"
      }
    },
    {
      "cell_type": "code",
      "source": [
        "a = 10\n",
        "# str\n",
        "str(a)\n",
        "\n",
        "# float\n",
        "float(a)\n",
        "\n",
        "#bool\n",
        "bool(a) #어떤 값이 False로 변환이 되는지만 보면 됨"
      ],
      "metadata": {
        "colab": {
          "base_uri": "https://localhost:8080/"
        },
        "id": "0z44PxCx_Kje",
        "outputId": "ab7b4097-6e8a-4570-a110-a3b0614cb207"
      },
      "execution_count": 40,
      "outputs": [
        {
          "output_type": "execute_result",
          "data": {
            "text/plain": [
              "True"
            ]
          },
          "metadata": {},
          "execution_count": 40
        }
      ]
    },
    {
      "cell_type": "markdown",
      "source": [
        "주의할 점1 : float -> int"
      ],
      "metadata": {
        "id": "hSAqwtei_fmb"
      }
    },
    {
      "cell_type": "code",
      "source": [
        "x = 10.7  # 소수점 내림으로 처리\n",
        "int(x)"
      ],
      "metadata": {
        "colab": {
          "base_uri": "https://localhost:8080/"
        },
        "id": "3z9DCDFp_jwD",
        "outputId": "2949981a-5321-41c6-d00e-eaaa1f5552f1"
      },
      "execution_count": 41,
      "outputs": [
        {
          "output_type": "execute_result",
          "data": {
            "text/plain": [
              "10"
            ]
          },
          "metadata": {},
          "execution_count": 41
        }
      ]
    },
    {
      "cell_type": "code",
      "source": [
        "y = 19.8\n",
        "print(int(x + y))\n",
        "print(int(x) + int(y))"
      ],
      "metadata": {
        "colab": {
          "base_uri": "https://localhost:8080/"
        },
        "id": "5cvTRCGX_mOw",
        "outputId": "3f351e98-578f-473e-e8cf-faeb3604ef09"
      },
      "execution_count": 42,
      "outputs": [
        {
          "output_type": "stream",
          "name": "stdout",
          "text": [
            "30\n",
            "29\n"
          ]
        }
      ]
    },
    {
      "cell_type": "markdown",
      "source": [
        "주의할 점2: str -> int/float"
      ],
      "metadata": {
        "id": "BXSI7mM8_-nB"
      }
    },
    {
      "cell_type": "code",
      "source": [
        "i = '10'\n",
        "int(i), float(i)"
      ],
      "metadata": {
        "colab": {
          "base_uri": "https://localhost:8080/"
        },
        "id": "pCAaNpNGAAOp",
        "outputId": "656c9bb2-fd83-4f2c-ce4d-699bc0acbb78"
      },
      "execution_count": 43,
      "outputs": [
        {
          "output_type": "execute_result",
          "data": {
            "text/plain": [
              "(10, 10.0)"
            ]
          },
          "metadata": {},
          "execution_count": 43
        }
      ]
    },
    {
      "cell_type": "code",
      "source": [
        "j = '10.7'\n",
        "int(j)"
      ],
      "metadata": {
        "colab": {
          "base_uri": "https://localhost:8080/",
          "height": 190
        },
        "id": "kWcsRtBQAFVj",
        "outputId": "df09bd0f-9b33-4653-cd2c-aabad1e34b92"
      },
      "execution_count": 44,
      "outputs": [
        {
          "output_type": "error",
          "ename": "ValueError",
          "evalue": "ignored",
          "traceback": [
            "\u001b[0;31m---------------------------------------------------------------------------\u001b[0m",
            "\u001b[0;31mValueError\u001b[0m                                Traceback (most recent call last)",
            "\u001b[0;32m<ipython-input-44-56c9cee1b18f>\u001b[0m in \u001b[0;36m<module>\u001b[0;34m()\u001b[0m\n\u001b[1;32m      1\u001b[0m \u001b[0mj\u001b[0m \u001b[0;34m=\u001b[0m \u001b[0;34m'10.7'\u001b[0m\u001b[0;34m\u001b[0m\u001b[0;34m\u001b[0m\u001b[0m\n\u001b[0;32m----> 2\u001b[0;31m \u001b[0mint\u001b[0m\u001b[0;34m(\u001b[0m\u001b[0mj\u001b[0m\u001b[0;34m)\u001b[0m\u001b[0;34m\u001b[0m\u001b[0;34m\u001b[0m\u001b[0m\n\u001b[0m",
            "\u001b[0;31mValueError\u001b[0m: invalid literal for int() with base 10: '10.7'"
          ]
        }
      ]
    },
    {
      "cell_type": "markdown",
      "source": [
        "###꿀팁 'print()'"
      ],
      "metadata": {
        "id": "g-TLc3rNAfFQ"
      }
    },
    {
      "cell_type": "code",
      "source": [
        "dog = 'dog'\n",
        "cat = 'cat'\n",
        "lion = 'lion'\n",
        "\n",
        "print(dog + cat + lion) # space X, \\n\n",
        "print(dog, cat, lion) # space O, \\n"
      ],
      "metadata": {
        "colab": {
          "base_uri": "https://localhost:8080/"
        },
        "id": "IjmF_BeSAvQs",
        "outputId": "7c06d3e8-8e62-4a95-9e22-e33f82649666"
      },
      "execution_count": 45,
      "outputs": [
        {
          "output_type": "stream",
          "name": "stdout",
          "text": [
            "dogcatlion\n",
            "dog cat lion\n"
          ]
        }
      ]
    },
    {
      "cell_type": "code",
      "source": [
        "print(dog, cat, lion, sep='', end='\\n') #default\n",
        "print(dog, cat, lion, sep='/', end='\\n\\n' )\n",
        "print('EDL')\n"
      ],
      "metadata": {
        "colab": {
          "base_uri": "https://localhost:8080/"
        },
        "id": "6lwdIDGMA-Hs",
        "outputId": "1ae98fb1-69fc-4ed5-9415-10b9a09612a9"
      },
      "execution_count": 46,
      "outputs": [
        {
          "output_type": "stream",
          "name": "stdout",
          "text": [
            "dogcatlion\n",
            "dog/cat/lion\n",
            "\n",
            "EDL\n"
          ]
        }
      ]
    },
    {
      "cell_type": "code",
      "source": [
        "#1\n",
        "print('My favorite animal is', dog)\n",
        "#2\n",
        "print(f'My favorite animal is {dog}.')"
      ],
      "metadata": {
        "colab": {
          "base_uri": "https://localhost:8080/"
        },
        "id": "w9ImH8e5BfNN",
        "outputId": "b3345e86-1927-45b2-d846-2eefa7ba0474"
      },
      "execution_count": 47,
      "outputs": [
        {
          "output_type": "stream",
          "name": "stdout",
          "text": [
            "My favorite animal is dog\n",
            "My favorite animal is dog.\n"
          ]
        }
      ]
    },
    {
      "cell_type": "markdown",
      "source": [
        "코드가 줄이 짧을 때 ;(semicolon)을 이용해 한 줄로 쓸 수 있다."
      ],
      "metadata": {
        "id": "guvAMqZ-ByF0"
      }
    },
    {
      "cell_type": "code",
      "source": [
        "dog = 'dog' ; cat = 'cat' ; lion = 'lion'\n",
        "print(dog)"
      ],
      "metadata": {
        "colab": {
          "base_uri": "https://localhost:8080/"
        },
        "id": "-EukHkQdB3bn",
        "outputId": "b7eac063-9220-4c01-ded0-d7af56ba9d64"
      },
      "execution_count": 48,
      "outputs": [
        {
          "output_type": "stream",
          "name": "stdout",
          "text": [
            "dog\n"
          ]
        }
      ]
    },
    {
      "cell_type": "markdown",
      "source": [
        "### 'input()' 함수\n",
        "- console 에서 사용자가 입력하는 값을 받을 수 있는 함수\n",
        "- 입력 받는 값은 문자열로 인식이 된다.\n",
        "- 입력 받은 값을 변수에 담아서 사용한다. 안 그러면 사라짐\n",
        "- 숫자일 경우 형 변환 한다."
      ],
      "metadata": {
        "id": "KpMebOPWCNfz"
      }
    },
    {
      "cell_type": "code",
      "source": [
        "input('Hello?')"
      ],
      "metadata": {
        "colab": {
          "base_uri": "https://localhost:8080/",
          "height": 54
        },
        "id": "JSTKqf2qCWGd",
        "outputId": "6ca8bbf1-1435-453b-cd3f-a4be2c32687b"
      },
      "execution_count": 49,
      "outputs": [
        {
          "name": "stdout",
          "output_type": "stream",
          "text": [
            "Hello?HI\n"
          ]
        },
        {
          "output_type": "execute_result",
          "data": {
            "text/plain": [
              "'HI'"
            ],
            "application/vnd.google.colaboratory.intrinsic+json": {
              "type": "string"
            }
          },
          "metadata": {},
          "execution_count": 49
        }
      ]
    },
    {
      "cell_type": "code",
      "source": [
        "input('나이가 어떻게 되나요?')"
      ],
      "metadata": {
        "colab": {
          "base_uri": "https://localhost:8080/",
          "height": 54
        },
        "id": "GfyKjZOICYr9",
        "outputId": "d584cb12-05e3-449d-bc65-23d1889d8129"
      },
      "execution_count": 51,
      "outputs": [
        {
          "name": "stdout",
          "output_type": "stream",
          "text": [
            "나이가 어떻게 되나요?21\n"
          ]
        },
        {
          "output_type": "execute_result",
          "data": {
            "text/plain": [
              "'21'"
            ],
            "application/vnd.google.colaboratory.intrinsic+json": {
              "type": "string"
            }
          },
          "metadata": {},
          "execution_count": 51
        }
      ]
    },
    {
      "cell_type": "code",
      "source": [
        "int(input('나이가 어떻게 되나요?'))"
      ],
      "metadata": {
        "colab": {
          "base_uri": "https://localhost:8080/"
        },
        "id": "eiwMxYirCo9g",
        "outputId": "45671d3b-5adf-40ab-a7e9-53de93b042b2"
      },
      "execution_count": 52,
      "outputs": [
        {
          "name": "stdout",
          "output_type": "stream",
          "text": [
            "나이가 어떻게 되나요?21\n"
          ]
        },
        {
          "output_type": "execute_result",
          "data": {
            "text/plain": [
              "21"
            ]
          },
          "metadata": {},
          "execution_count": 52
        }
      ]
    },
    {
      "cell_type": "markdown",
      "source": [
        "변수에 할당하는 방법"
      ],
      "metadata": {
        "id": "iNQWL50IC1f_"
      }
    },
    {
      "cell_type": "code",
      "source": [
        "#1\n",
        "age = input('나이가 어떻게 되나요?')"
      ],
      "metadata": {
        "colab": {
          "base_uri": "https://localhost:8080/"
        },
        "id": "_0mZ7xnPCvWB",
        "outputId": "1091be74-08f5-440b-8790-8862107f2239"
      },
      "execution_count": 53,
      "outputs": [
        {
          "name": "stdout",
          "output_type": "stream",
          "text": [
            "나이가 어떻게 되나요?21\n"
          ]
        }
      ]
    },
    {
      "cell_type": "code",
      "source": [
        "age"
      ],
      "metadata": {
        "colab": {
          "base_uri": "https://localhost:8080/",
          "height": 35
        },
        "id": "g9LNQTleC94d",
        "outputId": "c4f18107-72cf-47e3-e2f6-e069d842b9b5"
      },
      "execution_count": 54,
      "outputs": [
        {
          "output_type": "execute_result",
          "data": {
            "text/plain": [
              "'21'"
            ],
            "application/vnd.google.colaboratory.intrinsic+json": {
              "type": "string"
            }
          },
          "metadata": {},
          "execution_count": 54
        }
      ]
    },
    {
      "cell_type": "code",
      "source": [
        "#2\n",
        "print('나이가?')\n",
        "age = input()"
      ],
      "metadata": {
        "colab": {
          "base_uri": "https://localhost:8080/"
        },
        "id": "GoW1UXPKDAoo",
        "outputId": "9ca3a76e-384d-4201-8d89-e395ceae2578"
      },
      "execution_count": 55,
      "outputs": [
        {
          "name": "stdout",
          "output_type": "stream",
          "text": [
            "나이가?\n",
            "21\n"
          ]
        }
      ]
    },
    {
      "cell_type": "code",
      "source": [
        "age"
      ],
      "metadata": {
        "colab": {
          "base_uri": "https://localhost:8080/",
          "height": 35
        },
        "id": "f4R4oWBDDGES",
        "outputId": "6538c9d6-9a4e-4f81-97e8-1e96e795a02f"
      },
      "execution_count": 56,
      "outputs": [
        {
          "output_type": "execute_result",
          "data": {
            "text/plain": [
              "'21'"
            ],
            "application/vnd.google.colaboratory.intrinsic+json": {
              "type": "string"
            }
          },
          "metadata": {},
          "execution_count": 56
        }
      ]
    },
    {
      "cell_type": "markdown",
      "source": [
        "### Quiz 1\n",
        "- 섭씨를 입력 받아서 화씨로 변환하기\n",
        "- 섭씨* 1.8 + 32 = 화씨\n"
      ],
      "metadata": {
        "id": "QPGDdxuiDRys"
      }
    },
    {
      "cell_type": "code",
      "source": [
        "cel = float(input('섭씨온도를 입력하세요: '))\n",
        "fah = cel * 1.8 + 32\n",
        "print('화씨온도:', fah)"
      ],
      "metadata": {
        "colab": {
          "base_uri": "https://localhost:8080/"
        },
        "id": "U0g0CQgoDJwm",
        "outputId": "46d647ee-7ece-4af8-f536-8e599d89e0f8"
      },
      "execution_count": 58,
      "outputs": [
        {
          "output_type": "stream",
          "name": "stdout",
          "text": [
            "섭씨온도를 입력하세요: 15\n",
            "화씨온도: 59.0\n"
          ]
        }
      ]
    },
    {
      "cell_type": "markdown",
      "source": [
        "### Quiz 2\n",
        "- 택배 정보 입력 받고, 총 합계 계산하기\n",
        "- 출력값:\n",
        "     - '==택배 정보=='\n",
        "     - 수취인 성명: <이름>\n",
        "     - 수취인 주소: <주소>\n",
        "     - 배송비: 3000원\n",
        "     - 물건 비용: <가격>원\n",
        "     - 총 합계: <가격>원\n",
        "- 물건 비용 = 무게(g) * 5\n",
        "- 합계 =  배송비 + 물건비용"
      ],
      "metadata": {
        "id": "6TbM9yc9GvoC"
      }
    },
    {
      "cell_type": "code",
      "source": [
        "print('==택배 정보==')\n",
        "name = str(input('수취인 성명: '))\n",
        "add = str(input('수취인 주소: '))\n",
        "weight = float(input('물건 무게(g): '))\n",
        "deliver_cost = 3000\n",
        "print(f'배송비: {deliver_cost}원')\n",
        "product_cost = int(weight * 5)\n",
        "print(f'물건 비용: {product_cost}원')\n",
        "total_cost = int(deliver_cost + product_cost)\n",
        "print(f'총 합계: {total_cost}원')\n",
        "\n"
      ],
      "metadata": {
        "colab": {
          "base_uri": "https://localhost:8080/"
        },
        "id": "rPS2CZFzHTNb",
        "outputId": "f488d615-f74a-4c8f-93c2-99ac483f2b72"
      },
      "execution_count": 60,
      "outputs": [
        {
          "output_type": "stream",
          "name": "stdout",
          "text": [
            "==택배 정보==\n",
            "수취인 성명: Kim\n",
            "수취인 주소: Korea\n",
            "물건 무게(g): 5000\n",
            "배송비: 3000원\n",
            "물건 비용: 25000원\n",
            "총 합계: 28000원\n"
          ]
        }
      ]
    },
    {
      "cell_type": "markdown",
      "source": [
        "### Ch03.Numbers"
      ],
      "metadata": {
        "id": "ESUex483OjGE"
      }
    },
    {
      "cell_type": "markdown",
      "source": [
        "#### boolean\n",
        "- 형 변환할 때 True, False 인지 기억해야 함\n",
        "     - '', None, 0 --> False\n",
        "- 조건식에서 많이 쓰임. 예) 만약 이 조건이 True라면, ..."
      ],
      "metadata": {
        "id": "fUSwuYD6Pmaa"
      }
    },
    {
      "cell_type": "code",
      "source": [
        "bool(1)"
      ],
      "metadata": {
        "colab": {
          "base_uri": "https://localhost:8080/"
        },
        "id": "Tk87-9JiJg3F",
        "outputId": "96af0201-9042-4a23-cf9b-bc3218621ffa"
      },
      "execution_count": 61,
      "outputs": [
        {
          "output_type": "execute_result",
          "data": {
            "text/plain": [
              "True"
            ]
          },
          "metadata": {},
          "execution_count": 61
        }
      ]
    },
    {
      "cell_type": "code",
      "source": [
        "bool('')"
      ],
      "metadata": {
        "colab": {
          "base_uri": "https://localhost:8080/"
        },
        "id": "MRFBN9a_P7l5",
        "outputId": "3fe5c1b4-36f4-408e-edb0-ff496123c959"
      },
      "execution_count": 62,
      "outputs": [
        {
          "output_type": "execute_result",
          "data": {
            "text/plain": [
              "False"
            ]
          },
          "metadata": {},
          "execution_count": 62
        }
      ]
    },
    {
      "cell_type": "markdown",
      "source": [
        "#### integer\n",
        "- 소수점 없음\n",
        "- default 양수, 음수 앞에 -를 붙인다.\n",
        "- 숫자 앞에는 0을 붙일 수 없다. 예) 05\n",
        "    - 예외적으로 0bxxx, => 다른 전수 표현법\n",
        "- 리터럴: 4\n",
        "- 공백이 많아도 무시가 된다.\n",
        "- 10,000 -> 10, 000 두개로 인식 ==> _ 사용\n",
        "    - 예) 10_000"
      ],
      "metadata": {
        "id": "ZI9jlJhoP9vY"
      }
    },
    {
      "cell_type": "code",
      "source": [
        "a = -9\n",
        "8 + a"
      ],
      "metadata": {
        "colab": {
          "base_uri": "https://localhost:8080/"
        },
        "id": "YqbmS_p2P8wQ",
        "outputId": "109574cd-08cb-4e97-9036-b3b4c5ecc6a9"
      },
      "execution_count": 63,
      "outputs": [
        {
          "output_type": "execute_result",
          "data": {
            "text/plain": [
              "-1"
            ]
          },
          "metadata": {},
          "execution_count": 63
        }
      ]
    },
    {
      "cell_type": "code",
      "source": [
        "a = 09"
      ],
      "metadata": {
        "colab": {
          "base_uri": "https://localhost:8080/",
          "height": 136
        },
        "id": "CHolcL3_QTh7",
        "outputId": "697ce18f-c4a2-4418-d1d2-bef46a0d84a9"
      },
      "execution_count": 69,
      "outputs": [
        {
          "output_type": "error",
          "ename": "SyntaxError",
          "evalue": "ignored",
          "traceback": [
            "\u001b[0;36m  File \u001b[0;32m\"<ipython-input-69-3427453aa51c>\"\u001b[0;36m, line \u001b[0;32m1\u001b[0m\n\u001b[0;31m    a = 09\u001b[0m\n\u001b[0m         ^\u001b[0m\n\u001b[0;31mSyntaxError\u001b[0m\u001b[0;31m:\u001b[0m invalid token\n"
          ]
        }
      ]
    },
    {
      "cell_type": "code",
      "source": [
        "-9 + 3        -8"
      ],
      "metadata": {
        "colab": {
          "base_uri": "https://localhost:8080/"
        },
        "id": "CZPLGG-jQUY5",
        "outputId": "708a9d6f-78d8-4f75-9de3-b2d1b4ea63e1"
      },
      "execution_count": 65,
      "outputs": [
        {
          "output_type": "execute_result",
          "data": {
            "text/plain": [
              "-14"
            ]
          },
          "metadata": {},
          "execution_count": 65
        }
      ]
    },
    {
      "cell_type": "code",
      "source": [
        "a = 10_000\n",
        "print(a)"
      ],
      "metadata": {
        "colab": {
          "base_uri": "https://localhost:8080/"
        },
        "id": "hXSKQf_DQaHV",
        "outputId": "9ba84748-dc91-4484-a56d-73d08f00cfc4"
      },
      "execution_count": 66,
      "outputs": [
        {
          "output_type": "stream",
          "name": "stdout",
          "text": [
            "10000\n"
          ]
        }
      ]
    },
    {
      "cell_type": "markdown",
      "source": [
        "#### 연산\n",
        "- 연산자| operator: +, -\n",
        "- 피연산자| operand: 4, 5\n",
        "- 수식| expression"
      ],
      "metadata": {
        "id": "BAzYdgrlQpY7"
      }
    },
    {
      "cell_type": "code",
      "source": [
        "x = 4\n",
        "y = 9 \n",
        "\n",
        "x + y\n",
        "x - y\n",
        "x * y\n",
        "x / y\n",
        "\n",
        "# 거듭제곱 exponential\n",
        "x ** y\n"
      ],
      "metadata": {
        "colab": {
          "base_uri": "https://localhost:8080/"
        },
        "id": "i3dcgSb2QodY",
        "outputId": "45b59dce-23a9-4c13-ffdb-5a198e81b1af"
      },
      "execution_count": 67,
      "outputs": [
        {
          "output_type": "execute_result",
          "data": {
            "text/plain": [
              "262144"
            ]
          },
          "metadata": {},
          "execution_count": 67
        }
      ]
    },
    {
      "cell_type": "markdown",
      "source": [
        "나눗셈에서 주의할 사항"
      ],
      "metadata": {
        "id": "dsgejK5xREHx"
      }
    },
    {
      "cell_type": "code",
      "source": [
        "#1. division by zero => 주의 (y!=0)\n",
        "#2. 몫, 나머지 \n",
        "x //y, x % y, x / y"
      ],
      "metadata": {
        "colab": {
          "base_uri": "https://localhost:8080/"
        },
        "id": "ofY2he1qRDAQ",
        "outputId": "dfce7830-ccfc-4dd0-88b5-c406fe2145c5"
      },
      "execution_count": 70,
      "outputs": [
        {
          "output_type": "execute_result",
          "data": {
            "text/plain": [
              "(0, 4, 0.4444444444444444)"
            ]
          },
          "metadata": {},
          "execution_count": 70
        }
      ]
    },
    {
      "cell_type": "code",
      "source": [
        "divmod(x, y)"
      ],
      "metadata": {
        "colab": {
          "base_uri": "https://localhost:8080/"
        },
        "id": "carm86amRQl_",
        "outputId": "2a84ca7c-4872-4c01-ed49-be1b9ac6bcb0"
      },
      "execution_count": 71,
      "outputs": [
        {
          "output_type": "execute_result",
          "data": {
            "text/plain": [
              "(0, 4)"
            ]
          },
          "metadata": {},
          "execution_count": 71
        }
      ]
    },
    {
      "cell_type": "markdown",
      "source": [
        "#### 복합 대입 연산자| compound, assignment, operator"
      ],
      "metadata": {
        "id": "salW0TAIRXDu"
      }
    },
    {
      "cell_type": "code",
      "source": [
        "a = 5\n",
        "a - 3\n",
        "print(a)"
      ],
      "metadata": {
        "colab": {
          "base_uri": "https://localhost:8080/"
        },
        "id": "y_6DRI-XRVb8",
        "outputId": "d26c1a42-17d0-4a37-b0a9-3a182425884a"
      },
      "execution_count": 72,
      "outputs": [
        {
          "output_type": "stream",
          "name": "stdout",
          "text": [
            "5\n"
          ]
        }
      ]
    },
    {
      "cell_type": "code",
      "source": [
        "a = a - 3\n",
        "#1. a - 3 계산\n",
        "#2. 임시변수 temp = a - 3\n",
        "#3. a = a - 3\n",
        "\n",
        "a -=3"
      ],
      "metadata": {
        "id": "Rz7JDdDHRg9Y"
      },
      "execution_count": 73,
      "outputs": []
    },
    {
      "cell_type": "code",
      "source": [
        "a += 3\n",
        "a -= 3\n",
        "a *= 3\n",
        "a /= 3\n"
      ],
      "metadata": {
        "id": "YJ6UErDQRxiS"
      },
      "execution_count": 74,
      "outputs": []
    },
    {
      "cell_type": "code",
      "source": [
        "u = 7 # 값 초기화할 것\n",
        "u = u + 1\n",
        "u"
      ],
      "metadata": {
        "colab": {
          "base_uri": "https://localhost:8080/"
        },
        "id": "LGYczc6jR4hT",
        "outputId": "67cc1816-27c4-40f1-faa4-cacc51ed0772"
      },
      "execution_count": 75,
      "outputs": [
        {
          "output_type": "execute_result",
          "data": {
            "text/plain": [
              "8"
            ]
          },
          "metadata": {},
          "execution_count": 75
        }
      ]
    },
    {
      "cell_type": "markdown",
      "source": [
        "### Quiz 3\n",
        "- 정수를 입력 받고 3의 배수인지 확인하세요.\n",
        "- =홀수인지 확인하세요.\n"
      ],
      "metadata": {
        "id": "pGI4-JveSEJZ"
      }
    },
    {
      "cell_type": "code",
      "source": [
        "number = int(input('정수를 입력하세요: '))\n",
        "multiple3 = number %  3 \n",
        "even = number % 2\n",
        "if multiple3 == 0:\n",
        "  print('3의배수입니다.')\n",
        "else:\n",
        "  print('3의배수가 아닙니다')\n",
        "if even == 0:\n",
        "  print('짝수')\n",
        "else:\n",
        "  print('홀수')\n"
      ],
      "metadata": {
        "colab": {
          "base_uri": "https://localhost:8080/"
        },
        "id": "UZijNpw4R6X3",
        "outputId": "045531f1-2a08-4f64-dda4-8f503b05baa1"
      },
      "execution_count": 76,
      "outputs": [
        {
          "output_type": "stream",
          "name": "stdout",
          "text": [
            "정수를 입력하세요: 7\n",
            "3의배수가 아닙니다\n",
            "홀수\n"
          ]
        }
      ]
    },
    {
      "cell_type": "code",
      "source": [
        "#다른방법\n",
        "num = int(input('정수를 입력하세요:'))\n",
        "num % 3 == 0"
      ],
      "metadata": {
        "colab": {
          "base_uri": "https://localhost:8080/"
        },
        "id": "drXqZ78uS7U-",
        "outputId": "0e263fab-c7d4-4c5c-bbde-8f7a3f8b6345"
      },
      "execution_count": 77,
      "outputs": [
        {
          "name": "stdout",
          "output_type": "stream",
          "text": [
            "정수를 입력하세요:3\n"
          ]
        },
        {
          "output_type": "execute_result",
          "data": {
            "text/plain": [
              "True"
            ]
          },
          "metadata": {},
          "execution_count": 77
        }
      ]
    },
    {
      "cell_type": "code",
      "source": [
        "num = int(input('정수를 입력하세요: '))\n",
        "num % 3 == 0"
      ],
      "metadata": {
        "colab": {
          "base_uri": "https://localhost:8080/"
        },
        "id": "usGgkxzg4w8E",
        "outputId": "3a5a8c07-abe0-4ffa-8ecb-78f9caf6c881"
      },
      "execution_count": 78,
      "outputs": [
        {
          "name": "stdout",
          "output_type": "stream",
          "text": [
            "정수를 입력하세요: 5\n"
          ]
        },
        {
          "output_type": "execute_result",
          "data": {
            "text/plain": [
              "False"
            ]
          },
          "metadata": {},
          "execution_count": 78
        }
      ]
    },
    {
      "cell_type": "code",
      "source": [
        "num % 2 == 0 "
      ],
      "metadata": {
        "colab": {
          "base_uri": "https://localhost:8080/"
        },
        "id": "VQwqMLJT4_FO",
        "outputId": "b0ece502-662c-423c-a6d9-79a26d2cb96c"
      },
      "execution_count": 79,
      "outputs": [
        {
          "output_type": "execute_result",
          "data": {
            "text/plain": [
              "False"
            ]
          },
          "metadata": {},
          "execution_count": 79
        }
      ]
    },
    {
      "cell_type": "markdown",
      "source": [
        "#### 지수 표현\n",
        "- e, E 둘다 가능\n",
        "- 앞부분은 float, int\n",
        "- 뒷부분은 int만 온다.\n",
        "   - 양수면 0 앞으로\n",
        "   - 음수면 0 뒤로(소수점)"
      ],
      "metadata": {
        "id": "1J7DhWiPUtXX"
      }
    },
    {
      "cell_type": "code",
      "source": [
        "1.0e-3 #float"
      ],
      "metadata": {
        "colab": {
          "base_uri": "https://localhost:8080/"
        },
        "id": "1ZyIpGXM5V-0",
        "outputId": "7d78e46c-d37a-4762-f2b8-f9f419edb1ba"
      },
      "execution_count": 80,
      "outputs": [
        {
          "output_type": "execute_result",
          "data": {
            "text/plain": [
              "0.001"
            ]
          },
          "metadata": {},
          "execution_count": 80
        }
      ]
    },
    {
      "cell_type": "code",
      "source": [
        "1.0e6"
      ],
      "metadata": {
        "colab": {
          "base_uri": "https://localhost:8080/"
        },
        "id": "aMLkUeBBUcaM",
        "outputId": "9044c502-1d21-4e17-e277-14be77b215d3"
      },
      "execution_count": 81,
      "outputs": [
        {
          "output_type": "execute_result",
          "data": {
            "text/plain": [
              "1000000.0"
            ]
          },
          "metadata": {},
          "execution_count": 81
        }
      ]
    },
    {
      "cell_type": "code",
      "source": [
        "# 0.000789\n",
        "7.89e-4"
      ],
      "metadata": {
        "id": "1ZQwQiNZVBXw"
      },
      "execution_count": null,
      "outputs": []
    },
    {
      "cell_type": "code",
      "source": [
        "789e-6"
      ],
      "metadata": {
        "id": "ndS-aIrh5vsr",
        "colab": {
          "base_uri": "https://localhost:8080/"
        },
        "outputId": "8ad95967-ac50-44c3-ef7b-08c827ce010f"
      },
      "execution_count": 82,
      "outputs": [
        {
          "output_type": "execute_result",
          "data": {
            "text/plain": [
              "0.000789"
            ]
          },
          "metadata": {},
          "execution_count": 82
        }
      ]
    },
    {
      "cell_type": "code",
      "source": [
        "0.0789e-2"
      ],
      "metadata": {
        "colab": {
          "base_uri": "https://localhost:8080/"
        },
        "id": "Ducmsigg6Ra9",
        "outputId": "aace2954-4db4-4830-c2f5-156460acbd0a"
      },
      "execution_count": 83,
      "outputs": [
        {
          "output_type": "execute_result",
          "data": {
            "text/plain": [
              "0.000789"
            ]
          },
          "metadata": {},
          "execution_count": 83
        }
      ]
    },
    {
      "cell_type": "markdown",
      "source": [
        "###조건문 if\n",
        "- code structure"
      ],
      "metadata": {
        "id": "88Fb-YorV3oM"
      }
    },
    {
      "cell_type": "markdown",
      "source": [
        "### 코드 짜는 \n",
        "- 주석 다는 법\n",
        "  - 설명하는 부분\n",
        "  - 목적: 의도 표현\n",
        "  - '#' hash, sharp, ...\n",
        "  - 시작된 부분부터 그 라인에 끝까지가 주석\n",
        "  - 문자열 안에 들어있는 해시는 문자열로 인식\n",
        "  - '''<주석>'''\n",
        "- 라인 유지하기\n",
        "  - 들여쓰기, 공백 4개, 탭 1개\n",
        "  - 한 줄에 최대 80자 넘지 않게\n",
        "  - 백슬래시로 끊어준다\n"
      ],
      "metadata": {
        "id": "ZGV6_wCaV9Ek"
      }
    },
    {
      "cell_type": "code",
      "source": [
        "a = 3 # 여기부터 라인 끝\n",
        "b = 2"
      ],
      "metadata": {
        "id": "vuJdPia6Vl9e"
      },
      "execution_count": 84,
      "outputs": []
    },
    {
      "cell_type": "code",
      "source": [
        "example = 'hey'\n",
        "print(example)"
      ],
      "metadata": {
        "colab": {
          "base_uri": "https://localhost:8080/"
        },
        "id": "8FHszfluWdcJ",
        "outputId": "d012a6a3-a330-46c4-81a3-b5404de2b2fb"
      },
      "execution_count": 85,
      "outputs": [
        {
          "output_type": "stream",
          "name": "stdout",
          "text": [
            "hey\n"
          ]
        }
      ]
    },
    {
      "cell_type": "code",
      "source": [
        "'''\n",
        "주석1\n",
        "주석2\n",
        "주석3\n",
        "'''"
      ],
      "metadata": {
        "colab": {
          "base_uri": "https://localhost:8080/",
          "height": 35
        },
        "id": "EVle3aJOWig1",
        "outputId": "85c2e8e4-6eef-4bc2-e0c6-db2775499b60"
      },
      "execution_count": 87,
      "outputs": [
        {
          "output_type": "execute_result",
          "data": {
            "text/plain": [
              "'\\n주석1\\n주석2\\n주석3\\n'"
            ],
            "application/vnd.google.colaboratory.intrinsic+json": {
              "type": "string"
            }
          },
          "metadata": {},
          "execution_count": 87
        }
      ]
    },
    {
      "cell_type": "code",
      "source": [
        "if...:\n",
        "  ###"
      ],
      "metadata": {
        "id": "q9Shg3XbWniL",
        "colab": {
          "base_uri": "https://localhost:8080/",
          "height": 136
        },
        "outputId": "2aad8677-cc9c-4ede-fa05-934bdab7dc22"
      },
      "execution_count": 89,
      "outputs": [
        {
          "output_type": "error",
          "ename": "SyntaxError",
          "evalue": "ignored",
          "traceback": [
            "\u001b[0;36m  File \u001b[0;32m\"<ipython-input-89-90e72436740e>\"\u001b[0;36m, line \u001b[0;32m2\u001b[0m\n\u001b[0;31m    ###\u001b[0m\n\u001b[0m       ^\u001b[0m\n\u001b[0;31mSyntaxError\u001b[0m\u001b[0;31m:\u001b[0m unexpected EOF while parsing\n"
          ]
        }
      ]
    },
    {
      "cell_type": "markdown",
      "source": [
        "- 조건 if\n",
        " if <조건식>:\n",
        "    실행할 코드"
      ],
      "metadata": {
        "id": "A1ikA4plXFV5"
      }
    },
    {
      "cell_type": "code",
      "source": [
        "#조건 if\n"
      ],
      "metadata": {
        "id": "YmXvCKxuXWPd"
      },
      "execution_count": 90,
      "outputs": []
    },
    {
      "cell_type": "code",
      "source": [
        "if 4 != 9:\n",
        "  print('Yay!')"
      ],
      "metadata": {
        "colab": {
          "base_uri": "https://localhost:8080/"
        },
        "id": "-w7nTsD5XDX4",
        "outputId": "895c8e2e-79ed-4b68-efb3-92a59240e0d9"
      },
      "execution_count": 91,
      "outputs": [
        {
          "output_type": "stream",
          "name": "stdout",
          "text": [
            "Yay!\n"
          ]
        }
      ]
    },
    {
      "cell_type": "code",
      "source": [
        "# 조건 2개\n",
        "# if <조건식1>:\n",
        "#    <실행할 코드>\n",
        "# else:\n",
        "#    <실행할 코드2>"
      ],
      "metadata": {
        "id": "LYneLIe3XTmv"
      },
      "execution_count": 92,
      "outputs": []
    },
    {
      "cell_type": "code",
      "source": [
        "if 4 == 9:\n",
        "  print('Yay!')\n",
        "else:\n",
        "  print('No!')"
      ],
      "metadata": {
        "colab": {
          "base_uri": "https://localhost:8080/"
        },
        "id": "W29L7gxFXmlp",
        "outputId": "d997f7c3-eca2-4932-b775-ddb391f8932c"
      },
      "execution_count": 93,
      "outputs": [
        {
          "output_type": "stream",
          "name": "stdout",
          "text": [
            "No!\n"
          ]
        }
      ]
    },
    {
      "cell_type": "code",
      "source": [
        "# 조건 3개 이상\n",
        "# if <조건식1>:\n",
        "#   <실행할 코드1>\n",
        "# elif < 조건식2>:\n",
        "#   <실행할 코드2>:\n",
        "# else:\n",
        "#    <실행할 코드 3>\n"
      ],
      "metadata": {
        "id": "k57OkaOxXsrB"
      },
      "execution_count": 94,
      "outputs": []
    },
    {
      "cell_type": "markdown",
      "source": [
        "###비교 연산자\n",
        "- x<y, x<=y\n",
        "- x>y, x>=y\n",
        "- x==y (값)\n",
        "- x!=y (값)\n",
        "- x is y (값,메모리주소\n",
        "- x in not y\n"
      ],
      "metadata": {
        "id": "6tvcY-QRYJ-a"
      }
    },
    {
      "cell_type": "markdown",
      "source": [
        "### Quiz1\n",
        "- 학점 부여하기\n",
        "- 학점 입력 받아서\n",
        "   - 90점 이상이면 A\n",
        "   - 80 B\n",
        "   - 70 C\n",
        "   - 그 외 D\n",
        "- 변수 설정 유의"
      ],
      "metadata": {
        "id": "iZF4Fj5xYbwn"
      }
    },
    {
      "cell_type": "code",
      "source": [
        "score = float(input('점수를 입력하세요: '))\n",
        "if score >= 90:\n",
        "  print('A')\n",
        "elif score >= 80:\n",
        "  print('B')\n",
        "elif score >= 70:\n",
        "  print('C')\n",
        "else:\n",
        "  print('D')"
      ],
      "metadata": {
        "colab": {
          "base_uri": "https://localhost:8080/"
        },
        "id": "9YsB2vWIYF9Z",
        "outputId": "ed833ee3-27d4-48e8-dd5a-e178c1fe5e5e"
      },
      "execution_count": 95,
      "outputs": [
        {
          "output_type": "stream",
          "name": "stdout",
          "text": [
            "점수를 입력하세요: 90\n",
            "A\n"
          ]
        }
      ]
    },
    {
      "cell_type": "code",
      "source": [
        "# 다른 방법\n",
        "\n",
        "score = int(input('점수를 입력하세요: '))\n",
        "if score >= 90:\n",
        "  grade = 'A'\n",
        "elif score >= 80:\n",
        "  grade = 'B'\n",
        "elif score >= 70:\n",
        "  grade = 'C'\n",
        "else:\n",
        "  grade = 'D'\n",
        "\n",
        "print(f'학점은 {grade}입니다.')"
      ],
      "metadata": {
        "id": "4OtDt4vEc_Pl",
        "colab": {
          "base_uri": "https://localhost:8080/"
        },
        "outputId": "850bb2c1-9830-45d8-f278-c7d6a898731c"
      },
      "execution_count": 96,
      "outputs": [
        {
          "output_type": "stream",
          "name": "stdout",
          "text": [
            "점수를 입력하세요: 30\n",
            "학점은 D입니다.\n"
          ]
        }
      ]
    },
    {
      "cell_type": "markdown",
      "source": [
        "### Quiz 2\n",
        "- 아이디와 비번 입력 받아서 둘다 일치하면 로그인"
      ],
      "metadata": {
        "id": "ifBW_DhmZLKx"
      }
    },
    {
      "cell_type": "code",
      "source": [
        "id_user = 'naun1103'\n",
        "password_user = 'naun202100491'\n",
        "id_put = str(input('아이디를 입력하세요: '))\n",
        "if id_user == id_put:\n",
        "  password_put = str(input('비밀번호를 입력하세요: '))\n",
        "  if password_user == password_put:\n",
        "    print('로그인 성공')\n",
        "  else:\n",
        "    print('로그인 실패')\n",
        "else:\n",
        "  print('존재하지 않는 아이디 입니다.')\n"
      ],
      "metadata": {
        "colab": {
          "base_uri": "https://localhost:8080/"
        },
        "id": "ERYeVm_AZUz4",
        "outputId": "e89649c0-1e6c-4081-9ca6-876440f86240"
      },
      "execution_count": 97,
      "outputs": [
        {
          "output_type": "stream",
          "name": "stdout",
          "text": [
            "아이디를 입력하세요: naun1103\n",
            "비밀번호를 입력하세요: naun202100491\n",
            "로그인 성공\n"
          ]
        }
      ]
    },
    {
      "cell_type": "markdown",
      "source": [
        "#### 논리 연산자\n",
        "- 여러 조건식을 비교할 때\n",
        "- 예: 10 < x < 20 (파이썬에서만 가능)\n",
        "  - x> 10 혹은 x <20\n",
        "\n",
        "'혹은'\n",
        "- and, & : 둘다 참일 때 True\n",
        "- or, | : 둘 중 하나만 참이어도 True\n",
        "- not : 참 -> False, 거짓 -> True"
      ],
      "metadata": {
        "id": "KuXlLsN5dbb0"
      }
    },
    {
      "cell_type": "markdown",
      "source": [
        "### Quiz 3\n",
        "- 결석 횟수를 받아서 점수가 80점 이상인데 결석이 2번 이상이면 F\n",
        "- 나머지는 점수대로"
      ],
      "metadata": {
        "id": "Ph3b4BE1eLj4"
      }
    },
    {
      "cell_type": "code",
      "source": [
        "score = int(input('점수를 입력하세요: '))\n",
        "absent = int(input('결석 횟수를 입력하세요: '))\n",
        "if score >= 90:\n",
        "  print('A')\n",
        "elif score >= 80 :\n",
        "  if absent >= 2:\n",
        "    print('F')\n",
        "  else:\n",
        "    print('B')\n",
        "elif score >= 70:\n",
        "  print('C')\n",
        "else:\n",
        "  print('D')"
      ],
      "metadata": {
        "colab": {
          "base_uri": "https://localhost:8080/"
        },
        "id": "mOAKtBpAZfAE",
        "outputId": "d79e7cdb-4539-4239-bf59-39fcfb218676"
      },
      "execution_count": 100,
      "outputs": [
        {
          "output_type": "stream",
          "name": "stdout",
          "text": [
            "점수를 입력하세요: 80\n",
            "결석 횟수를 입력하세요: 2\n",
            "F\n"
          ]
        }
      ]
    },
    {
      "cell_type": "code",
      "source": [
        "#다른방법\n",
        "\n",
        "score = int(input('점수를 입력하세요: '))\n",
        "absent = int(input('결석 횟수를 입력하세요: '))\n",
        "\n",
        "if score >= 90:\n",
        "  grade = 'A'\n",
        "elif score >= 80:\n",
        "  if absent >= 2:\n",
        "    grade = 'F'\n",
        "  else:\n",
        "    grade = 'B'\n",
        "elif score >= 70:\n",
        "  grade = 'C'\n",
        "else:\n",
        "  grade = 'D'\n",
        "\n",
        "print(f'학점은 {grade}입니다.')"
      ],
      "metadata": {
        "colab": {
          "base_uri": "https://localhost:8080/"
        },
        "id": "PpenTi7oAXxa",
        "outputId": "d3dac06e-4fdf-4a66-f0d2-86c4e33c6239"
      },
      "execution_count": 103,
      "outputs": [
        {
          "output_type": "stream",
          "name": "stdout",
          "text": [
            "점수를 입력하세요: 85\n",
            "결석 횟수를 입력하세요: 2\n",
            "학점은 F입니다.\n"
          ]
        }
      ]
    },
    {
      "cell_type": "markdown",
      "source": [
        "\n",
        "\n",
        "---\n",
        "###복습\n",
        "\n"
      ],
      "metadata": {
        "id": "mRLAnoHbB7k8"
      }
    },
    {
      "cell_type": "code",
      "source": [
        "x = 11.9\n",
        "print(int(x))"
      ],
      "metadata": {
        "colab": {
          "base_uri": "https://localhost:8080/"
        },
        "id": "n-Y0svlTBnQG",
        "outputId": "41a1f97d-0d71-466d-f70d-22771fce5e10"
      },
      "execution_count": 105,
      "outputs": [
        {
          "output_type": "stream",
          "name": "stdout",
          "text": [
            "11\n"
          ]
        }
      ]
    },
    {
      "cell_type": "code",
      "source": [
        "y = 101.1\n",
        "print(x + y)\n",
        "print(int(x) + y)\n",
        "print(int(x + y))\n",
        "print(x + int(y))"
      ],
      "metadata": {
        "colab": {
          "base_uri": "https://localhost:8080/"
        },
        "id": "9zFhN528CHnb",
        "outputId": "dfae1a1e-98d3-4a4d-b8a2-ec98c4254fc9"
      },
      "execution_count": 106,
      "outputs": [
        {
          "output_type": "stream",
          "name": "stdout",
          "text": [
            "113.0\n",
            "112.1\n",
            "113\n",
            "112.9\n"
          ]
        }
      ]
    },
    {
      "cell_type": "code",
      "source": [
        "type(x)"
      ],
      "metadata": {
        "colab": {
          "base_uri": "https://localhost:8080/"
        },
        "id": "qr5YyxgKCXWq",
        "outputId": "ab7af59d-32b9-40fc-c3f3-43cb65232782"
      },
      "execution_count": 108,
      "outputs": [
        {
          "output_type": "execute_result",
          "data": {
            "text/plain": [
              "float"
            ]
          },
          "metadata": {},
          "execution_count": 108
        }
      ]
    },
    {
      "cell_type": "code",
      "source": [
        "type(y)"
      ],
      "metadata": {
        "colab": {
          "base_uri": "https://localhost:8080/"
        },
        "id": "eC1-I_RfCfqI",
        "outputId": "51724463-1ebc-4caf-93b0-5dfb032357fa"
      },
      "execution_count": 109,
      "outputs": [
        {
          "output_type": "execute_result",
          "data": {
            "text/plain": [
              "float"
            ]
          },
          "metadata": {},
          "execution_count": 109
        }
      ]
    },
    {
      "cell_type": "code",
      "source": [
        "int(y)"
      ],
      "metadata": {
        "colab": {
          "base_uri": "https://localhost:8080/"
        },
        "id": "WL_X36CbCiz7",
        "outputId": "57556abd-929a-4b30-805c-2915c644386b"
      },
      "execution_count": 110,
      "outputs": [
        {
          "output_type": "execute_result",
          "data": {
            "text/plain": [
              "101"
            ]
          },
          "metadata": {},
          "execution_count": 110
        }
      ]
    },
    {
      "cell_type": "code",
      "source": [
        "input('점수를 입력하세요: ')"
      ],
      "metadata": {
        "colab": {
          "base_uri": "https://localhost:8080/",
          "height": 54
        },
        "id": "g43xWyOrDXUD",
        "outputId": "e77f4fba-3f00-4428-e949-752c1e1ba2bc"
      },
      "execution_count": 112,
      "outputs": [
        {
          "name": "stdout",
          "output_type": "stream",
          "text": [
            "점수를 입력하세요: 90\n"
          ]
        },
        {
          "output_type": "execute_result",
          "data": {
            "text/plain": [
              "'90'"
            ],
            "application/vnd.google.colaboratory.intrinsic+json": {
              "type": "string"
            }
          },
          "metadata": {},
          "execution_count": 112
        }
      ]
    },
    {
      "cell_type": "code",
      "source": [
        "int(input('점수를 입력하세요: '))"
      ],
      "metadata": {
        "colab": {
          "base_uri": "https://localhost:8080/"
        },
        "id": "5KqoaAHXDwNp",
        "outputId": "1b14c833-bda6-46d4-824f-57d84c99a20e"
      },
      "execution_count": 113,
      "outputs": [
        {
          "name": "stdout",
          "output_type": "stream",
          "text": [
            "점수를 입력하세요: 90\n"
          ]
        },
        {
          "output_type": "execute_result",
          "data": {
            "text/plain": [
              "90"
            ]
          },
          "metadata": {},
          "execution_count": 113
        }
      ]
    },
    {
      "cell_type": "code",
      "source": [
        "score = int(input('점수를 입력하세요: '))"
      ],
      "metadata": {
        "colab": {
          "base_uri": "https://localhost:8080/"
        },
        "id": "trCyn-pQD1Hp",
        "outputId": "42a69961-b0d5-4d0b-b893-3fd762d11270"
      },
      "execution_count": 114,
      "outputs": [
        {
          "name": "stdout",
          "output_type": "stream",
          "text": [
            "점수를 입력하세요: 90\n"
          ]
        }
      ]
    },
    {
      "cell_type": "code",
      "source": [
        "bool(1)"
      ],
      "metadata": {
        "colab": {
          "base_uri": "https://localhost:8080/"
        },
        "id": "VbnwwqP0ECfN",
        "outputId": "ee761f15-e544-4e86-d7d2-8885a0a4ddbf"
      },
      "execution_count": 115,
      "outputs": [
        {
          "output_type": "execute_result",
          "data": {
            "text/plain": [
              "True"
            ]
          },
          "metadata": {},
          "execution_count": 115
        }
      ]
    },
    {
      "cell_type": "code",
      "source": [
        "bool(0)"
      ],
      "metadata": {
        "colab": {
          "base_uri": "https://localhost:8080/"
        },
        "id": "eb2-4UdZEHgq",
        "outputId": "7a197c7d-7bf7-451c-9136-6c3c2f71cf05"
      },
      "execution_count": 117,
      "outputs": [
        {
          "output_type": "execute_result",
          "data": {
            "text/plain": [
              "False"
            ]
          },
          "metadata": {},
          "execution_count": 117
        }
      ]
    },
    {
      "cell_type": "code",
      "source": [
        "bool(None)"
      ],
      "metadata": {
        "colab": {
          "base_uri": "https://localhost:8080/"
        },
        "id": "xXuj3YRVEJKb",
        "outputId": "19115931-c41d-4080-c2c9-4800a703fe36"
      },
      "execution_count": 118,
      "outputs": [
        {
          "output_type": "execute_result",
          "data": {
            "text/plain": [
              "False"
            ]
          },
          "metadata": {},
          "execution_count": 118
        }
      ]
    },
    {
      "cell_type": "code",
      "source": [
        "bool(' ')"
      ],
      "metadata": {
        "colab": {
          "base_uri": "https://localhost:8080/"
        },
        "id": "cXG0j5o1EOR3",
        "outputId": "bd0a207e-1788-4ad0-8fce-e99d4cfe77c5"
      },
      "execution_count": 120,
      "outputs": [
        {
          "output_type": "execute_result",
          "data": {
            "text/plain": [
              "True"
            ]
          },
          "metadata": {},
          "execution_count": 120
        }
      ]
    },
    {
      "cell_type": "code",
      "source": [
        "bool('')"
      ],
      "metadata": {
        "colab": {
          "base_uri": "https://localhost:8080/"
        },
        "id": "vRO32oxYEPYm",
        "outputId": "2e8049a5-695f-4a6b-fabf-cd2283181f29"
      },
      "execution_count": 121,
      "outputs": [
        {
          "output_type": "execute_result",
          "data": {
            "text/plain": [
              "False"
            ]
          },
          "metadata": {},
          "execution_count": 121
        }
      ]
    },
    {
      "cell_type": "code",
      "source": [
        "a = 10\n",
        "-1 + a"
      ],
      "metadata": {
        "colab": {
          "base_uri": "https://localhost:8080/"
        },
        "id": "B20XIlUeEUZ_",
        "outputId": "5511bac4-82de-4ed5-de54-2bb1711b8597"
      },
      "execution_count": 122,
      "outputs": [
        {
          "output_type": "execute_result",
          "data": {
            "text/plain": [
              "9"
            ]
          },
          "metadata": {},
          "execution_count": 122
        }
      ]
    },
    {
      "cell_type": "code",
      "source": [
        "-9 + -6"
      ],
      "metadata": {
        "colab": {
          "base_uri": "https://localhost:8080/"
        },
        "id": "xJFemzZcEaVk",
        "outputId": "8bfd3745-61e9-4280-f8ca-0c7b1e835bac"
      },
      "execution_count": 123,
      "outputs": [
        {
          "output_type": "execute_result",
          "data": {
            "text/plain": [
              "-15"
            ]
          },
          "metadata": {},
          "execution_count": 123
        }
      ]
    },
    {
      "cell_type": "code",
      "source": [
        "-9      +      3       -     6"
      ],
      "metadata": {
        "colab": {
          "base_uri": "https://localhost:8080/"
        },
        "id": "vvpPw25YEekK",
        "outputId": "859a8ac1-00a2-4121-b0f3-f42233650a27"
      },
      "execution_count": 124,
      "outputs": [
        {
          "output_type": "execute_result",
          "data": {
            "text/plain": [
              "-12"
            ]
          },
          "metadata": {},
          "execution_count": 124
        }
      ]
    },
    {
      "cell_type": "code",
      "source": [
        "a = 20_000"
      ],
      "metadata": {
        "id": "jEGd_n85EiTO"
      },
      "execution_count": 125,
      "outputs": []
    },
    {
      "cell_type": "code",
      "source": [
        "a = 5\n",
        "\n",
        "a = a - 1"
      ],
      "metadata": {
        "id": "L1fDAQIOEn56"
      },
      "execution_count": 127,
      "outputs": []
    },
    {
      "cell_type": "code",
      "source": [
        "print(a)"
      ],
      "metadata": {
        "colab": {
          "base_uri": "https://localhost:8080/"
        },
        "id": "2Z2P2-uwE53-",
        "outputId": "11c96f3a-53a8-404e-d14e-d44f8b770e42"
      },
      "execution_count": 128,
      "outputs": [
        {
          "output_type": "stream",
          "name": "stdout",
          "text": [
            "4\n"
          ]
        }
      ]
    },
    {
      "cell_type": "code",
      "source": [
        "a = a - 3"
      ],
      "metadata": {
        "id": "EQ_-uHr1FAon"
      },
      "execution_count": 129,
      "outputs": []
    },
    {
      "cell_type": "code",
      "source": [
        "print(a)"
      ],
      "metadata": {
        "colab": {
          "base_uri": "https://localhost:8080/"
        },
        "id": "ybz6Fe3oFN7q",
        "outputId": "01cde76c-f877-4d07-c0fa-a9b74351e69c"
      },
      "execution_count": 130,
      "outputs": [
        {
          "output_type": "stream",
          "name": "stdout",
          "text": [
            "1\n"
          ]
        }
      ]
    },
    {
      "cell_type": "code",
      "source": [
        "print(a)"
      ],
      "metadata": {
        "colab": {
          "base_uri": "https://localhost:8080/"
        },
        "id": "OdXu1FVdFPXZ",
        "outputId": "13887741-35c9-4870-fdd7-3ed652f39257"
      },
      "execution_count": 131,
      "outputs": [
        {
          "output_type": "stream",
          "name": "stdout",
          "text": [
            "1\n"
          ]
        }
      ]
    },
    {
      "cell_type": "code",
      "source": [
        "a += 1"
      ],
      "metadata": {
        "id": "fJIznwamFRA-"
      },
      "execution_count": 132,
      "outputs": []
    },
    {
      "cell_type": "code",
      "source": [
        "print(a)"
      ],
      "metadata": {
        "colab": {
          "base_uri": "https://localhost:8080/"
        },
        "id": "5rznGLJMFTr0",
        "outputId": "0ca55244-1e47-483f-d86c-62739afaac03"
      },
      "execution_count": 133,
      "outputs": [
        {
          "output_type": "stream",
          "name": "stdout",
          "text": [
            "2\n"
          ]
        }
      ]
    },
    {
      "cell_type": "code",
      "source": [
        "a *= 3\n",
        "print(a)"
      ],
      "metadata": {
        "colab": {
          "base_uri": "https://localhost:8080/"
        },
        "id": "x0zaarUqFVHn",
        "outputId": "3bffc34b-5135-49c0-96ae-7011dfdbe453"
      },
      "execution_count": 134,
      "outputs": [
        {
          "output_type": "stream",
          "name": "stdout",
          "text": [
            "6\n"
          ]
        }
      ]
    },
    {
      "cell_type": "code",
      "source": [
        "b = 7\n",
        "b += 1\n",
        "print(b)"
      ],
      "metadata": {
        "colab": {
          "base_uri": "https://localhost:8080/"
        },
        "id": "tSvrNdNBFYKw",
        "outputId": "11109b0b-c837-42a6-dac1-6430522b0eb3"
      },
      "execution_count": 135,
      "outputs": [
        {
          "output_type": "stream",
          "name": "stdout",
          "text": [
            "8\n"
          ]
        }
      ]
    },
    {
      "cell_type": "code",
      "source": [
        "c = 5\n",
        "c -= 3\n",
        "print(c)"
      ],
      "metadata": {
        "colab": {
          "base_uri": "https://localhost:8080/"
        },
        "id": "r0BzUZpsFyzH",
        "outputId": "91c62169-d20d-4795-b208-b7f077c5c2f1"
      },
      "execution_count": 136,
      "outputs": [
        {
          "output_type": "stream",
          "name": "stdout",
          "text": [
            "2\n"
          ]
        }
      ]
    },
    {
      "cell_type": "code",
      "source": [
        "1.0e-4"
      ],
      "metadata": {
        "colab": {
          "base_uri": "https://localhost:8080/"
        },
        "id": "8u2Yvf1FF40Y",
        "outputId": "9ef2b32d-9bb6-4963-8a7a-3cce46e6b06b"
      },
      "execution_count": 137,
      "outputs": [
        {
          "output_type": "execute_result",
          "data": {
            "text/plain": [
              "0.0001"
            ]
          },
          "metadata": {},
          "execution_count": 137
        }
      ]
    },
    {
      "cell_type": "code",
      "source": [
        "178e-7"
      ],
      "metadata": {
        "colab": {
          "base_uri": "https://localhost:8080/"
        },
        "id": "ycnCaByvGB1U",
        "outputId": "5d4c16fa-27d2-48b0-be33-4efcc5002272"
      },
      "execution_count": 138,
      "outputs": [
        {
          "output_type": "execute_result",
          "data": {
            "text/plain": [
              "1.78e-05"
            ]
          },
          "metadata": {},
          "execution_count": 138
        }
      ]
    },
    {
      "cell_type": "code",
      "source": [
        "178e-3"
      ],
      "metadata": {
        "colab": {
          "base_uri": "https://localhost:8080/"
        },
        "id": "Z21VVgoaGFga",
        "outputId": "99a2f7b2-d9a9-4736-bd04-5eedf4188e0b"
      },
      "execution_count": 139,
      "outputs": [
        {
          "output_type": "execute_result",
          "data": {
            "text/plain": [
              "0.178"
            ]
          },
          "metadata": {},
          "execution_count": 139
        }
      ]
    },
    {
      "cell_type": "code",
      "source": [
        "178e-2"
      ],
      "metadata": {
        "colab": {
          "base_uri": "https://localhost:8080/"
        },
        "id": "_LINOs6ZGJcb",
        "outputId": "afa8745c-37e2-48ed-8b52-961f450343c3"
      },
      "execution_count": 141,
      "outputs": [
        {
          "output_type": "execute_result",
          "data": {
            "text/plain": [
              "1.78"
            ]
          },
          "metadata": {},
          "execution_count": 141
        }
      ]
    },
    {
      "cell_type": "code",
      "source": [
        "num = int(input('숫자를 입력하세요: '))\n",
        "\n",
        "if num == 9:\n",
        "  print('Hello')\n",
        "else:\n",
        "  print('Bye')"
      ],
      "metadata": {
        "colab": {
          "base_uri": "https://localhost:8080/"
        },
        "id": "6CsLRingGN4G",
        "outputId": "b48f36fb-2d07-49ca-c18e-0de752d0080f"
      },
      "execution_count": 142,
      "outputs": [
        {
          "output_type": "stream",
          "name": "stdout",
          "text": [
            "숫자를 입력하세요: 9\n",
            "Hello\n"
          ]
        }
      ]
    },
    {
      "cell_type": "code",
      "source": [
        "num2 = int(input('숫자를 입력하세요: '))\n",
        "\n",
        "if num2 != 2:\n",
        "  print('Wrong')\n",
        "else:\n",
        "  print('Correct')"
      ],
      "metadata": {
        "colab": {
          "base_uri": "https://localhost:8080/"
        },
        "id": "qvNSKa_DGy3O",
        "outputId": "8d5527ec-ef8b-45bc-b413-66617284e7bb"
      },
      "execution_count": 143,
      "outputs": [
        {
          "output_type": "stream",
          "name": "stdout",
          "text": [
            "숫자를 입력하세요: 2\n",
            "Correct\n"
          ]
        }
      ]
    },
    {
      "cell_type": "code",
      "source": [
        ""
      ],
      "metadata": {
        "id": "ERftq6I-HJJQ"
      },
      "execution_count": null,
      "outputs": []
    }
  ]
}