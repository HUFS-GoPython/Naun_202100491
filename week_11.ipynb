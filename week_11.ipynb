{
  "nbformat": 4,
  "nbformat_minor": 0,
  "metadata": {
    "colab": {
      "name": "week_11",
      "provenance": [],
      "collapsed_sections": []
    },
    "kernelspec": {
      "name": "python3",
      "display_name": "Python 3"
    },
    "language_info": {
      "name": "python"
    }
  },
  "cells": [
    {
      "cell_type": "markdown",
      "source": [
        "### 객체 II\n",
        "- 상속(inheritance)\n",
        "- 재사용할 때, A vs. B\n",
        "  - \"A의 대부분을 쓰고, 나머지를 추가, 변경하고 싶다\"\n",
        "  - 부모(A)의 모든 속성을 그대로 가져와서 쓰겠다.\n",
        "- 반복되는 부분을 가져오겠다. 물려받겠다.\n",
        "- A <- B\n",
        "  - A: '부모, 슈퍼, 베이스'\n",
        "  - B: '자식, 서브, derived'\n",
        "- 자식 클래스는 부모 클래스를 구체화한다.\n",
        "- is-a 관계: Car is-a Vehicle(포함된다)"
      ],
      "metadata": {
        "id": "pYKEXpeRrOtp"
      }
    },
    {
      "cell_type": "code",
      "source": [
        "#parent, super\n",
        "class Vehicle: \n",
        "  def __init__(self, speed):\n",
        "    self.speed = speed\n",
        "  \n",
        "  def go(self):\n",
        "    print(f'{self.speed}의 속도로 달린다.')\n",
        "\n",
        "\n",
        "#child\n",
        "class Car(Vehicle):  #child, sub\n",
        "  pass"
      ],
      "metadata": {
        "id": "rPUSNRXNruQf"
      },
      "execution_count": null,
      "outputs": []
    },
    {
      "cell_type": "code",
      "source": [
        "car = Car('20km/h')"
      ],
      "metadata": {
        "id": "ifN0rKOBsFe0"
      },
      "execution_count": null,
      "outputs": []
    },
    {
      "cell_type": "code",
      "source": [
        "car.go()"
      ],
      "metadata": {
        "colab": {
          "base_uri": "https://localhost:8080/"
        },
        "id": "_fCv2J_UsH7t",
        "outputId": "3cf9b8a6-39ca-42b6-dcd5-8bd86a41c879"
      },
      "execution_count": null,
      "outputs": [
        {
          "output_type": "stream",
          "name": "stdout",
          "text": [
            "20km/h의 속도로 달린다.\n"
          ]
        }
      ]
    },
    {
      "cell_type": "markdown",
      "source": [
        "###변수 추가, 변경"
      ],
      "metadata": {
        "id": "grDK36qesdMF"
      }
    },
    {
      "cell_type": "code",
      "source": [
        "class Car(Vehicle):  #child, sub\n",
        "  def __init__(self, speed, brand):\n",
        "    #speed == 부모\n",
        "    super().__init__(speed)\n",
        "    #brand == 자식\n",
        "    self.brand = brand  #나의 고유한 특성"
      ],
      "metadata": {
        "id": "Tg8IB9oasI0W"
      },
      "execution_count": null,
      "outputs": []
    },
    {
      "cell_type": "code",
      "source": [
        "car2 = Car('20km/h','Kia')\n",
        "car2.brand"
      ],
      "metadata": {
        "colab": {
          "base_uri": "https://localhost:8080/",
          "height": 35
        },
        "id": "ZkKvEfmzsxkJ",
        "outputId": "6402f879-75b0-4271-f8ee-9bf81f7de2b9"
      },
      "execution_count": null,
      "outputs": [
        {
          "output_type": "execute_result",
          "data": {
            "text/plain": [
              "'Kia'"
            ],
            "application/vnd.google.colaboratory.intrinsic+json": {
              "type": "string"
            }
          },
          "metadata": {},
          "execution_count": 5
        }
      ]
    },
    {
      "cell_type": "code",
      "source": [
        "car2.go()"
      ],
      "metadata": {
        "colab": {
          "base_uri": "https://localhost:8080/"
        },
        "id": "D_XryqYJyq2Q",
        "outputId": "12aedf0b-857c-4920-efc8-15dcee127561"
      },
      "execution_count": null,
      "outputs": [
        {
          "output_type": "stream",
          "name": "stdout",
          "text": [
            "20km/h의 속도로 달린다.\n"
          ]
        }
      ]
    },
    {
      "cell_type": "code",
      "source": [
        "v = Vehivle('33km/h')\n",
        "v.brand #에러\n",
        "#부모는 자식 특성 추가되지 X"
      ],
      "metadata": {
        "colab": {
          "base_uri": "https://localhost:8080/",
          "height": 209
        },
        "id": "xwg7yyLds3Vv",
        "outputId": "261ba2a8-aa7e-4d7f-9119-87738942c6bb"
      },
      "execution_count": null,
      "outputs": [
        {
          "output_type": "error",
          "ename": "NameError",
          "evalue": "ignored",
          "traceback": [
            "\u001b[0;31m---------------------------------------------------------------------------\u001b[0m",
            "\u001b[0;31mNameError\u001b[0m                                 Traceback (most recent call last)",
            "\u001b[0;32m<ipython-input-7-e20150634a79>\u001b[0m in \u001b[0;36m<module>\u001b[0;34m()\u001b[0m\n\u001b[0;32m----> 1\u001b[0;31m \u001b[0mv\u001b[0m \u001b[0;34m=\u001b[0m \u001b[0mVehivle\u001b[0m\u001b[0;34m(\u001b[0m\u001b[0;34m'33km/h'\u001b[0m\u001b[0;34m)\u001b[0m\u001b[0;34m\u001b[0m\u001b[0;34m\u001b[0m\u001b[0m\n\u001b[0m\u001b[1;32m      2\u001b[0m \u001b[0mv\u001b[0m\u001b[0;34m.\u001b[0m\u001b[0mbrand\u001b[0m \u001b[0;31m#에러\u001b[0m\u001b[0;34m\u001b[0m\u001b[0;34m\u001b[0m\u001b[0m\n\u001b[1;32m      3\u001b[0m \u001b[0;31m#부모는 자식 특성 추가되지 X\u001b[0m\u001b[0;34m\u001b[0m\u001b[0;34m\u001b[0m\u001b[0;34m\u001b[0m\u001b[0m\n",
            "\u001b[0;31mNameError\u001b[0m: name 'Vehivle' is not defined"
          ]
        }
      ]
    },
    {
      "cell_type": "markdown",
      "source": [
        "###메소드 추가, 변경\n",
        "- override 하면 부모의 메서드가 잊힌다."
      ],
      "metadata": {
        "id": "bLGY4v2WtJ8_"
      }
    },
    {
      "cell_type": "code",
      "source": [
        "class Car(Vehicle):  #child, sub\n",
        "  def __init__(self, speed, brand):\n",
        "    #speed == 부모\n",
        "    super().__init__(speed)\n",
        "    #brand == 자식\n",
        "    self.brand = brand  #나의 고유한 특성\n",
        "\n",
        "  #오버라이드(override): 재정의\n",
        "  def go(self):\n",
        "    print(f'차종 {self.brand}의 속도 {self.speed}')\n",
        "\n",
        "  #메소드 추가\n",
        "  def stop(self):\n",
        "    pass"
      ],
      "metadata": {
        "id": "vSL-3GmYtCOm"
      },
      "execution_count": null,
      "outputs": []
    },
    {
      "cell_type": "code",
      "source": [
        "car3 = Car('33km/h', 'mini')\n",
        "car3.go()"
      ],
      "metadata": {
        "colab": {
          "base_uri": "https://localhost:8080/"
        },
        "id": "sVLBeNebtk4I",
        "outputId": "2b4c659f-aab4-4b25-9243-3d509087fc1d"
      },
      "execution_count": null,
      "outputs": [
        {
          "output_type": "stream",
          "name": "stdout",
          "text": [
            "차종 mini의 속도 33km/h\n"
          ]
        }
      ]
    },
    {
      "cell_type": "code",
      "source": [
        "class Car(Vehicle):  #child, sub\n",
        "  def __init__(self, speed, brand):\n",
        "    #speed == 부모\n",
        "    super().__init__(speed)\n",
        "    #brand == 자식\n",
        "    self.brand = brand  #나의 고유한 특성\n",
        "\n",
        "  #오버라이드(override): 재정의\n",
        "  def go(self):\n",
        "    #부모의 go도 함께 가져가고 싶다면?\n",
        "    super().go()\n",
        "    print(f'차종 {self.brand}의 속도 {self.speed}')\n",
        "\n",
        "  #메소드 추가\n",
        "  def stop(self):\n",
        "    pass"
      ],
      "metadata": {
        "id": "yKRaeE_vtqJv"
      },
      "execution_count": null,
      "outputs": []
    },
    {
      "cell_type": "code",
      "source": [
        "car3 = Car('33km/h','mini')\n",
        "car3.go()"
      ],
      "metadata": {
        "colab": {
          "base_uri": "https://localhost:8080/"
        },
        "id": "4T6Qs_VBuXeN",
        "outputId": "78c2611b-3880-48d7-ac83-9d7c61ab0b92"
      },
      "execution_count": null,
      "outputs": [
        {
          "output_type": "stream",
          "name": "stdout",
          "text": [
            "33km/h의 속도로 달린다.\n",
            "차종 mini의 속도 33km/h\n"
          ]
        }
      ]
    },
    {
      "cell_type": "markdown",
      "source": [
        "###실습"
      ],
      "metadata": {
        "id": "2yY_e79mv0Hl"
      }
    },
    {
      "cell_type": "code",
      "source": [
        "class Person:\n",
        "  def __init__(self, name):\n",
        "    self.name = name #pablo\n",
        "\n",
        "\n",
        "class Doctor(Person): #Dr. pablo\n",
        "  def __init__(self, name):\n",
        "    super().__init__('Dr.' + name)\n",
        "\n",
        "\n",
        "\n",
        "class Male(Person):  #Mr. pablo\n",
        "  def __init__(self, name):\n",
        "    super().__init__('Mr.' + name)\n",
        "\n",
        "\n",
        "class Female(Person):  #Mrs.pablo\n",
        "  def __init__(self, name):\n",
        "    super().__init__('Mrs.' + name)\n"
      ],
      "metadata": {
        "id": "SgZBGQWMvvOg"
      },
      "execution_count": null,
      "outputs": []
    },
    {
      "cell_type": "code",
      "source": [
        "person = Person('pablo')"
      ],
      "metadata": {
        "id": "FLx1kfQNxYMR"
      },
      "execution_count": null,
      "outputs": []
    },
    {
      "cell_type": "code",
      "source": [
        "doctor = Doctor('pablo')"
      ],
      "metadata": {
        "id": "7KcZcvd4xhoQ"
      },
      "execution_count": null,
      "outputs": []
    },
    {
      "cell_type": "code",
      "source": [
        "doctor.name"
      ],
      "metadata": {
        "colab": {
          "base_uri": "https://localhost:8080/",
          "height": 35
        },
        "id": "p-GtqNr1zfue",
        "outputId": "e8a4ae6a-92b7-4395-bc67-e7d849c842ac"
      },
      "execution_count": null,
      "outputs": [
        {
          "output_type": "execute_result",
          "data": {
            "text/plain": [
              "'Dr.pablo'"
            ],
            "application/vnd.google.colaboratory.intrinsic+json": {
              "type": "string"
            }
          },
          "metadata": {},
          "execution_count": 22
        }
      ]
    },
    {
      "cell_type": "code",
      "source": [
        "male = Male('pablo')\n",
        "male.name"
      ],
      "metadata": {
        "colab": {
          "base_uri": "https://localhost:8080/",
          "height": 35
        },
        "id": "A91ZACZ6zfxp",
        "outputId": "6b3c85b0-7bf7-4a09-af05-8b3ed70e136d"
      },
      "execution_count": null,
      "outputs": [
        {
          "output_type": "execute_result",
          "data": {
            "text/plain": [
              "'Mr.pablo'"
            ],
            "application/vnd.google.colaboratory.intrinsic+json": {
              "type": "string"
            }
          },
          "metadata": {},
          "execution_count": 23
        }
      ]
    },
    {
      "cell_type": "code",
      "source": [
        "female = Female('pablo')\n",
        "female.name"
      ],
      "metadata": {
        "colab": {
          "base_uri": "https://localhost:8080/",
          "height": 35
        },
        "id": "3gDRGBeyzf0i",
        "outputId": "702ffb9f-1215-4608-823f-9a2334158097"
      },
      "execution_count": null,
      "outputs": [
        {
          "output_type": "execute_result",
          "data": {
            "text/plain": [
              "'Mrs.pablo'"
            ],
            "application/vnd.google.colaboratory.intrinsic+json": {
              "type": "string"
            }
          },
          "metadata": {},
          "execution_count": 28
        }
      ]
    },
    {
      "cell_type": "markdown",
      "source": [
        "###다중상속\n",
        "- method resolution order (MRO)\n",
        "- Animal <- Horse\n",
        "      <- Donkey\n",
        "              <- Mule(Donkey > Horse)\n",
        "              <- Hinny (Horse > Donkey)"
      ],
      "metadata": {
        "id": "nQNiTOaO0Fju"
      }
    },
    {
      "cell_type": "code",
      "source": [
        "class Animal:\n",
        "  def says(self):\n",
        "    return '동물이 운다'\n",
        "\n",
        "#자식\n",
        "class Horse(Animal):\n",
        "  def says(self):\n",
        "    return'히히힝'\n",
        "\n",
        "class Donkey(Animal):\n",
        "  def says(self):\n",
        "    return '히이호'\n",
        "\n",
        "#손주\n",
        "class Mule(Donkey, Horse): #가까운 부모부터 작성\n",
        "  pass\n",
        "\n",
        "class Hinny(Horse, Donkey):\n",
        "  pass"
      ],
      "metadata": {
        "id": "hK09RX7Rxwps"
      },
      "execution_count": null,
      "outputs": []
    },
    {
      "cell_type": "code",
      "source": [
        "m = Mule()\n",
        "m.says()"
      ],
      "metadata": {
        "colab": {
          "base_uri": "https://localhost:8080/",
          "height": 35
        },
        "id": "nIMpbivT05Y9",
        "outputId": "3797c896-b955-4dd8-8f85-6b190d2a9d5b"
      },
      "execution_count": null,
      "outputs": [
        {
          "output_type": "execute_result",
          "data": {
            "text/plain": [
              "'히이호'"
            ],
            "application/vnd.google.colaboratory.intrinsic+json": {
              "type": "string"
            }
          },
          "metadata": {},
          "execution_count": 30
        }
      ]
    },
    {
      "cell_type": "code",
      "source": [
        "Hinny().says()"
      ],
      "metadata": {
        "colab": {
          "base_uri": "https://localhost:8080/",
          "height": 35
        },
        "id": "E_OZ4w9Q08ne",
        "outputId": "c50e4f51-f3fb-432b-b273-28f83b291b12"
      },
      "execution_count": null,
      "outputs": [
        {
          "output_type": "execute_result",
          "data": {
            "text/plain": [
              "'히히힝'"
            ],
            "application/vnd.google.colaboratory.intrinsic+json": {
              "type": "string"
            }
          },
          "metadata": {},
          "execution_count": 31
        }
      ]
    },
    {
      "cell_type": "code",
      "source": [
        "Mule.mro()  #부모 알려줌"
      ],
      "metadata": {
        "colab": {
          "base_uri": "https://localhost:8080/"
        },
        "id": "Q7xwVRk71EaR",
        "outputId": "f935d016-5e2f-44c1-8e30-a87af9e714ba"
      },
      "execution_count": null,
      "outputs": [
        {
          "output_type": "execute_result",
          "data": {
            "text/plain": [
              "[__main__.Mule, __main__.Donkey, __main__.Horse, __main__.Animal, object]"
            ]
          },
          "metadata": {},
          "execution_count": 32
        }
      ]
    },
    {
      "cell_type": "markdown",
      "source": [
        "###다형성\n",
        "- 형태는 다르지만 기능이 같다.\n",
        "- 객체가 다른데도 같은 메서드를 가지고 있으면 같은 기능을 수행할 수 있다."
      ],
      "metadata": {
        "id": "J31zaEdt1NPh"
      }
    },
    {
      "cell_type": "code",
      "source": [
        "for animal in [Mule(), Donkey(), Animal()]:\n",
        "  print(animal.says())"
      ],
      "metadata": {
        "colab": {
          "base_uri": "https://localhost:8080/"
        },
        "id": "EAjuq9k21MiE",
        "outputId": "596dd5b4-9c92-469f-f9c6-65520481102e"
      },
      "execution_count": null,
      "outputs": [
        {
          "output_type": "stream",
          "name": "stdout",
          "text": [
            "히이호\n",
            "히이호\n",
            "동물이 운다\n"
          ]
        }
      ]
    },
    {
      "cell_type": "markdown",
      "source": [
        "### 메서드 타입\n",
        "- 인스턴스 메서드\n",
        "  - self가 1번 인자\n",
        "  - 객체 생성 -> 사용 가능\n",
        "- 클래스 메서드\n",
        "  - 객체 생성하지 않아도 사용 가능\n",
        "  - 클래스에 접근하는 메서드\n",
        "  - @classmethod\n",
        "  - 예약어: cls\n",
        "  - 함수 (cls)가 첫 인자\n",
        "  - class Person, cls == Person\n",
        "- 정적 메서드\n",
        "  - 객체 생성하지 않고 접근 가능\n",
        "  - 클래스랑 전혀 상관이 없기 때문에 접근 가능한 것\n",
        "  - 내용, 기능이 비슷해서 클래스 내에 묶어 둠\n",
        "  - 내용, 기능 상 안에 있는 게 좋을 것 같아서 있는 거\n",
        "- 추상 메서드\n",
        "  - 추상 클래스: abstract 이름만 존재하는 클래스\n",
        "  - 설계도 역할\n",
        "  - 상속하는 자식클래스 => 반드시 구현해야 하는 메소드를 정의한다.\n"
      ],
      "metadata": {
        "id": "NGkiqKlq1WzJ"
      }
    },
    {
      "cell_type": "code",
      "source": [
        "a = Mule() # 객체 생성 \n",
        "a.says() "
      ],
      "metadata": {
        "colab": {
          "base_uri": "https://localhost:8080/",
          "height": 35
        },
        "id": "Hh856-Il1I4o",
        "outputId": "213e2102-4dc4-4a62-e209-591f24fdcf2a"
      },
      "execution_count": null,
      "outputs": [
        {
          "output_type": "execute_result",
          "data": {
            "text/plain": [
              "'히이호'"
            ],
            "application/vnd.google.colaboratory.intrinsic+json": {
              "type": "string"
            }
          },
          "metadata": {},
          "execution_count": 34
        }
      ]
    },
    {
      "cell_type": "code",
      "source": [
        "Mule.says() #에러"
      ],
      "metadata": {
        "colab": {
          "base_uri": "https://localhost:8080/",
          "height": 173
        },
        "id": "AC2Jt68W1zCu",
        "outputId": "7fb46edd-19b3-48c0-ade3-43543aeb5e6e"
      },
      "execution_count": null,
      "outputs": [
        {
          "output_type": "error",
          "ename": "TypeError",
          "evalue": "ignored",
          "traceback": [
            "\u001b[0;31m---------------------------------------------------------------------------\u001b[0m",
            "\u001b[0;31mTypeError\u001b[0m                                 Traceback (most recent call last)",
            "\u001b[0;32m<ipython-input-35-abcfdc6fb969>\u001b[0m in \u001b[0;36m<module>\u001b[0;34m()\u001b[0m\n\u001b[0;32m----> 1\u001b[0;31m \u001b[0mMule\u001b[0m\u001b[0;34m.\u001b[0m\u001b[0msays\u001b[0m\u001b[0;34m(\u001b[0m\u001b[0;34m)\u001b[0m \u001b[0;31m#에러\u001b[0m\u001b[0;34m\u001b[0m\u001b[0;34m\u001b[0m\u001b[0m\n\u001b[0m",
            "\u001b[0;31mTypeError\u001b[0m: says() missing 1 required positional argument: 'self'"
          ]
        }
      ]
    },
    {
      "cell_type": "code",
      "source": [
        "class A:\n",
        "  cnt = 0\n",
        "\n",
        "  def move(self):\n",
        "    return cnt"
      ],
      "metadata": {
        "id": "uo2ODA0U15Rn"
      },
      "execution_count": null,
      "outputs": []
    },
    {
      "cell_type": "code",
      "source": [
        "A().move() #에러"
      ],
      "metadata": {
        "colab": {
          "base_uri": "https://localhost:8080/",
          "height": 264
        },
        "id": "3Gt7IEnE2JsU",
        "outputId": "8e5058f8-d149-4b9e-b45f-f464e57e67fa"
      },
      "execution_count": null,
      "outputs": [
        {
          "output_type": "error",
          "ename": "NameError",
          "evalue": "ignored",
          "traceback": [
            "\u001b[0;31m---------------------------------------------------------------------------\u001b[0m",
            "\u001b[0;31mNameError\u001b[0m                                 Traceback (most recent call last)",
            "\u001b[0;32m<ipython-input-37-41b1e0a2b314>\u001b[0m in \u001b[0;36m<module>\u001b[0;34m()\u001b[0m\n\u001b[0;32m----> 1\u001b[0;31m \u001b[0mA\u001b[0m\u001b[0;34m(\u001b[0m\u001b[0;34m)\u001b[0m\u001b[0;34m.\u001b[0m\u001b[0mmove\u001b[0m\u001b[0;34m(\u001b[0m\u001b[0;34m)\u001b[0m \u001b[0;31m#에러\u001b[0m\u001b[0;34m\u001b[0m\u001b[0;34m\u001b[0m\u001b[0m\n\u001b[0m",
            "\u001b[0;32m<ipython-input-36-9a319b370ac0>\u001b[0m in \u001b[0;36mmove\u001b[0;34m(self)\u001b[0m\n\u001b[1;32m      3\u001b[0m \u001b[0;34m\u001b[0m\u001b[0m\n\u001b[1;32m      4\u001b[0m   \u001b[0;32mdef\u001b[0m \u001b[0mmove\u001b[0m\u001b[0;34m(\u001b[0m\u001b[0mself\u001b[0m\u001b[0;34m)\u001b[0m\u001b[0;34m:\u001b[0m\u001b[0;34m\u001b[0m\u001b[0;34m\u001b[0m\u001b[0m\n\u001b[0;32m----> 5\u001b[0;31m     \u001b[0;32mreturn\u001b[0m \u001b[0mcnt\u001b[0m\u001b[0;34m\u001b[0m\u001b[0;34m\u001b[0m\u001b[0m\n\u001b[0m",
            "\u001b[0;31mNameError\u001b[0m: name 'cnt' is not defined"
          ]
        }
      ]
    },
    {
      "cell_type": "code",
      "source": [
        "class A:\n",
        "  cnt = 0\n",
        "\n",
        "  @classmethod\n",
        "  def move(cls):\n",
        "    return  cls.cnt"
      ],
      "metadata": {
        "id": "YVDYqg9g2Kwx"
      },
      "execution_count": null,
      "outputs": []
    },
    {
      "cell_type": "code",
      "source": [
        "A.move()"
      ],
      "metadata": {
        "colab": {
          "base_uri": "https://localhost:8080/"
        },
        "id": "BWwAjieh2cQi",
        "outputId": "daf678aa-74c8-4f4b-d5df-3ddf5011f5eb"
      },
      "execution_count": null,
      "outputs": [
        {
          "output_type": "execute_result",
          "data": {
            "text/plain": [
              "0"
            ]
          },
          "metadata": {},
          "execution_count": 39
        }
      ]
    },
    {
      "cell_type": "code",
      "source": [
        "A().move()"
      ],
      "metadata": {
        "colab": {
          "base_uri": "https://localhost:8080/"
        },
        "id": "LE05iBf62iQJ",
        "outputId": "a53f421b-adc8-411a-cc32-e1ccb0d1a1b5"
      },
      "execution_count": null,
      "outputs": [
        {
          "output_type": "execute_result",
          "data": {
            "text/plain": [
              "0"
            ]
          },
          "metadata": {},
          "execution_count": 40
        }
      ]
    },
    {
      "cell_type": "code",
      "source": [
        "class Person:\n",
        "  def __init__(self, name, age):\n",
        "    self.name = name\n",
        "    self.age = age\n",
        "  @classmethod\n",
        "  def tuple_object(cls, args):\n",
        "    return cls(args[0], args[1]) #Person()\n",
        "\n",
        "\n",
        "name = 'kim'\n",
        "age = 24\n",
        "#p = Person(name, age)\n",
        "\n",
        "info = name, age\n",
        "p = Person.tuple_object(info) #p객체 생성하게"
      ],
      "metadata": {
        "id": "QQJkUmSk2kYg"
      },
      "execution_count": null,
      "outputs": []
    },
    {
      "cell_type": "code",
      "source": [
        "p.name"
      ],
      "metadata": {
        "colab": {
          "base_uri": "https://localhost:8080/",
          "height": 35
        },
        "id": "6RSh-YAh29uV",
        "outputId": "d6c804fb-edb8-4a2a-d612-b29ad029c0f8"
      },
      "execution_count": null,
      "outputs": [
        {
          "output_type": "execute_result",
          "data": {
            "text/plain": [
              "'kim'"
            ],
            "application/vnd.google.colaboratory.intrinsic+json": {
              "type": "string"
            }
          },
          "metadata": {},
          "execution_count": 42
        }
      ]
    },
    {
      "cell_type": "code",
      "source": [
        "class A:\n",
        "  cnt = 0\n",
        "\n",
        "  def __init__(self):\n",
        "    A.cnt += 1\n",
        "\n",
        "  \n",
        "\n",
        "  @classmethod\n",
        "  def count(cls):\n",
        "    return f'객체 수: {cls.cnt}'\n",
        "\n",
        "\n",
        "A()\n",
        "A()\n",
        "A.count()\n"
      ],
      "metadata": {
        "colab": {
          "base_uri": "https://localhost:8080/",
          "height": 35
        },
        "id": "g0m7DnEa4L7K",
        "outputId": "d005c74d-a7f4-4c6b-8449-3e59171a5193"
      },
      "execution_count": null,
      "outputs": [
        {
          "output_type": "execute_result",
          "data": {
            "text/plain": [
              "'객체 수: 2'"
            ],
            "application/vnd.google.colaboratory.intrinsic+json": {
              "type": "string"
            }
          },
          "metadata": {},
          "execution_count": 43
        }
      ]
    },
    {
      "cell_type": "code",
      "source": [
        "class Coyote:\n",
        "  @staticmethod\n",
        "  def says(): #self 없음, 딕셔너리에 변수 저장하는 것과 비슷\n",
        "    print('hi')"
      ],
      "metadata": {
        "id": "0jYmvVOt73t7"
      },
      "execution_count": null,
      "outputs": []
    },
    {
      "cell_type": "code",
      "source": [
        "Coyote.says()"
      ],
      "metadata": {
        "colab": {
          "base_uri": "https://localhost:8080/"
        },
        "id": "YWeXdL6W8AT7",
        "outputId": "1faff49e-0da5-4669-e55f-5843572510b0"
      },
      "execution_count": null,
      "outputs": [
        {
          "output_type": "stream",
          "name": "stdout",
          "text": [
            "hi\n"
          ]
        }
      ]
    },
    {
      "cell_type": "code",
      "source": [
        "from abc import *\n",
        "\n",
        "class Vehicle(metaclass=ABCMeta):\n",
        "  #추상 클래스 설정하는 방법\n",
        "  speed = '속도'\n",
        "\n",
        "\n",
        "  @abstractmethod\n",
        "  def go(self):\n",
        "    print('탈 것이 간다.')\n",
        "'''\n",
        "  def stop(self):\n",
        "    pass'''\n",
        "\n",
        "\n",
        "class Car(Vehicle):\n",
        "  def go(self):\n",
        "    print('')"
      ],
      "metadata": {
        "id": "_vrrDNmK8B8Y"
      },
      "execution_count": null,
      "outputs": []
    },
    {
      "cell_type": "code",
      "source": [
        "Car()"
      ],
      "metadata": {
        "colab": {
          "base_uri": "https://localhost:8080/"
        },
        "id": "esR-u8_B89hb",
        "outputId": "e313ba14-2f4e-4f05-d8de-76172e23b372"
      },
      "execution_count": null,
      "outputs": [
        {
          "output_type": "execute_result",
          "data": {
            "text/plain": [
              "<__main__.Car at 0x7fa6c2e60810>"
            ]
          },
          "metadata": {},
          "execution_count": 47
        }
      ]
    },
    {
      "cell_type": "code",
      "source": [
        ""
      ],
      "metadata": {
        "id": "4sujx8-x9Dj5"
      },
      "execution_count": null,
      "outputs": []
    }
  ]
}