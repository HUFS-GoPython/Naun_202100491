{
  "nbformat": 4,
  "nbformat_minor": 0,
  "metadata": {
    "colab": {
      "name": "week_03",
      "provenance": [],
      "collapsed_sections": []
    },
    "kernelspec": {
      "name": "python3",
      "display_name": "Python 3"
    },
    "language_info": {
      "name": "python"
    }
  },
  "cells": [
    {
      "cell_type": "markdown",
      "source": [
        "## 중첩 조건문 | nested conditional\n",
        "- if 블록 언어 또 if 블록이 만들어지는 경우\n",
        "   - 예: \n",
        "        if ...\n",
        "        if....\n",
        "   - 구분은 들여쓰기로 한다.\n",
        "   - 조건이 여러 개일 경우 사용한다.\n",
        "   - 지양, 더 예쁜 방법을 찾아본다.\n",
        "\n"
      ],
      "metadata": {
        "id": "ZUU2IT26JY1_"
      }
    },
    {
      "cell_type": "code",
      "source": [
        "x= 0\n",
        "y = 4\n",
        "if x == y:\n",
        "  print('Block A')\n",
        "else:\n",
        "  if x < y:\n",
        "    print('Block B')\n",
        "  else:\n",
        "    print('Block C')"
      ],
      "metadata": {
        "colab": {
          "base_uri": "https://localhost:8080/"
        },
        "id": "50UR_WDNJvdj",
        "outputId": "ebff325c-e370-4f10-b183-37fe8781173e"
      },
      "execution_count": 1,
      "outputs": [
        {
          "output_type": "stream",
          "name": "stdout",
          "text": [
            "Block B\n"
          ]
        }
      ]
    },
    {
      "cell_type": "code",
      "source": [
        "# 다른 방법\n",
        "if x == y:\n",
        "  print('Block A')\n",
        "elif x < y:\n",
        "  print('Block B')\n",
        "else:\n",
        "  print('Block C')"
      ],
      "metadata": {
        "colab": {
          "base_uri": "https://localhost:8080/"
        },
        "id": "7pov3JWkKOGt",
        "outputId": "7082be24-9d5e-456a-d03a-479269559397"
      },
      "execution_count": 2,
      "outputs": [
        {
          "output_type": "stream",
          "name": "stdout",
          "text": [
            "Block B\n"
          ]
        }
      ]
    },
    {
      "cell_type": "code",
      "source": [
        "# 0 < x < 10\n",
        "if x > 0:\n",
        "  print('A')\n",
        "  if x < 10:\n",
        "    print('B')\n",
        "  else:\n",
        "    print('C')\n",
        "else:\n",
        "  print('D')"
      ],
      "metadata": {
        "id": "dAyn0Ox7J9KQ",
        "colab": {
          "base_uri": "https://localhost:8080/"
        },
        "outputId": "b1fabc7c-05cb-4583-bd5a-cc2f51e03376"
      },
      "execution_count": 3,
      "outputs": [
        {
          "output_type": "stream",
          "name": "stdout",
          "text": [
            "D\n"
          ]
        }
      ]
    },
    {
      "cell_type": "code",
      "source": [
        "# 방법 1\n",
        "if (x > 0) and (x < 10): #논리연산자 사용하는 방법\n",
        "  print('A')\n",
        "else:\n",
        "  print('B')\n",
        "\n",
        "# 방법 2\n",
        "if 0 < x < 10: #파이썬에서만 가능한 방법\n",
        "  print('A')\n",
        "else:\n",
        "  print('B')"
      ],
      "metadata": {
        "id": "P6ynBjhBKKnZ",
        "colab": {
          "base_uri": "https://localhost:8080/"
        },
        "outputId": "afd1de0a-b601-4c4e-83ad-3b54a62953d6"
      },
      "execution_count": 6,
      "outputs": [
        {
          "output_type": "stream",
          "name": "stdout",
          "text": [
            "B\n",
            "B\n"
          ]
        }
      ]
    },
    {
      "cell_type": "markdown",
      "source": [
        "### 논리연산자\n",
        "- 비교연산 조건을 여러 번 사용하는 경우\n",
        "  - x >0, x < 10\n",
        "- and, or, not\n",
        "  - A and B : A 그리고 B. A,B 둘다 참일 때 True(&)\n",
        "  - A or B: A 혹은 B. 둘 중 하나만 참이면 True(|)\n",
        "  - not A: A 참이면 False, 거짓이면 True(~)\n"
      ],
      "metadata": {
        "id": "uuBj_xfJKm0X"
      }
    },
    {
      "cell_type": "markdown",
      "source": [
        " ### True / False\n",
        " - A = True\n",
        "- '만약 A가 참이면,...'\n"
      ],
      "metadata": {
        "id": "KMXQ2OhbLOFy"
      }
    },
    {
      "cell_type": "code",
      "source": [
        "a = True\n",
        "\n",
        "# 이렇게 쓰면 X\n",
        "if a == True:\n",
        "  print('True')\n",
        "else:\n",
        "  print('False')"
      ],
      "metadata": {
        "id": "2zPJ8QtjKmBB",
        "colab": {
          "base_uri": "https://localhost:8080/"
        },
        "outputId": "e50c8100-c979-4f55-e343-b77603ba47ee"
      },
      "execution_count": 13,
      "outputs": [
        {
          "output_type": "stream",
          "name": "stdout",
          "text": [
            "True\n"
          ]
        }
      ]
    },
    {
      "cell_type": "code",
      "source": [
        "if a:\n",
        "  print('True')\n",
        "else:\n",
        "  print('False')"
      ],
      "metadata": {
        "colab": {
          "base_uri": "https://localhost:8080/"
        },
        "id": "WYp_SXxfPJTu",
        "outputId": "c6930c27-b7e5-47bb-9e84-07fbf7b50d61"
      },
      "execution_count": 14,
      "outputs": [
        {
          "output_type": "stream",
          "name": "stdout",
          "text": [
            "True\n"
          ]
        }
      ]
    },
    {
      "cell_type": "markdown",
      "source": [
        "### in\n",
        "- membership operator\n",
        "- 요소가 안에 포함되어 있는가 or 비슷한 조건문이 여럿일 때\n",
        "- A in B = A가 B에 포함되어 있나"
      ],
      "metadata": {
        "id": "B-SQxpnaLNyJ"
      }
    },
    {
      "cell_type": "code",
      "source": [
        "#ex1. 모음인지 아닌지 판별하라 (a, e, i, o, u)\n",
        "letter = 'k'\n",
        "#if letter == 'a' or letter == 'e' ...\n",
        "if letter in ['a','e','i','o','u']:\n",
        "  print('모음')\n",
        "else:\n",
        "  print('자음')"
      ],
      "metadata": {
        "colab": {
          "base_uri": "https://localhost:8080/"
        },
        "id": "aGHn5c9qLo3U",
        "outputId": "dda38eba-f9eb-4842-d2d2-947766606a55"
      },
      "execution_count": 15,
      "outputs": [
        {
          "output_type": "stream",
          "name": "stdout",
          "text": [
            "자음\n"
          ]
        }
      ]
    },
    {
      "cell_type": "code",
      "source": [
        "# 단어에 모음이 있는지 확인\n",
        "word = 'apple'\n",
        "\n",
        "if ['a','e','i','o','u'] in word:\n",
        "  print('yes')\n",
        "else:\n",
        "  print('no')"
      ],
      "metadata": {
        "colab": {
          "base_uri": "https://localhost:8080/",
          "height": 245
        },
        "id": "oc12UGP4MGVX",
        "outputId": "83e66ef4-69fd-44b7-b60c-158602d5dba0"
      },
      "execution_count": 16,
      "outputs": [
        {
          "output_type": "error",
          "ename": "TypeError",
          "evalue": "ignored",
          "traceback": [
            "\u001b[0;31m---------------------------------------------------------------------------\u001b[0m",
            "\u001b[0;31mTypeError\u001b[0m                                 Traceback (most recent call last)",
            "\u001b[0;32m<ipython-input-16-35a47702e194>\u001b[0m in \u001b[0;36m<module>\u001b[0;34m()\u001b[0m\n\u001b[1;32m      2\u001b[0m \u001b[0mword\u001b[0m \u001b[0;34m=\u001b[0m \u001b[0;34m'apple'\u001b[0m\u001b[0;34m\u001b[0m\u001b[0;34m\u001b[0m\u001b[0m\n\u001b[1;32m      3\u001b[0m \u001b[0;34m\u001b[0m\u001b[0m\n\u001b[0;32m----> 4\u001b[0;31m \u001b[0;32mif\u001b[0m \u001b[0;34m[\u001b[0m\u001b[0;34m'a'\u001b[0m\u001b[0;34m,\u001b[0m\u001b[0;34m'e'\u001b[0m\u001b[0;34m,\u001b[0m\u001b[0;34m'i'\u001b[0m\u001b[0;34m,\u001b[0m\u001b[0;34m'o'\u001b[0m\u001b[0;34m,\u001b[0m\u001b[0;34m'u'\u001b[0m\u001b[0;34m]\u001b[0m \u001b[0;32min\u001b[0m \u001b[0mword\u001b[0m\u001b[0;34m:\u001b[0m\u001b[0;34m\u001b[0m\u001b[0;34m\u001b[0m\u001b[0m\n\u001b[0m\u001b[1;32m      5\u001b[0m   \u001b[0mprint\u001b[0m\u001b[0;34m(\u001b[0m\u001b[0;34m'yes'\u001b[0m\u001b[0;34m)\u001b[0m\u001b[0;34m\u001b[0m\u001b[0;34m\u001b[0m\u001b[0m\n\u001b[1;32m      6\u001b[0m \u001b[0;32melse\u001b[0m\u001b[0;34m:\u001b[0m\u001b[0;34m\u001b[0m\u001b[0;34m\u001b[0m\u001b[0m\n",
            "\u001b[0;31mTypeError\u001b[0m: 'in <string>' requires string as left operand, not list"
          ]
        }
      ]
    },
    {
      "cell_type": "code",
      "source": [
        "if 'a' or 'e' or 'i' or 'o' or 'u' in word:\n",
        "  print('yes')"
      ],
      "metadata": {
        "colab": {
          "base_uri": "https://localhost:8080/"
        },
        "id": "NCtJ_4uVM20j",
        "outputId": "b1155d78-ccfc-4435-bd0d-f28a829abafb"
      },
      "execution_count": 17,
      "outputs": [
        {
          "output_type": "stream",
          "name": "stdout",
          "text": [
            "yes\n"
          ]
        }
      ]
    },
    {
      "cell_type": "markdown",
      "source": [
        "### 코끼리 연산자\n",
        "- walrus operator\n",
        "- :=\n",
        "- 할당 + 테스트 동시에 하는 기능"
      ],
      "metadata": {
        "id": "Xd6rXTuRLNS2"
      }
    },
    {
      "cell_type": "code",
      "source": [
        "tweet_limit = 200\n",
        "tweet_string = 'blah' * 50 # 4 * 50 = 200\n",
        "len(tweet_string)"
      ],
      "metadata": {
        "colab": {
          "base_uri": "https://localhost:8080/"
        },
        "id": "SboLZAVXNMmG",
        "outputId": "b761922d-733d-47e9-9d6a-b59ba6395b13"
      },
      "execution_count": 18,
      "outputs": [
        {
          "output_type": "execute_result",
          "data": {
            "text/plain": [
              "200"
            ]
          },
          "metadata": {},
          "execution_count": 18
        }
      ]
    },
    {
      "cell_type": "code",
      "source": [
        "diff = tweet_limit - len(tweet_string)\n",
        "if diff > 0:\n",
        "  print('가능하다')\n",
        "else:\n",
        "  print('불가능하다')"
      ],
      "metadata": {
        "colab": {
          "base_uri": "https://localhost:8080/"
        },
        "id": "zK2o03fkNWlE",
        "outputId": "cbed8037-736e-4a20-841e-c8bc5eca000b"
      },
      "execution_count": 19,
      "outputs": [
        {
          "output_type": "stream",
          "name": "stdout",
          "text": [
            "불가능하다\n"
          ]
        }
      ]
    },
    {
      "cell_type": "code",
      "source": [
        "if (diff := tweet_limit - len(tweet_string)) > 0:\n",
        "  print('yes')\n",
        "else:\n",
        "  print('no')"
      ],
      "metadata": {
        "colab": {
          "base_uri": "https://localhost:8080/",
          "height": 136
        },
        "id": "GfvkMs49Nq0w",
        "outputId": "c5166da6-d494-428c-95cc-1e854df66e90"
      },
      "execution_count": 20,
      "outputs": [
        {
          "output_type": "error",
          "ename": "SyntaxError",
          "evalue": "ignored",
          "traceback": [
            "\u001b[0;36m  File \u001b[0;32m\"<ipython-input-20-e76eff054cd4>\"\u001b[0;36m, line \u001b[0;32m1\u001b[0m\n\u001b[0;31m    if (diff := tweet_limit - len(tweet_string)) > 0:\u001b[0m\n\u001b[0m             ^\u001b[0m\n\u001b[0;31mSyntaxError\u001b[0m\u001b[0;31m:\u001b[0m invalid syntax\n"
          ]
        }
      ]
    },
    {
      "cell_type": "markdown",
      "source": [
        "### 퀴즈\n",
        "- 윤년을 구해봅시다.\n",
        " - 연도 입력받는다.\n",
        " - 4로 나눠지면 윤년\n",
        " - 100으로 나눠지면 안됨\n",
        " - 400으로 나눠지면 윤년\n",
        "- 출력: '()년은 윤년입니다'/'아닙니다'\n",
        "\n"
      ],
      "metadata": {
        "id": "okBrw1tROASF"
      }
    },
    {
      "cell_type": "code",
      "source": [
        "year = int(input('연도를 입력하세요: '))\n",
        "\n",
        "if year % 4 == 0:\n",
        "  if year % 400 == 0:\n",
        "    print(f'{year}년은 윤년입니다.')\n",
        "  elif year % 100 == 0:\n",
        "    print(f'{year}년은 윤년이 아닙니다.')\n",
        "  else:\n",
        "    print(f'{year}년은 윤년입니다.')\n",
        "else:\n",
        "  print(f'{year}년은 윤년이 아닙니다.')"
      ],
      "metadata": {
        "colab": {
          "base_uri": "https://localhost:8080/"
        },
        "id": "SWXS8UQIN1Md",
        "outputId": "b200cd38-fd34-49a9-b50a-5bdf6215aeca"
      },
      "execution_count": 22,
      "outputs": [
        {
          "output_type": "stream",
          "name": "stdout",
          "text": [
            "연도를 입력하세요: 2022\n",
            "2022년은 윤년이 아닙니다.\n"
          ]
        }
      ]
    },
    {
      "cell_type": "code",
      "source": [
        "#다른방법\n",
        "year = int(input('연도를 입력하세요: '))\n",
        "\n",
        "if (year % 4 == 0) and (year % 100 !=0) or (year % 400 ==0):\n",
        "  print(f'{year}년은 윤년입니다.')\n",
        "else:\n",
        "  print(f'{year}년은 윤년이 아닙니다.')\n",
        "  "
      ],
      "metadata": {
        "colab": {
          "base_uri": "https://localhost:8080/"
        },
        "id": "ioD7A1sBO6bd",
        "outputId": "838e1428-dc0e-409d-f56f-2cbd6acf5b82"
      },
      "execution_count": 23,
      "outputs": [
        {
          "output_type": "stream",
          "name": "stdout",
          "text": [
            "연도를 입력하세요: 2007\n",
            "2007년은 윤년이 아닙니다.\n"
          ]
        }
      ]
    },
    {
      "cell_type": "markdown",
      "source": [
        "## string | 문자열\n",
        "- 시스템에서 가장 작은 단위\n",
        "- 불변적인 성격을 가진다. immutable\n",
        " - 예: jack -> jeck (불가능)\n",
        "- '', \"\" 으로 선언한다.\n",
        " -예: '25.5' 이면 숫자여도 str\n",
        " - \"\"\", ''' 주석\n",
        "- 형변환은 str()\n",
        "\n",
        "### escape character | 이스케이프 문자\n",
        "- 특수한 형태의 문자열, 눈에 보이는 대로 인식되지 않는 문자\n",
        "- \\ + ch\n",
        " - 예:\\n, \\t, \\b, \\',\\\", ...\n",
        " - \\n 출력하고 싶다면 \\\\n or r''\n",
        "\n",
        "- 다른 스트링을 만드는 것이 아님. 출력의 문제\n",
        "\n"
      ],
      "metadata": {
        "id": "Co5Kce5YR63S"
      }
    },
    {
      "cell_type": "code",
      "source": [
        "sent = 'hello\\tworld'\n",
        "print(sent)"
      ],
      "metadata": {
        "colab": {
          "base_uri": "https://localhost:8080/"
        },
        "id": "Up4y79dlSuoH",
        "outputId": "a26b6dd7-b556-44ca-b2e2-9edf7463bd94"
      },
      "execution_count": 24,
      "outputs": [
        {
          "output_type": "stream",
          "name": "stdout",
          "text": [
            "hello\tworld\n"
          ]
        }
      ]
    },
    {
      "cell_type": "code",
      "source": [
        "sentence = 'hello\\tworld'\n",
        "print(sentence)"
      ],
      "metadata": {
        "colab": {
          "base_uri": "https://localhost:8080/"
        },
        "id": "7kZJy60oQirj",
        "outputId": "d1fb9d1f-6152-407b-ee04-c45abfb0d787"
      },
      "execution_count": 25,
      "outputs": [
        {
          "output_type": "stream",
          "name": "stdout",
          "text": [
            "hello\tworld\n"
          ]
        }
      ]
    },
    {
      "cell_type": "code",
      "source": [
        "'I\\'m a student'"
      ],
      "metadata": {
        "colab": {
          "base_uri": "https://localhost:8080/",
          "height": 35
        },
        "id": "uqZNDaiDS6E-",
        "outputId": "8cce8d1b-30cf-4012-de19-f6574e807290"
      },
      "execution_count": 26,
      "outputs": [
        {
          "output_type": "execute_result",
          "data": {
            "text/plain": [
              "\"I'm a student\""
            ],
            "application/vnd.google.colaboratory.intrinsic+json": {
              "type": "string"
            }
          },
          "metadata": {},
          "execution_count": 26
        }
      ]
    },
    {
      "cell_type": "code",
      "source": [
        "sent"
      ],
      "metadata": {
        "colab": {
          "base_uri": "https://localhost:8080/",
          "height": 35
        },
        "id": "PxlIYZD1TGs3",
        "outputId": "3d602bed-2d24-4739-b3e9-4c0304b95afa"
      },
      "execution_count": 27,
      "outputs": [
        {
          "output_type": "execute_result",
          "data": {
            "text/plain": [
              "'hello\\tworld'"
            ],
            "application/vnd.google.colaboratory.intrinsic+json": {
              "type": "string"
            }
          },
          "metadata": {},
          "execution_count": 27
        }
      ]
    },
    {
      "cell_type": "code",
      "source": [
        "print(sent)"
      ],
      "metadata": {
        "colab": {
          "base_uri": "https://localhost:8080/"
        },
        "id": "sBr4DcjxTSKv",
        "outputId": "0b744978-349c-458a-a5c4-3b1e3c22fca4"
      },
      "execution_count": 28,
      "outputs": [
        {
          "output_type": "stream",
          "name": "stdout",
          "text": [
            "hello\tworld\n"
          ]
        }
      ]
    },
    {
      "cell_type": "markdown",
      "source": [
        "### 연산\n",
        "- concatenatation\n",
        " -'' + '' => 공뱁 없이 결합하는 방법\n",
        "-곱하기\n",
        " -'' * 5 => 복제"
      ],
      "metadata": {
        "id": "wVP2kz2yTbii"
      }
    },
    {
      "cell_type": "code",
      "source": [
        "name = 'jack'\n",
        "name + name"
      ],
      "metadata": {
        "colab": {
          "base_uri": "https://localhost:8080/",
          "height": 35
        },
        "id": "Pe2h3f6uTYTf",
        "outputId": "89e1320d-fb2b-402c-d4c7-e514ea5e0450"
      },
      "execution_count": 29,
      "outputs": [
        {
          "output_type": "execute_result",
          "data": {
            "text/plain": [
              "'jackjack'"
            ],
            "application/vnd.google.colaboratory.intrinsic+json": {
              "type": "string"
            }
          },
          "metadata": {},
          "execution_count": 29
        }
      ]
    },
    {
      "cell_type": "code",
      "source": [
        "name * 4"
      ],
      "metadata": {
        "colab": {
          "base_uri": "https://localhost:8080/",
          "height": 35
        },
        "id": "2jae3ll9ToU7",
        "outputId": "3c122172-f0e7-49f0-d6e1-e82e71f32d75"
      },
      "execution_count": 30,
      "outputs": [
        {
          "output_type": "execute_result",
          "data": {
            "text/plain": [
              "'jackjackjackjack'"
            ],
            "application/vnd.google.colaboratory.intrinsic+json": {
              "type": "string"
            }
          },
          "metadata": {},
          "execution_count": 30
        }
      ]
    },
    {
      "cell_type": "code",
      "source": [
        "#immutable\n",
        "#error\n",
        "name[1] = 'e'"
      ],
      "metadata": {
        "colab": {
          "base_uri": "https://localhost:8080/",
          "height": 190
        },
        "id": "gtMW5GRvTsIu",
        "outputId": "59175fd6-73c2-4d5c-a9d0-993fc4d84df8"
      },
      "execution_count": 31,
      "outputs": [
        {
          "output_type": "error",
          "ename": "TypeError",
          "evalue": "ignored",
          "traceback": [
            "\u001b[0;31m---------------------------------------------------------------------------\u001b[0m",
            "\u001b[0;31mTypeError\u001b[0m                                 Traceback (most recent call last)",
            "\u001b[0;32m<ipython-input-31-ad44501c96eb>\u001b[0m in \u001b[0;36m<module>\u001b[0;34m()\u001b[0m\n\u001b[1;32m      1\u001b[0m \u001b[0;31m#immutable\u001b[0m\u001b[0;34m\u001b[0m\u001b[0;34m\u001b[0m\u001b[0;34m\u001b[0m\u001b[0m\n\u001b[0;32m----> 2\u001b[0;31m \u001b[0mname\u001b[0m\u001b[0;34m[\u001b[0m\u001b[0;36m1\u001b[0m\u001b[0;34m]\u001b[0m \u001b[0;34m=\u001b[0m \u001b[0;34m'e'\u001b[0m\u001b[0;34m\u001b[0m\u001b[0;34m\u001b[0m\u001b[0m\n\u001b[0m",
            "\u001b[0;31mTypeError\u001b[0m: 'str' object does not support item assignment"
          ]
        }
      ]
    },
    {
      "cell_type": "markdown",
      "source": [
        "### 슬라이싱: 추출\n",
        "- 문자열의 일부분을 떼어내는 작업\n",
        "- 대괄호 사용, 그 안에 오프셋(자리 주소)을 지정\n",
        "- 오프셋은 0부터 시작\n",
        " - j(0)a(1)c(2)k(3)\n",
        "- 음수도 가능, -1부터 시작\n",
        "-오프셋은 [시작:끝:스텝] 으로 이루어짐\n",
        " - step = 1\n",
        "- 시작은 포함, 끝은 포함하지 않음(이상 - 미만)"
      ],
      "metadata": {
        "id": "eJHB_DrIT0ZB"
      }
    },
    {
      "cell_type": "code",
      "source": [
        "name = 'jack'\n",
        "name[0]"
      ],
      "metadata": {
        "colab": {
          "base_uri": "https://localhost:8080/",
          "height": 35
        },
        "id": "q5uzLOOTTwD0",
        "outputId": "0db66dc8-a6e4-45c1-a28c-7a8f1580c4ca"
      },
      "execution_count": 32,
      "outputs": [
        {
          "output_type": "execute_result",
          "data": {
            "text/plain": [
              "'j'"
            ],
            "application/vnd.google.colaboratory.intrinsic+json": {
              "type": "string"
            }
          },
          "metadata": {},
          "execution_count": 32
        }
      ]
    },
    {
      "cell_type": "code",
      "source": [
        "name[-1]"
      ],
      "metadata": {
        "colab": {
          "base_uri": "https://localhost:8080/",
          "height": 35
        },
        "id": "GmFNwWgcUcEj",
        "outputId": "542f3051-bdd0-4b94-bdad-ab2f6db9a366"
      },
      "execution_count": 33,
      "outputs": [
        {
          "output_type": "execute_result",
          "data": {
            "text/plain": [
              "'k'"
            ],
            "application/vnd.google.colaboratory.intrinsic+json": {
              "type": "string"
            }
          },
          "metadata": {},
          "execution_count": 33
        }
      ]
    },
    {
      "cell_type": "code",
      "source": [
        "sent"
      ],
      "metadata": {
        "colab": {
          "base_uri": "https://localhost:8080/",
          "height": 35
        },
        "id": "842NFK57Ud-m",
        "outputId": "6a98d90a-5b23-4887-a63e-ab370599726f"
      },
      "execution_count": 34,
      "outputs": [
        {
          "output_type": "execute_result",
          "data": {
            "text/plain": [
              "'hello\\tworld'"
            ],
            "application/vnd.google.colaboratory.intrinsic+json": {
              "type": "string"
            }
          },
          "metadata": {},
          "execution_count": 34
        }
      ]
    },
    {
      "cell_type": "code",
      "source": [
        "sent[3:4]"
      ],
      "metadata": {
        "colab": {
          "base_uri": "https://localhost:8080/",
          "height": 35
        },
        "id": "7EKVce2ZUfzR",
        "outputId": "b16e970e-f754-41a3-bf5e-c48aafbb8dfb"
      },
      "execution_count": 35,
      "outputs": [
        {
          "output_type": "execute_result",
          "data": {
            "text/plain": [
              "'l'"
            ],
            "application/vnd.google.colaboratory.intrinsic+json": {
              "type": "string"
            }
          },
          "metadata": {},
          "execution_count": 35
        }
      ]
    },
    {
      "cell_type": "code",
      "source": [
        "# 처음부터 5까지 출력\n",
        "#sent[0:6]\n",
        "sent[:6]"
      ],
      "metadata": {
        "colab": {
          "base_uri": "https://localhost:8080/",
          "height": 35
        },
        "id": "SWoj_3R2Uh7f",
        "outputId": "df59d2c4-06c9-4a76-b917-5530353dbfb6"
      },
      "execution_count": 36,
      "outputs": [
        {
          "output_type": "execute_result",
          "data": {
            "text/plain": [
              "'hello\\t'"
            ],
            "application/vnd.google.colaboratory.intrinsic+json": {
              "type": "string"
            }
          },
          "metadata": {},
          "execution_count": 36
        }
      ]
    },
    {
      "cell_type": "code",
      "source": [
        "# 처음부터 끝까지 2스텝씩 출력\n",
        "sent[::2]"
      ],
      "metadata": {
        "colab": {
          "base_uri": "https://localhost:8080/",
          "height": 35
        },
        "id": "W6Aycd4PU6F3",
        "outputId": "5bdd7146-57a6-41be-a147-27b418dab6e6"
      },
      "execution_count": 37,
      "outputs": [
        {
          "output_type": "execute_result",
          "data": {
            "text/plain": [
              "'hlowrd'"
            ],
            "application/vnd.google.colaboratory.intrinsic+json": {
              "type": "string"
            }
          },
          "metadata": {},
          "execution_count": 37
        }
      ]
    },
    {
      "cell_type": "code",
      "source": [
        "len(sent)"
      ],
      "metadata": {
        "colab": {
          "base_uri": "https://localhost:8080/"
        },
        "id": "VyqB5xQLVK4O",
        "outputId": "94120eb7-f108-45ee-f5b0-1b48db562fdc"
      },
      "execution_count": 38,
      "outputs": [
        {
          "output_type": "execute_result",
          "data": {
            "text/plain": [
              "11"
            ]
          },
          "metadata": {},
          "execution_count": 38
        }
      ]
    },
    {
      "cell_type": "code",
      "source": [
        "sent[:11:2]"
      ],
      "metadata": {
        "colab": {
          "base_uri": "https://localhost:8080/",
          "height": 35
        },
        "id": "8xI6CbcbWPEr",
        "outputId": "da531029-5e0f-4a02-a8bd-6a278e30a23d"
      },
      "execution_count": 39,
      "outputs": [
        {
          "output_type": "execute_result",
          "data": {
            "text/plain": [
              "'hlowrd'"
            ],
            "application/vnd.google.colaboratory.intrinsic+json": {
              "type": "string"
            }
          },
          "metadata": {},
          "execution_count": 39
        }
      ]
    },
    {
      "cell_type": "code",
      "source": [
        "# 모든 글자를 거꾸로 출력하세요 \n",
        "sent[::-1]"
      ],
      "metadata": {
        "colab": {
          "base_uri": "https://localhost:8080/",
          "height": 35
        },
        "id": "KGCGreciWkkD",
        "outputId": "e73d428a-c2a9-4092-fbe2-b3db190e78fb"
      },
      "execution_count": 40,
      "outputs": [
        {
          "output_type": "execute_result",
          "data": {
            "text/plain": [
              "'dlrow\\tolleh'"
            ],
            "application/vnd.google.colaboratory.intrinsic+json": {
              "type": "string"
            }
          },
          "metadata": {},
          "execution_count": 40
        }
      ]
    },
    {
      "cell_type": "code",
      "source": [
        "sent[-1::]"
      ],
      "metadata": {
        "colab": {
          "base_uri": "https://localhost:8080/",
          "height": 35
        },
        "id": "RxayUIYEWr3p",
        "outputId": "0185be55-0ea9-414b-e242-1d6aad79bc04"
      },
      "execution_count": 41,
      "outputs": [
        {
          "output_type": "execute_result",
          "data": {
            "text/plain": [
              "'d'"
            ],
            "application/vnd.google.colaboratory.intrinsic+json": {
              "type": "string"
            }
          },
          "metadata": {},
          "execution_count": 41
        }
      ]
    },
    {
      "cell_type": "code",
      "source": [
        "cars = ['benz','kia','porsche']\n",
        "cars[1]"
      ],
      "metadata": {
        "colab": {
          "base_uri": "https://localhost:8080/",
          "height": 35
        },
        "id": "f5y9d_w9aE8V",
        "outputId": "2ba0e190-10c5-4175-9bdc-e5840a0134a0"
      },
      "execution_count": 42,
      "outputs": [
        {
          "output_type": "execute_result",
          "data": {
            "text/plain": [
              "'kia'"
            ],
            "application/vnd.google.colaboratory.intrinsic+json": {
              "type": "string"
            }
          },
          "metadata": {},
          "execution_count": 42
        }
      ]
    },
    {
      "cell_type": "markdown",
      "source": [
        "### NLTK"
      ],
      "metadata": {
        "id": "9qZxyCKlakfT"
      }
    },
    {
      "cell_type": "markdown",
      "source": [
        "- natural language toolkit\n",
        "- 자연어 분석을 위해 교육용으로 배포된 패키지\n",
        "- 내장함수, 기능들이 추가됨\n",
        " - 토크나이즈, 파싱, 태깅, ...\n"
      ],
      "metadata": {
        "id": "FFjfkIdGakmy"
      }
    },
    {
      "cell_type": "code",
      "source": [
        "#!pip install nltk # 설치"
      ],
      "metadata": {
        "id": "ZZNrKaENaUt0"
      },
      "execution_count": 43,
      "outputs": []
    },
    {
      "cell_type": "code",
      "source": [
        "import nltk #가져오기\n",
        "nltk.download('book',quiet = True) #부분적으로 다운받기"
      ],
      "metadata": {
        "colab": {
          "base_uri": "https://localhost:8080/"
        },
        "id": "u3TUs_1wazgQ",
        "outputId": "42c73e39-b6cc-4cad-9913-8a0d9c98a48d"
      },
      "execution_count": 44,
      "outputs": [
        {
          "output_type": "execute_result",
          "data": {
            "text/plain": [
              "True"
            ]
          },
          "metadata": {},
          "execution_count": 44
        }
      ]
    },
    {
      "cell_type": "code",
      "source": [
        "from nltk import book #가져오기\n"
      ],
      "metadata": {
        "id": "eue511nfbDdK",
        "colab": {
          "base_uri": "https://localhost:8080/"
        },
        "outputId": "9ce68447-6dd8-4054-de78-ddc58322b48d"
      },
      "execution_count": 45,
      "outputs": [
        {
          "output_type": "stream",
          "name": "stdout",
          "text": [
            "*** Introductory Examples for the NLTK Book ***\n",
            "Loading text1, ..., text9 and sent1, ..., sent9\n",
            "Type the name of the text or sentence to view it.\n",
            "Type: 'texts()' or 'sents()' to list the materials.\n",
            "text1: Moby Dick by Herman Melville 1851\n",
            "text2: Sense and Sensibility by Jane Austen 1811\n",
            "text3: The Book of Genesis\n",
            "text4: Inaugural Address Corpus\n",
            "text5: Chat Corpus\n",
            "text6: Monty Python and the Holy Grail\n",
            "text7: Wall Street Journal\n",
            "text8: Personals Corpus\n",
            "text9: The Man Who Was Thursday by G . K . Chesterton 1908\n"
          ]
        }
      ]
    },
    {
      "cell_type": "code",
      "source": [
        "book.text1"
      ],
      "metadata": {
        "colab": {
          "base_uri": "https://localhost:8080/"
        },
        "id": "-twmMbUtbQrQ",
        "outputId": "9439462a-db56-402c-d952-e5d3d90233fc"
      },
      "execution_count": 46,
      "outputs": [
        {
          "output_type": "execute_result",
          "data": {
            "text/plain": [
              "<Text: Moby Dick by Herman Melville 1851>"
            ]
          },
          "metadata": {},
          "execution_count": 46
        }
      ]
    },
    {
      "cell_type": "code",
      "source": [
        "book.text1"
      ],
      "metadata": {
        "colab": {
          "base_uri": "https://localhost:8080/"
        },
        "id": "NDWA5dwXHRgN",
        "outputId": "c9f6406e-dc98-46a2-ae8a-279a215b0931"
      },
      "execution_count": 47,
      "outputs": [
        {
          "output_type": "execute_result",
          "data": {
            "text/plain": [
              "<Text: Moby Dick by Herman Melville 1851>"
            ]
          },
          "metadata": {},
          "execution_count": 47
        }
      ]
    },
    {
      "cell_type": "code",
      "source": [
        "book.text2"
      ],
      "metadata": {
        "colab": {
          "base_uri": "https://localhost:8080/"
        },
        "id": "hIWEhVfBHUVB",
        "outputId": "5a620355-6fc6-4202-a81e-1bb490c0954a"
      },
      "execution_count": 48,
      "outputs": [
        {
          "output_type": "execute_result",
          "data": {
            "text/plain": [
              "<Text: Sense and Sensibility by Jane Austen 1811>"
            ]
          },
          "metadata": {},
          "execution_count": 48
        }
      ]
    },
    {
      "cell_type": "code",
      "source": [
        "book.text6"
      ],
      "metadata": {
        "colab": {
          "base_uri": "https://localhost:8080/"
        },
        "id": "Ije3WHDCHYne",
        "outputId": "a37d090d-66f2-4586-db35-ced53fc7234d"
      },
      "execution_count": 49,
      "outputs": [
        {
          "output_type": "execute_result",
          "data": {
            "text/plain": [
              "<Text: Monty Python and the Holy Grail>"
            ]
          },
          "metadata": {},
          "execution_count": 49
        }
      ]
    },
    {
      "cell_type": "code",
      "source": [
        "moby = book.text1\n",
        "moby.tokens[:10] #토큰에 접근하는 방법\n",
        "#토큰: 프로그래밍의 단어 단위\n",
        "#ex) I'm not a coward.\n",
        "#I'm/ I, 'm/ I, am  "
      ],
      "metadata": {
        "colab": {
          "base_uri": "https://localhost:8080/"
        },
        "id": "6DgPCiZwd3rq",
        "outputId": "be27feb7-7f67-466c-93a3-15f5fd85c63b"
      },
      "execution_count": 50,
      "outputs": [
        {
          "output_type": "execute_result",
          "data": {
            "text/plain": [
              "['[',\n",
              " 'Moby',\n",
              " 'Dick',\n",
              " 'by',\n",
              " 'Herman',\n",
              " 'Melville',\n",
              " '1851',\n",
              " ']',\n",
              " 'ETYMOLOGY',\n",
              " '.']"
            ]
          },
          "metadata": {},
          "execution_count": 50
        }
      ]
    },
    {
      "cell_type": "code",
      "source": [
        ""
      ],
      "metadata": {
        "id": "qSlPfiTIHXVq"
      },
      "execution_count": 50,
      "outputs": []
    },
    {
      "cell_type": "code",
      "source": [
        "# 1. 길이 세기\n",
        "len(moby) #26만자"
      ],
      "metadata": {
        "colab": {
          "base_uri": "https://localhost:8080/"
        },
        "id": "i4jD7jDyeHTb",
        "outputId": "bb179898-7871-4109-c05b-cfc7d7f1df80"
      },
      "execution_count": 51,
      "outputs": [
        {
          "output_type": "execute_result",
          "data": {
            "text/plain": [
              "260819"
            ]
          },
          "metadata": {},
          "execution_count": 51
        }
      ]
    },
    {
      "cell_type": "code",
      "source": [
        "# 2. 중복 없이 단어 몇 개?\n",
        "len(set(moby)) #1.9만 자 list-> set"
      ],
      "metadata": {
        "colab": {
          "base_uri": "https://localhost:8080/"
        },
        "id": "HBUIP72weXZy",
        "outputId": "b806d0eb-b7c1-4a39-9858-78b3164646a3"
      },
      "execution_count": 52,
      "outputs": [
        {
          "output_type": "execute_result",
          "data": {
            "text/plain": [
              "19317"
            ]
          },
          "metadata": {},
          "execution_count": 52
        }
      ]
    },
    {
      "cell_type": "markdown",
      "source": [
        "- list\n",
        " - ['a',1,True]\n",
        " - 순서가 있고\n",
        " - 중복 허용\n",
        " -list()\n",
        "\n",
        "- set\n",
        " -{'a',2,True}\n",
        " - 순서 없고\n",
        " - 중복 허용 안 됨\n",
        " - set()\n",
        " - 수학의 집합 개념과 동일"
      ],
      "metadata": {
        "id": "Xu5tHT-9fjUo"
      }
    },
    {
      "cell_type": "code",
      "source": [
        "cars = ['kia', 'hyundai', 'renault','benz','benz', 'kia']\n",
        "cars"
      ],
      "metadata": {
        "colab": {
          "base_uri": "https://localhost:8080/"
        },
        "id": "dCRapajwedxd",
        "outputId": "b43d033b-2df5-4f78-b0ef-5f3c983b75eb"
      },
      "execution_count": 53,
      "outputs": [
        {
          "output_type": "execute_result",
          "data": {
            "text/plain": [
              "['kia', 'hyundai', 'renault', 'benz', 'benz', 'kia']"
            ]
          },
          "metadata": {},
          "execution_count": 53
        }
      ]
    },
    {
      "cell_type": "code",
      "source": [
        "set(cars)"
      ],
      "metadata": {
        "colab": {
          "base_uri": "https://localhost:8080/"
        },
        "id": "xCrPhUHagKT8",
        "outputId": "f49e8a68-cb7b-44fe-dfbf-f485b5848698"
      },
      "execution_count": 54,
      "outputs": [
        {
          "output_type": "execute_result",
          "data": {
            "text/plain": [
              "{'benz', 'hyundai', 'kia', 'renault'}"
            ]
          },
          "metadata": {},
          "execution_count": 54
        }
      ]
    },
    {
      "cell_type": "code",
      "source": [
        "#lexical diversity\n",
        "len(set(moby)) / len(moby)"
      ],
      "metadata": {
        "colab": {
          "base_uri": "https://localhost:8080/"
        },
        "id": "ScINsFNEgLtG",
        "outputId": "6a28208e-577c-4131-c963-3cc57622e8d5"
      },
      "execution_count": 55,
      "outputs": [
        {
          "output_type": "execute_result",
          "data": {
            "text/plain": [
              "0.07406285585022564"
            ]
          },
          "metadata": {},
          "execution_count": 55
        }
      ]
    },
    {
      "cell_type": "code",
      "source": [
        "#정렬\n",
        "sorted(cars, reverse=True)"
      ],
      "metadata": {
        "colab": {
          "base_uri": "https://localhost:8080/"
        },
        "id": "I742QMBrgUyU",
        "outputId": "b1ec2e55-7c25-43fa-f477-540df6af221d"
      },
      "execution_count": 56,
      "outputs": [
        {
          "output_type": "execute_result",
          "data": {
            "text/plain": [
              "['renault', 'kia', 'kia', 'hyundai', 'benz', 'benz']"
            ]
          },
          "metadata": {},
          "execution_count": 56
        }
      ]
    },
    {
      "cell_type": "code",
      "source": [
        "sorted(moby[:10])"
      ],
      "metadata": {
        "colab": {
          "base_uri": "https://localhost:8080/"
        },
        "id": "YtXT8z9rgibD",
        "outputId": "73bfd998-a9db-4200-9880-e478140afc35"
      },
      "execution_count": 57,
      "outputs": [
        {
          "output_type": "execute_result",
          "data": {
            "text/plain": [
              "['.',\n",
              " '1851',\n",
              " 'Dick',\n",
              " 'ETYMOLOGY',\n",
              " 'Herman',\n",
              " 'Melville',\n",
              " 'Moby',\n",
              " '[',\n",
              " ']',\n",
              " 'by']"
            ]
          },
          "metadata": {},
          "execution_count": 57
        }
      ]
    },
    {
      "cell_type": "code",
      "source": [
        "sorted(moby)[:10]"
      ],
      "metadata": {
        "colab": {
          "base_uri": "https://localhost:8080/"
        },
        "id": "i9bWg4jJgvCA",
        "outputId": "d13df8a9-45de-4271-92b7-5379c52b655e"
      },
      "execution_count": 58,
      "outputs": [
        {
          "output_type": "execute_result",
          "data": {
            "text/plain": [
              "['!', '!', '!', '!', '!', '!', '!', '!', '!', '!']"
            ]
          },
          "metadata": {},
          "execution_count": 58
        }
      ]
    },
    {
      "cell_type": "markdown",
      "source": [
        "### Quiz 1\n",
        "- text6 가져와서 토큰을 변수에 담고\n",
        "- 중복 없는 셋으로 저장하고 내림차순\n",
        " - 앞에서 10개 단어 출력\n",
        " - 단어에 z가 있으면 대문자로 바꾸시오\n",
        " - z가 없는데 4자 이상이면 끝 글자를 대문자로 바꾸라.\n",
        "\n"
      ],
      "metadata": {
        "id": "XTx0VTN_gyzo"
      }
    },
    {
      "cell_type": "code",
      "source": [
        "text_6 = book.text6\n",
        "set(text_6)\n",
        "text_6 = sorted(text_6[:10], reverse = True)\n",
        "print(text_6)\n",
        "\n",
        "for i in range(len(text_6)):\n",
        "  if 'z' in text_6[i]:\n",
        "    text_6[i] = word.replace('z', 'Z')\n",
        "  elif len(text_6[i]) >= 4:\n",
        "    text_6[i] = word.replace(word[-1],word[-1].upper())\n",
        "\n",
        "text_6\n",
        "\n",
        "\n",
        "    \n",
        "\n"
      ],
      "metadata": {
        "colab": {
          "base_uri": "https://localhost:8080/"
        },
        "id": "zgjmr_9Y_jBh",
        "outputId": "2850acfb-a904-4235-d929-adb88d1af277"
      },
      "execution_count": 59,
      "outputs": [
        {
          "output_type": "stream",
          "name": "stdout",
          "text": [
            "['wind', 'clop', 'clop', 'clop', ']', '[', '[', 'SCENE', ':', '1']\n"
          ]
        },
        {
          "output_type": "execute_result",
          "data": {
            "text/plain": [
              "['applE', 'applE', 'applE', 'applE', ']', '[', '[', 'applE', ':', '1']"
            ]
          },
          "metadata": {},
          "execution_count": 59
        }
      ]
    },
    {
      "cell_type": "markdown",
      "source": [
        "\n",
        "### Quiz 2\n",
        "- 주민번호, 휴대폰 번호, 이메일 주소 입력받는다.\n",
        "- 주민번호, 휴대폰 번호는 숫자만 입력 받는다 (-없이)\n",
        "- 이메일 주소는 아이디만 입력받는다. (@,, 없이)\n",
        " - 1.\"당신은 {}년 {}월 {}일 출생의 {남성/여성}입니다.\"\n",
        " - 2. 휴대폰 번호: 000-0000-0000\n",
        " - 3. 이메일주소: xxxx@gmail.com\n",
        " "
      ],
      "metadata": {
        "id": "06XAEKSv_Yzt"
      }
    },
    {
      "cell_type": "code",
      "source": [
        "resident_num = input('주민번호를 입력하세요(하이픈 없이 입력): ')\n",
        "phone_num = input('휴대폰 번호를 입력하세요(하이픈 없이 입력): ')\n",
        "email = input('이메일 주소를 입력하세요(아이디만 입력): ')\n",
        "\n",
        "year = resident_num[:2]\n",
        "month = resident_num[2:4]\n",
        "day = resident_num[4:6]\n",
        "\n",
        "if resident_num == 2 or resident_num == 4:\n",
        "  gender = '여성'\n",
        "else:\n",
        "  gender = '남성'\n",
        "\n",
        "print(f'당신은 20{year}년 {month}월 {day}일 출생의 {gender}입니다.')\n",
        "print(f'휴대폰 번호: {phone_num[0:3]}-{phone_num[3:7]}-{phone_num[7:]}')\n",
        "print(f'이메일 주소: {email}@gmail.com')\n"
      ],
      "metadata": {
        "colab": {
          "base_uri": "https://localhost:8080/"
        },
        "id": "a8bUJ51mhsq2",
        "outputId": "f2e69ecf-7468-4c1a-d5e7-e317403bd62b"
      },
      "execution_count": 61,
      "outputs": [
        {
          "output_type": "stream",
          "name": "stdout",
          "text": [
            "주민번호를 입력하세요(하이픈 없이 입력): 0211031111111\n",
            "휴대폰 번호를 입력하세요(하이픈 없이 입력): 01012345678\n",
            "이메일 주소를 입력하세요(아이디만 입력): nuan\n",
            "당신은 2002년 11월 03일 출생의 남성입니다.\n",
            "휴대폰 번호: 010-1234-5678\n",
            "이메일 주소: nuan@gmail.com\n"
          ]
        }
      ]
    },
    {
      "cell_type": "code",
      "source": [
        ""
      ],
      "metadata": {
        "id": "Sy62buDhScTi"
      },
      "execution_count": null,
      "outputs": []
    }
  ]
}